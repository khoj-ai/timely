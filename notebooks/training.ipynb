{
  "cells": [
    {
      "cell_type": "markdown",
      "source": [
        "### Dependencies to Install / Initial Checks\n",
        "\n",
        "\n",
        "\n"
      ],
      "metadata": {
        "id": "1dKXtD9XIdMr"
      },
      "id": "1dKXtD9XIdMr"
    },
    {
      "cell_type": "code",
      "id": "xxunWNPsEECo6bl67LaOD1YP",
      "metadata": {
        "tags": [],
        "id": "xxunWNPsEECo6bl67LaOD1YP",
        "collapsed": true,
        "colab": {
          "base_uri": "https://localhost:8080/"
        },
        "outputId": "f5c92d98-b1bd-4719-9d96-03396191819d"
      },
      "source": [
        "!pip3 install datasets\n",
        "!pip install numpy\n",
        "!pip install sentence_transformers\n",
        "!pip install --upgrade torch torchvision torchaudio\n",
        "!pip install --upgrade transformers sentence-transformers\n",
        "import torch\n",
        "from datasets import Dataset\n",
        "from sentence_transformers import (\n",
        "    SentenceTransformer,\n",
        "    SentenceTransformerTrainer,\n",
        "    SentenceTransformerTrainingArguments,\n",
        "    SentenceTransformerModelCardData,\n",
        ")\n",
        "from sentence_transformers.losses import MultipleNegativesRankingLoss\n",
        "from sentence_transformers.training_args import BatchSamplers, ParallelMode\n",
        "from sentence_transformers.evaluation import TripletEvaluator\n",
        "! pip install -U accelerate\n",
        "! pip install -U transformers\n",
        "import accelerate\n",
        "import os"
      ],
      "execution_count": null,
      "outputs": [
        {
          "output_type": "stream",
          "name": "stdout",
          "text": [
            "Requirement already satisfied: datasets in /usr/local/lib/python3.10/dist-packages (2.20.0)\n",
            "Requirement already satisfied: filelock in /usr/local/lib/python3.10/dist-packages (from datasets) (3.15.3)\n",
            "Requirement already satisfied: numpy>=1.17 in /usr/local/lib/python3.10/dist-packages (from datasets) (1.25.2)\n",
            "Requirement already satisfied: pyarrow>=15.0.0 in /usr/local/lib/python3.10/dist-packages (from datasets) (16.1.0)\n",
            "Requirement already satisfied: pyarrow-hotfix in /usr/local/lib/python3.10/dist-packages (from datasets) (0.6)\n",
            "Requirement already satisfied: dill<0.3.9,>=0.3.0 in /usr/local/lib/python3.10/dist-packages (from datasets) (0.3.8)\n",
            "Requirement already satisfied: pandas in /usr/local/lib/python3.10/dist-packages (from datasets) (2.0.3)\n",
            "Requirement already satisfied: requests>=2.32.2 in /usr/local/lib/python3.10/dist-packages (from datasets) (2.32.3)\n",
            "Requirement already satisfied: tqdm>=4.66.3 in /usr/local/lib/python3.10/dist-packages (from datasets) (4.66.4)\n",
            "Requirement already satisfied: xxhash in /usr/local/lib/python3.10/dist-packages (from datasets) (3.4.1)\n",
            "Requirement already satisfied: multiprocess in /usr/local/lib/python3.10/dist-packages (from datasets) (0.70.16)\n",
            "Requirement already satisfied: fsspec[http]<=2024.5.0,>=2023.1.0 in /usr/local/lib/python3.10/dist-packages (from datasets) (2023.6.0)\n",
            "Requirement already satisfied: aiohttp in /usr/local/lib/python3.10/dist-packages (from datasets) (3.9.5)\n",
            "Requirement already satisfied: huggingface-hub>=0.21.2 in /usr/local/lib/python3.10/dist-packages (from datasets) (0.23.4)\n",
            "Requirement already satisfied: packaging in /usr/local/lib/python3.10/dist-packages (from datasets) (24.1)\n",
            "Requirement already satisfied: pyyaml>=5.1 in /usr/local/lib/python3.10/dist-packages (from datasets) (6.0.1)\n",
            "Requirement already satisfied: aiosignal>=1.1.2 in /usr/local/lib/python3.10/dist-packages (from aiohttp->datasets) (1.3.1)\n",
            "Requirement already satisfied: attrs>=17.3.0 in /usr/local/lib/python3.10/dist-packages (from aiohttp->datasets) (23.2.0)\n",
            "Requirement already satisfied: frozenlist>=1.1.1 in /usr/local/lib/python3.10/dist-packages (from aiohttp->datasets) (1.4.1)\n",
            "Requirement already satisfied: multidict<7.0,>=4.5 in /usr/local/lib/python3.10/dist-packages (from aiohttp->datasets) (6.0.5)\n",
            "Requirement already satisfied: yarl<2.0,>=1.0 in /usr/local/lib/python3.10/dist-packages (from aiohttp->datasets) (1.9.4)\n",
            "Requirement already satisfied: async-timeout<5.0,>=4.0 in /usr/local/lib/python3.10/dist-packages (from aiohttp->datasets) (4.0.3)\n",
            "Requirement already satisfied: typing-extensions>=3.7.4.3 in /usr/local/lib/python3.10/dist-packages (from huggingface-hub>=0.21.2->datasets) (4.12.2)\n",
            "Requirement already satisfied: charset-normalizer<4,>=2 in /usr/local/lib/python3.10/dist-packages (from requests>=2.32.2->datasets) (3.3.2)\n",
            "Requirement already satisfied: idna<4,>=2.5 in /usr/local/lib/python3.10/dist-packages (from requests>=2.32.2->datasets) (3.7)\n",
            "Requirement already satisfied: urllib3<3,>=1.21.1 in /usr/local/lib/python3.10/dist-packages (from requests>=2.32.2->datasets) (2.0.7)\n",
            "Requirement already satisfied: certifi>=2017.4.17 in /usr/local/lib/python3.10/dist-packages (from requests>=2.32.2->datasets) (2024.6.2)\n",
            "Requirement already satisfied: python-dateutil>=2.8.2 in /usr/local/lib/python3.10/dist-packages (from pandas->datasets) (2.8.2)\n",
            "Requirement already satisfied: pytz>=2020.1 in /usr/local/lib/python3.10/dist-packages (from pandas->datasets) (2023.4)\n",
            "Requirement already satisfied: tzdata>=2022.1 in /usr/local/lib/python3.10/dist-packages (from pandas->datasets) (2024.1)\n",
            "Requirement already satisfied: six>=1.5 in /usr/local/lib/python3.10/dist-packages (from python-dateutil>=2.8.2->pandas->datasets) (1.16.0)\n",
            "Requirement already satisfied: numpy in /usr/local/lib/python3.10/dist-packages (1.25.2)\n",
            "Requirement already satisfied: sentence_transformers in /usr/local/lib/python3.10/dist-packages (3.0.1)\n",
            "Requirement already satisfied: transformers<5.0.0,>=4.34.0 in /usr/local/lib/python3.10/dist-packages (from sentence_transformers) (4.41.2)\n",
            "Requirement already satisfied: tqdm in /usr/local/lib/python3.10/dist-packages (from sentence_transformers) (4.66.4)\n",
            "Requirement already satisfied: torch>=1.11.0 in /usr/local/lib/python3.10/dist-packages (from sentence_transformers) (2.3.1)\n",
            "Requirement already satisfied: numpy in /usr/local/lib/python3.10/dist-packages (from sentence_transformers) (1.25.2)\n",
            "Requirement already satisfied: scikit-learn in /usr/local/lib/python3.10/dist-packages (from sentence_transformers) (1.2.2)\n",
            "Requirement already satisfied: scipy in /usr/local/lib/python3.10/dist-packages (from sentence_transformers) (1.11.4)\n",
            "Requirement already satisfied: huggingface-hub>=0.15.1 in /usr/local/lib/python3.10/dist-packages (from sentence_transformers) (0.23.4)\n",
            "Requirement already satisfied: Pillow in /usr/local/lib/python3.10/dist-packages (from sentence_transformers) (9.4.0)\n",
            "Requirement already satisfied: filelock in /usr/local/lib/python3.10/dist-packages (from huggingface-hub>=0.15.1->sentence_transformers) (3.15.3)\n",
            "Requirement already satisfied: fsspec>=2023.5.0 in /usr/local/lib/python3.10/dist-packages (from huggingface-hub>=0.15.1->sentence_transformers) (2023.6.0)\n",
            "Requirement already satisfied: packaging>=20.9 in /usr/local/lib/python3.10/dist-packages (from huggingface-hub>=0.15.1->sentence_transformers) (24.1)\n",
            "Requirement already satisfied: pyyaml>=5.1 in /usr/local/lib/python3.10/dist-packages (from huggingface-hub>=0.15.1->sentence_transformers) (6.0.1)\n",
            "Requirement already satisfied: requests in /usr/local/lib/python3.10/dist-packages (from huggingface-hub>=0.15.1->sentence_transformers) (2.32.3)\n",
            "Requirement already satisfied: typing-extensions>=3.7.4.3 in /usr/local/lib/python3.10/dist-packages (from huggingface-hub>=0.15.1->sentence_transformers) (4.12.2)\n",
            "Requirement already satisfied: sympy in /usr/local/lib/python3.10/dist-packages (from torch>=1.11.0->sentence_transformers) (1.12.1)\n",
            "Requirement already satisfied: networkx in /usr/local/lib/python3.10/dist-packages (from torch>=1.11.0->sentence_transformers) (3.3)\n",
            "Requirement already satisfied: jinja2 in /usr/local/lib/python3.10/dist-packages (from torch>=1.11.0->sentence_transformers) (3.1.4)\n",
            "Requirement already satisfied: nvidia-cuda-nvrtc-cu12==12.1.105 in /usr/local/lib/python3.10/dist-packages (from torch>=1.11.0->sentence_transformers) (12.1.105)\n",
            "Requirement already satisfied: nvidia-cuda-runtime-cu12==12.1.105 in /usr/local/lib/python3.10/dist-packages (from torch>=1.11.0->sentence_transformers) (12.1.105)\n",
            "Requirement already satisfied: nvidia-cuda-cupti-cu12==12.1.105 in /usr/local/lib/python3.10/dist-packages (from torch>=1.11.0->sentence_transformers) (12.1.105)\n",
            "Requirement already satisfied: nvidia-cudnn-cu12==8.9.2.26 in /usr/local/lib/python3.10/dist-packages (from torch>=1.11.0->sentence_transformers) (8.9.2.26)\n",
            "Requirement already satisfied: nvidia-cublas-cu12==12.1.3.1 in /usr/local/lib/python3.10/dist-packages (from torch>=1.11.0->sentence_transformers) (12.1.3.1)\n",
            "Requirement already satisfied: nvidia-cufft-cu12==11.0.2.54 in /usr/local/lib/python3.10/dist-packages (from torch>=1.11.0->sentence_transformers) (11.0.2.54)\n",
            "Requirement already satisfied: nvidia-curand-cu12==10.3.2.106 in /usr/local/lib/python3.10/dist-packages (from torch>=1.11.0->sentence_transformers) (10.3.2.106)\n",
            "Requirement already satisfied: nvidia-cusolver-cu12==11.4.5.107 in /usr/local/lib/python3.10/dist-packages (from torch>=1.11.0->sentence_transformers) (11.4.5.107)\n",
            "Requirement already satisfied: nvidia-cusparse-cu12==12.1.0.106 in /usr/local/lib/python3.10/dist-packages (from torch>=1.11.0->sentence_transformers) (12.1.0.106)\n",
            "Requirement already satisfied: nvidia-nccl-cu12==2.20.5 in /usr/local/lib/python3.10/dist-packages (from torch>=1.11.0->sentence_transformers) (2.20.5)\n",
            "Requirement already satisfied: nvidia-nvtx-cu12==12.1.105 in /usr/local/lib/python3.10/dist-packages (from torch>=1.11.0->sentence_transformers) (12.1.105)\n",
            "Requirement already satisfied: triton==2.3.1 in /usr/local/lib/python3.10/dist-packages (from torch>=1.11.0->sentence_transformers) (2.3.1)\n",
            "Requirement already satisfied: nvidia-nvjitlink-cu12 in /usr/local/lib/python3.10/dist-packages (from nvidia-cusolver-cu12==11.4.5.107->torch>=1.11.0->sentence_transformers) (12.5.40)\n",
            "Requirement already satisfied: regex!=2019.12.17 in /usr/local/lib/python3.10/dist-packages (from transformers<5.0.0,>=4.34.0->sentence_transformers) (2024.5.15)\n",
            "Requirement already satisfied: tokenizers<0.20,>=0.19 in /usr/local/lib/python3.10/dist-packages (from transformers<5.0.0,>=4.34.0->sentence_transformers) (0.19.1)\n",
            "Requirement already satisfied: safetensors>=0.4.1 in /usr/local/lib/python3.10/dist-packages (from transformers<5.0.0,>=4.34.0->sentence_transformers) (0.4.3)\n",
            "Requirement already satisfied: joblib>=1.1.1 in /usr/local/lib/python3.10/dist-packages (from scikit-learn->sentence_transformers) (1.4.2)\n",
            "Requirement already satisfied: threadpoolctl>=2.0.0 in /usr/local/lib/python3.10/dist-packages (from scikit-learn->sentence_transformers) (3.5.0)\n",
            "Requirement already satisfied: MarkupSafe>=2.0 in /usr/local/lib/python3.10/dist-packages (from jinja2->torch>=1.11.0->sentence_transformers) (2.1.5)\n",
            "Requirement already satisfied: charset-normalizer<4,>=2 in /usr/local/lib/python3.10/dist-packages (from requests->huggingface-hub>=0.15.1->sentence_transformers) (3.3.2)\n",
            "Requirement already satisfied: idna<4,>=2.5 in /usr/local/lib/python3.10/dist-packages (from requests->huggingface-hub>=0.15.1->sentence_transformers) (3.7)\n",
            "Requirement already satisfied: urllib3<3,>=1.21.1 in /usr/local/lib/python3.10/dist-packages (from requests->huggingface-hub>=0.15.1->sentence_transformers) (2.0.7)\n",
            "Requirement already satisfied: certifi>=2017.4.17 in /usr/local/lib/python3.10/dist-packages (from requests->huggingface-hub>=0.15.1->sentence_transformers) (2024.6.2)\n",
            "Requirement already satisfied: mpmath<1.4.0,>=1.1.0 in /usr/local/lib/python3.10/dist-packages (from sympy->torch>=1.11.0->sentence_transformers) (1.3.0)\n",
            "Requirement already satisfied: torch in /usr/local/lib/python3.10/dist-packages (2.3.1)\n",
            "Requirement already satisfied: torchvision in /usr/local/lib/python3.10/dist-packages (0.18.1)\n",
            "Requirement already satisfied: torchaudio in /usr/local/lib/python3.10/dist-packages (2.3.1)\n",
            "Requirement already satisfied: filelock in /usr/local/lib/python3.10/dist-packages (from torch) (3.15.3)\n",
            "Requirement already satisfied: typing-extensions>=4.8.0 in /usr/local/lib/python3.10/dist-packages (from torch) (4.12.2)\n",
            "Requirement already satisfied: sympy in /usr/local/lib/python3.10/dist-packages (from torch) (1.12.1)\n",
            "Requirement already satisfied: networkx in /usr/local/lib/python3.10/dist-packages (from torch) (3.3)\n",
            "Requirement already satisfied: jinja2 in /usr/local/lib/python3.10/dist-packages (from torch) (3.1.4)\n",
            "Requirement already satisfied: fsspec in /usr/local/lib/python3.10/dist-packages (from torch) (2023.6.0)\n",
            "Requirement already satisfied: nvidia-cuda-nvrtc-cu12==12.1.105 in /usr/local/lib/python3.10/dist-packages (from torch) (12.1.105)\n",
            "Requirement already satisfied: nvidia-cuda-runtime-cu12==12.1.105 in /usr/local/lib/python3.10/dist-packages (from torch) (12.1.105)\n",
            "Requirement already satisfied: nvidia-cuda-cupti-cu12==12.1.105 in /usr/local/lib/python3.10/dist-packages (from torch) (12.1.105)\n",
            "Requirement already satisfied: nvidia-cudnn-cu12==8.9.2.26 in /usr/local/lib/python3.10/dist-packages (from torch) (8.9.2.26)\n",
            "Requirement already satisfied: nvidia-cublas-cu12==12.1.3.1 in /usr/local/lib/python3.10/dist-packages (from torch) (12.1.3.1)\n",
            "Requirement already satisfied: nvidia-cufft-cu12==11.0.2.54 in /usr/local/lib/python3.10/dist-packages (from torch) (11.0.2.54)\n",
            "Requirement already satisfied: nvidia-curand-cu12==10.3.2.106 in /usr/local/lib/python3.10/dist-packages (from torch) (10.3.2.106)\n",
            "Requirement already satisfied: nvidia-cusolver-cu12==11.4.5.107 in /usr/local/lib/python3.10/dist-packages (from torch) (11.4.5.107)\n",
            "Requirement already satisfied: nvidia-cusparse-cu12==12.1.0.106 in /usr/local/lib/python3.10/dist-packages (from torch) (12.1.0.106)\n",
            "Requirement already satisfied: nvidia-nccl-cu12==2.20.5 in /usr/local/lib/python3.10/dist-packages (from torch) (2.20.5)\n",
            "Requirement already satisfied: nvidia-nvtx-cu12==12.1.105 in /usr/local/lib/python3.10/dist-packages (from torch) (12.1.105)\n",
            "Requirement already satisfied: triton==2.3.1 in /usr/local/lib/python3.10/dist-packages (from torch) (2.3.1)\n",
            "Requirement already satisfied: nvidia-nvjitlink-cu12 in /usr/local/lib/python3.10/dist-packages (from nvidia-cusolver-cu12==11.4.5.107->torch) (12.5.40)\n",
            "Requirement already satisfied: numpy in /usr/local/lib/python3.10/dist-packages (from torchvision) (1.25.2)\n",
            "Requirement already satisfied: pillow!=8.3.*,>=5.3.0 in /usr/local/lib/python3.10/dist-packages (from torchvision) (9.4.0)\n",
            "Requirement already satisfied: MarkupSafe>=2.0 in /usr/local/lib/python3.10/dist-packages (from jinja2->torch) (2.1.5)\n",
            "Requirement already satisfied: mpmath<1.4.0,>=1.1.0 in /usr/local/lib/python3.10/dist-packages (from sympy->torch) (1.3.0)\n",
            "Requirement already satisfied: transformers in /usr/local/lib/python3.10/dist-packages (4.41.2)\n",
            "Requirement already satisfied: sentence-transformers in /usr/local/lib/python3.10/dist-packages (3.0.1)\n",
            "Requirement already satisfied: filelock in /usr/local/lib/python3.10/dist-packages (from transformers) (3.15.3)\n",
            "Requirement already satisfied: huggingface-hub<1.0,>=0.23.0 in /usr/local/lib/python3.10/dist-packages (from transformers) (0.23.4)\n",
            "Requirement already satisfied: numpy>=1.17 in /usr/local/lib/python3.10/dist-packages (from transformers) (1.25.2)\n",
            "Requirement already satisfied: packaging>=20.0 in /usr/local/lib/python3.10/dist-packages (from transformers) (24.1)\n",
            "Requirement already satisfied: pyyaml>=5.1 in /usr/local/lib/python3.10/dist-packages (from transformers) (6.0.1)\n",
            "Requirement already satisfied: regex!=2019.12.17 in /usr/local/lib/python3.10/dist-packages (from transformers) (2024.5.15)\n",
            "Requirement already satisfied: requests in /usr/local/lib/python3.10/dist-packages (from transformers) (2.32.3)\n",
            "Requirement already satisfied: tokenizers<0.20,>=0.19 in /usr/local/lib/python3.10/dist-packages (from transformers) (0.19.1)\n",
            "Requirement already satisfied: safetensors>=0.4.1 in /usr/local/lib/python3.10/dist-packages (from transformers) (0.4.3)\n",
            "Requirement already satisfied: tqdm>=4.27 in /usr/local/lib/python3.10/dist-packages (from transformers) (4.66.4)\n",
            "Requirement already satisfied: torch>=1.11.0 in /usr/local/lib/python3.10/dist-packages (from sentence-transformers) (2.3.1)\n",
            "Requirement already satisfied: scikit-learn in /usr/local/lib/python3.10/dist-packages (from sentence-transformers) (1.2.2)\n",
            "Requirement already satisfied: scipy in /usr/local/lib/python3.10/dist-packages (from sentence-transformers) (1.11.4)\n",
            "Requirement already satisfied: Pillow in /usr/local/lib/python3.10/dist-packages (from sentence-transformers) (9.4.0)\n",
            "Requirement already satisfied: fsspec>=2023.5.0 in /usr/local/lib/python3.10/dist-packages (from huggingface-hub<1.0,>=0.23.0->transformers) (2023.6.0)\n",
            "Requirement already satisfied: typing-extensions>=3.7.4.3 in /usr/local/lib/python3.10/dist-packages (from huggingface-hub<1.0,>=0.23.0->transformers) (4.12.2)\n",
            "Requirement already satisfied: sympy in /usr/local/lib/python3.10/dist-packages (from torch>=1.11.0->sentence-transformers) (1.12.1)\n",
            "Requirement already satisfied: networkx in /usr/local/lib/python3.10/dist-packages (from torch>=1.11.0->sentence-transformers) (3.3)\n",
            "Requirement already satisfied: jinja2 in /usr/local/lib/python3.10/dist-packages (from torch>=1.11.0->sentence-transformers) (3.1.4)\n",
            "Requirement already satisfied: nvidia-cuda-nvrtc-cu12==12.1.105 in /usr/local/lib/python3.10/dist-packages (from torch>=1.11.0->sentence-transformers) (12.1.105)\n",
            "Requirement already satisfied: nvidia-cuda-runtime-cu12==12.1.105 in /usr/local/lib/python3.10/dist-packages (from torch>=1.11.0->sentence-transformers) (12.1.105)\n",
            "Requirement already satisfied: nvidia-cuda-cupti-cu12==12.1.105 in /usr/local/lib/python3.10/dist-packages (from torch>=1.11.0->sentence-transformers) (12.1.105)\n",
            "Requirement already satisfied: nvidia-cudnn-cu12==8.9.2.26 in /usr/local/lib/python3.10/dist-packages (from torch>=1.11.0->sentence-transformers) (8.9.2.26)\n",
            "Requirement already satisfied: nvidia-cublas-cu12==12.1.3.1 in /usr/local/lib/python3.10/dist-packages (from torch>=1.11.0->sentence-transformers) (12.1.3.1)\n",
            "Requirement already satisfied: nvidia-cufft-cu12==11.0.2.54 in /usr/local/lib/python3.10/dist-packages (from torch>=1.11.0->sentence-transformers) (11.0.2.54)\n",
            "Requirement already satisfied: nvidia-curand-cu12==10.3.2.106 in /usr/local/lib/python3.10/dist-packages (from torch>=1.11.0->sentence-transformers) (10.3.2.106)\n",
            "Requirement already satisfied: nvidia-cusolver-cu12==11.4.5.107 in /usr/local/lib/python3.10/dist-packages (from torch>=1.11.0->sentence-transformers) (11.4.5.107)\n",
            "Requirement already satisfied: nvidia-cusparse-cu12==12.1.0.106 in /usr/local/lib/python3.10/dist-packages (from torch>=1.11.0->sentence-transformers) (12.1.0.106)\n",
            "Requirement already satisfied: nvidia-nccl-cu12==2.20.5 in /usr/local/lib/python3.10/dist-packages (from torch>=1.11.0->sentence-transformers) (2.20.5)\n",
            "Requirement already satisfied: nvidia-nvtx-cu12==12.1.105 in /usr/local/lib/python3.10/dist-packages (from torch>=1.11.0->sentence-transformers) (12.1.105)\n",
            "Requirement already satisfied: triton==2.3.1 in /usr/local/lib/python3.10/dist-packages (from torch>=1.11.0->sentence-transformers) (2.3.1)\n",
            "Requirement already satisfied: nvidia-nvjitlink-cu12 in /usr/local/lib/python3.10/dist-packages (from nvidia-cusolver-cu12==11.4.5.107->torch>=1.11.0->sentence-transformers) (12.5.40)\n",
            "Requirement already satisfied: charset-normalizer<4,>=2 in /usr/local/lib/python3.10/dist-packages (from requests->transformers) (3.3.2)\n",
            "Requirement already satisfied: idna<4,>=2.5 in /usr/local/lib/python3.10/dist-packages (from requests->transformers) (3.7)\n",
            "Requirement already satisfied: urllib3<3,>=1.21.1 in /usr/local/lib/python3.10/dist-packages (from requests->transformers) (2.0.7)\n",
            "Requirement already satisfied: certifi>=2017.4.17 in /usr/local/lib/python3.10/dist-packages (from requests->transformers) (2024.6.2)\n",
            "Requirement already satisfied: joblib>=1.1.1 in /usr/local/lib/python3.10/dist-packages (from scikit-learn->sentence-transformers) (1.4.2)\n",
            "Requirement already satisfied: threadpoolctl>=2.0.0 in /usr/local/lib/python3.10/dist-packages (from scikit-learn->sentence-transformers) (3.5.0)\n",
            "Requirement already satisfied: MarkupSafe>=2.0 in /usr/local/lib/python3.10/dist-packages (from jinja2->torch>=1.11.0->sentence-transformers) (2.1.5)\n",
            "Requirement already satisfied: mpmath<1.4.0,>=1.1.0 in /usr/local/lib/python3.10/dist-packages (from sympy->torch>=1.11.0->sentence-transformers) (1.3.0)\n",
            "Requirement already satisfied: accelerate in /usr/local/lib/python3.10/dist-packages (0.31.0)\n",
            "Requirement already satisfied: numpy>=1.17 in /usr/local/lib/python3.10/dist-packages (from accelerate) (1.25.2)\n",
            "Requirement already satisfied: packaging>=20.0 in /usr/local/lib/python3.10/dist-packages (from accelerate) (24.1)\n",
            "Requirement already satisfied: psutil in /usr/local/lib/python3.10/dist-packages (from accelerate) (5.9.5)\n",
            "Requirement already satisfied: pyyaml in /usr/local/lib/python3.10/dist-packages (from accelerate) (6.0.1)\n",
            "Requirement already satisfied: torch>=1.10.0 in /usr/local/lib/python3.10/dist-packages (from accelerate) (2.3.1)\n",
            "Requirement already satisfied: huggingface-hub in /usr/local/lib/python3.10/dist-packages (from accelerate) (0.23.4)\n",
            "Requirement already satisfied: safetensors>=0.3.1 in /usr/local/lib/python3.10/dist-packages (from accelerate) (0.4.3)\n",
            "Requirement already satisfied: filelock in /usr/local/lib/python3.10/dist-packages (from torch>=1.10.0->accelerate) (3.15.3)\n",
            "Requirement already satisfied: typing-extensions>=4.8.0 in /usr/local/lib/python3.10/dist-packages (from torch>=1.10.0->accelerate) (4.12.2)\n",
            "Requirement already satisfied: sympy in /usr/local/lib/python3.10/dist-packages (from torch>=1.10.0->accelerate) (1.12.1)\n",
            "Requirement already satisfied: networkx in /usr/local/lib/python3.10/dist-packages (from torch>=1.10.0->accelerate) (3.3)\n",
            "Requirement already satisfied: jinja2 in /usr/local/lib/python3.10/dist-packages (from torch>=1.10.0->accelerate) (3.1.4)\n",
            "Requirement already satisfied: fsspec in /usr/local/lib/python3.10/dist-packages (from torch>=1.10.0->accelerate) (2023.6.0)\n",
            "Requirement already satisfied: nvidia-cuda-nvrtc-cu12==12.1.105 in /usr/local/lib/python3.10/dist-packages (from torch>=1.10.0->accelerate) (12.1.105)\n",
            "Requirement already satisfied: nvidia-cuda-runtime-cu12==12.1.105 in /usr/local/lib/python3.10/dist-packages (from torch>=1.10.0->accelerate) (12.1.105)\n",
            "Requirement already satisfied: nvidia-cuda-cupti-cu12==12.1.105 in /usr/local/lib/python3.10/dist-packages (from torch>=1.10.0->accelerate) (12.1.105)\n",
            "Requirement already satisfied: nvidia-cudnn-cu12==8.9.2.26 in /usr/local/lib/python3.10/dist-packages (from torch>=1.10.0->accelerate) (8.9.2.26)\n",
            "Requirement already satisfied: nvidia-cublas-cu12==12.1.3.1 in /usr/local/lib/python3.10/dist-packages (from torch>=1.10.0->accelerate) (12.1.3.1)\n",
            "Requirement already satisfied: nvidia-cufft-cu12==11.0.2.54 in /usr/local/lib/python3.10/dist-packages (from torch>=1.10.0->accelerate) (11.0.2.54)\n",
            "Requirement already satisfied: nvidia-curand-cu12==10.3.2.106 in /usr/local/lib/python3.10/dist-packages (from torch>=1.10.0->accelerate) (10.3.2.106)\n",
            "Requirement already satisfied: nvidia-cusolver-cu12==11.4.5.107 in /usr/local/lib/python3.10/dist-packages (from torch>=1.10.0->accelerate) (11.4.5.107)\n",
            "Requirement already satisfied: nvidia-cusparse-cu12==12.1.0.106 in /usr/local/lib/python3.10/dist-packages (from torch>=1.10.0->accelerate) (12.1.0.106)\n",
            "Requirement already satisfied: nvidia-nccl-cu12==2.20.5 in /usr/local/lib/python3.10/dist-packages (from torch>=1.10.0->accelerate) (2.20.5)\n",
            "Requirement already satisfied: nvidia-nvtx-cu12==12.1.105 in /usr/local/lib/python3.10/dist-packages (from torch>=1.10.0->accelerate) (12.1.105)\n",
            "Requirement already satisfied: triton==2.3.1 in /usr/local/lib/python3.10/dist-packages (from torch>=1.10.0->accelerate) (2.3.1)\n",
            "Requirement already satisfied: nvidia-nvjitlink-cu12 in /usr/local/lib/python3.10/dist-packages (from nvidia-cusolver-cu12==11.4.5.107->torch>=1.10.0->accelerate) (12.5.40)\n",
            "Requirement already satisfied: requests in /usr/local/lib/python3.10/dist-packages (from huggingface-hub->accelerate) (2.32.3)\n",
            "Requirement already satisfied: tqdm>=4.42.1 in /usr/local/lib/python3.10/dist-packages (from huggingface-hub->accelerate) (4.66.4)\n",
            "Requirement already satisfied: MarkupSafe>=2.0 in /usr/local/lib/python3.10/dist-packages (from jinja2->torch>=1.10.0->accelerate) (2.1.5)\n",
            "Requirement already satisfied: charset-normalizer<4,>=2 in /usr/local/lib/python3.10/dist-packages (from requests->huggingface-hub->accelerate) (3.3.2)\n",
            "Requirement already satisfied: idna<4,>=2.5 in /usr/local/lib/python3.10/dist-packages (from requests->huggingface-hub->accelerate) (3.7)\n",
            "Requirement already satisfied: urllib3<3,>=1.21.1 in /usr/local/lib/python3.10/dist-packages (from requests->huggingface-hub->accelerate) (2.0.7)\n",
            "Requirement already satisfied: certifi>=2017.4.17 in /usr/local/lib/python3.10/dist-packages (from requests->huggingface-hub->accelerate) (2024.6.2)\n",
            "Requirement already satisfied: mpmath<1.4.0,>=1.1.0 in /usr/local/lib/python3.10/dist-packages (from sympy->torch>=1.10.0->accelerate) (1.3.0)\n",
            "Requirement already satisfied: transformers in /usr/local/lib/python3.10/dist-packages (4.41.2)\n",
            "Requirement already satisfied: filelock in /usr/local/lib/python3.10/dist-packages (from transformers) (3.15.3)\n",
            "Requirement already satisfied: huggingface-hub<1.0,>=0.23.0 in /usr/local/lib/python3.10/dist-packages (from transformers) (0.23.4)\n",
            "Requirement already satisfied: numpy>=1.17 in /usr/local/lib/python3.10/dist-packages (from transformers) (1.25.2)\n",
            "Requirement already satisfied: packaging>=20.0 in /usr/local/lib/python3.10/dist-packages (from transformers) (24.1)\n",
            "Requirement already satisfied: pyyaml>=5.1 in /usr/local/lib/python3.10/dist-packages (from transformers) (6.0.1)\n",
            "Requirement already satisfied: regex!=2019.12.17 in /usr/local/lib/python3.10/dist-packages (from transformers) (2024.5.15)\n",
            "Requirement already satisfied: requests in /usr/local/lib/python3.10/dist-packages (from transformers) (2.32.3)\n",
            "Requirement already satisfied: tokenizers<0.20,>=0.19 in /usr/local/lib/python3.10/dist-packages (from transformers) (0.19.1)\n",
            "Requirement already satisfied: safetensors>=0.4.1 in /usr/local/lib/python3.10/dist-packages (from transformers) (0.4.3)\n",
            "Requirement already satisfied: tqdm>=4.27 in /usr/local/lib/python3.10/dist-packages (from transformers) (4.66.4)\n",
            "Requirement already satisfied: fsspec>=2023.5.0 in /usr/local/lib/python3.10/dist-packages (from huggingface-hub<1.0,>=0.23.0->transformers) (2023.6.0)\n",
            "Requirement already satisfied: typing-extensions>=3.7.4.3 in /usr/local/lib/python3.10/dist-packages (from huggingface-hub<1.0,>=0.23.0->transformers) (4.12.2)\n",
            "Requirement already satisfied: charset-normalizer<4,>=2 in /usr/local/lib/python3.10/dist-packages (from requests->transformers) (3.3.2)\n",
            "Requirement already satisfied: idna<4,>=2.5 in /usr/local/lib/python3.10/dist-packages (from requests->transformers) (3.7)\n",
            "Requirement already satisfied: urllib3<3,>=1.21.1 in /usr/local/lib/python3.10/dist-packages (from requests->transformers) (2.0.7)\n",
            "Requirement already satisfied: certifi>=2017.4.17 in /usr/local/lib/python3.10/dist-packages (from requests->transformers) (2024.6.2)\n"
          ]
        }
      ]
    },
    {
      "cell_type": "code",
      "source": [
        "!nvidia-smi"
      ],
      "metadata": {
        "colab": {
          "base_uri": "https://localhost:8080/"
        },
        "collapsed": true,
        "id": "m_utoR7ENMbS",
        "outputId": "179e37f2-f0b7-4e3f-cd49-817fc2935ccc"
      },
      "id": "m_utoR7ENMbS",
      "execution_count": null,
      "outputs": [
        {
          "output_type": "stream",
          "name": "stdout",
          "text": [
            "Tue Jun 25 04:07:04 2024       \n",
            "+---------------------------------------------------------------------------------------+\n",
            "| NVIDIA-SMI 535.104.05             Driver Version: 535.104.05   CUDA Version: 12.2     |\n",
            "|-----------------------------------------+----------------------+----------------------+\n",
            "| GPU  Name                 Persistence-M | Bus-Id        Disp.A | Volatile Uncorr. ECC |\n",
            "| Fan  Temp   Perf          Pwr:Usage/Cap |         Memory-Usage | GPU-Util  Compute M. |\n",
            "|                                         |                      |               MIG M. |\n",
            "|=========================================+======================+======================|\n",
            "|   0  Tesla T4                       Off | 00000000:00:04.0 Off |                    0 |\n",
            "| N/A   44C    P8              10W /  70W |      0MiB / 15360MiB |      0%      Default |\n",
            "|                                         |                      |                  N/A |\n",
            "+-----------------------------------------+----------------------+----------------------+\n",
            "                                                                                         \n",
            "+---------------------------------------------------------------------------------------+\n",
            "| Processes:                                                                            |\n",
            "|  GPU   GI   CI        PID   Type   Process name                            GPU Memory |\n",
            "|        ID   ID                                                             Usage      |\n",
            "|=======================================================================================|\n",
            "|  No running processes found                                                           |\n",
            "+---------------------------------------------------------------------------------------+\n"
          ]
        }
      ]
    },
    {
      "cell_type": "code",
      "source": [
        "# Make Sure GPU Instance is Working\n",
        "print(f\"CUDA available: {torch.cuda.is_available()}\")\n",
        "if torch.cuda.is_available():\n",
        "    try:\n",
        "        x = torch.tensor([1.0, 2.0, 3.0], device='cuda')\n",
        "        print(f\"Tensor on CUDA: {x}\")\n",
        "        torch.cuda.empty_cache()\n",
        "        print(\"torch.cuda.empty_cache() executed successfully.\")\n",
        "    except Exception as e:\n",
        "        print(f\"Error during CUDA operations: {e}\")"
      ],
      "metadata": {
        "colab": {
          "base_uri": "https://localhost:8080/"
        },
        "id": "3qtdKFicF91w",
        "outputId": "eaf76cf3-b5b1-4c48-dfc7-fece6c5c7a39"
      },
      "id": "3qtdKFicF91w",
      "execution_count": null,
      "outputs": [
        {
          "output_type": "stream",
          "name": "stdout",
          "text": [
            "CUDA available: True\n",
            "Tensor on CUDA: tensor([1., 2., 3.], device='cuda:0')\n",
            "torch.cuda.empty_cache() executed successfully.\n"
          ]
        }
      ]
    },
    {
      "cell_type": "markdown",
      "source": [
        "### Setting Up Dataset"
      ],
      "metadata": {
        "id": "Bfr_bR_ENo86"
      },
      "id": "Bfr_bR_ENo86"
    },
    {
      "cell_type": "code",
      "source": [
        "#if missing place this txt file from the gdrive folder into the main area or change path if storing at different location.\n",
        "file = open(\"/content/wikidateaware_v3_mini.txt\", \"r\")\n",
        "\n",
        "#dataset dictionary\n",
        "dataset = {}\n",
        "dataset[\"anchors\"] = []\n",
        "dataset[\"positive\"] = []\n",
        "\n",
        "#read dataset into dictionary\n",
        "for line in file.readlines():\n",
        "    if line == \"Query|Document\":\n",
        "      continue\n",
        "    else:\n",
        "      if \"|\" in line:\n",
        "        try:\n",
        "          vals = line.split(\"|\")\n",
        "          query = vals[0]\n",
        "          doc = vals[1]\n",
        "          dataset[\"anchors\"].append(\"search query: \" + query)\n",
        "          dataset[\"positive\"].append(\"search document: \" + doc)\n",
        "        except:\n",
        "          print(\"Error for line: \", line, line.count(\"|\"))\n",
        "dataset = Dataset.from_dict({\n",
        "    \"anchor\": dataset[\"anchors\"],\n",
        "    \"positive\": dataset[\"positive\"],\n",
        "})\n",
        "print(dataset)"
      ],
      "metadata": {
        "id": "DIel65c-Nthd",
        "colab": {
          "base_uri": "https://localhost:8080/"
        },
        "outputId": "3fd0f65b-8f7d-486e-8a6d-23cefbbee419"
      },
      "id": "DIel65c-Nthd",
      "execution_count": null,
      "outputs": [
        {
          "output_type": "stream",
          "name": "stdout",
          "text": [
            "Dataset({\n",
            "    features: ['anchor', 'positive'],\n",
            "    num_rows: 1513\n",
            "})\n"
          ]
        }
      ]
    },
    {
      "cell_type": "markdown",
      "source": [
        "### Training"
      ],
      "metadata": {
        "id": "kgZ6PJ5BRICw"
      },
      "id": "kgZ6PJ5BRICw"
    },
    {
      "cell_type": "code",
      "source": [
        "#loading nomic-ai/nomic-embed-text-v1 embeddings model for finetuning\n",
        "!pip install einops\n",
        "model = SentenceTransformer(\n",
        "    \"nomic-ai/nomic-embed-text-v1\",\n",
        "    trust_remote_code=True\n",
        ")"
      ],
      "metadata": {
        "colab": {
          "base_uri": "https://localhost:8080/"
        },
        "id": "xcrrXtQnTaD5",
        "outputId": "40b0b73a-5f6b-404f-c090-3567498fc18f",
        "collapsed": true
      },
      "id": "xcrrXtQnTaD5",
      "execution_count": null,
      "outputs": [
        {
          "output_type": "stream",
          "name": "stdout",
          "text": [
            "Requirement already satisfied: einops in /usr/local/lib/python3.10/dist-packages (0.8.0)\n"
          ]
        },
        {
          "output_type": "stream",
          "name": "stderr",
          "text": [
            "/usr/local/lib/python3.10/dist-packages/huggingface_hub/utils/_token.py:89: UserWarning: \n",
            "The secret `HF_TOKEN` does not exist in your Colab secrets.\n",
            "To authenticate with the Hugging Face Hub, create a token in your settings tab (https://huggingface.co/settings/tokens), set it as secret in your Google Colab and restart your session.\n",
            "You will be able to reuse this secret in all of your notebooks.\n",
            "Please note that authentication is recommended but still optional to access public models or datasets.\n",
            "  warnings.warn(\n",
            "/usr/local/lib/python3.10/dist-packages/huggingface_hub/file_download.py:1132: FutureWarning: `resume_download` is deprecated and will be removed in version 1.0.0. Downloads always resume when possible. If you want to force a new download, use `force_download=True`.\n",
            "  warnings.warn(\n",
            "WARNING:transformers_modules.nomic-ai.nomic-bert-2048.e55a7d4324f65581af5f483e830b80f34680e8ff.modeling_hf_nomic_bert:<All keys matched successfully>\n"
          ]
        }
      ]
    },
    {
      "cell_type": "code",
      "source": [
        "loss = MultipleNegativesRankingLoss(model)"
      ],
      "metadata": {
        "id": "CagKoahGVVeb"
      },
      "id": "CagKoahGVVeb",
      "execution_count": null,
      "outputs": []
    },
    {
      "cell_type": "code",
      "source": [
        "import os\n",
        "os.environ['MASTER_ADDR'] = 'localhost'\n",
        "os.environ['MASTER_PORT'] = '12355'\n",
        "os.environ[\"CUDA_VISIBLE_DEVICES\"] = \"0,1,2,3\"\n",
        "# torch.distributed.init_process_group(rank = torch.cuda.device_count(), world_size=1)\n",
        "print(accelerate.__version__)\n",
        "args = SentenceTransformerTrainingArguments(\n",
        "    # Required parameter:\n",
        "    output_dir=\"/content/models/nomic_dateaware\",\n",
        "    # Optional training parameters:\n",
        "    num_train_epochs=2,\n",
        "    per_device_train_batch_size=8,\n",
        "    per_device_eval_batch_size=8,\n",
        "    learning_rate=2e-5,\n",
        "    warmup_ratio=0.1,\n",
        "    weight_decay=0.01,\n",
        "    warmup_steps=400,\n",
        "    logging_first_step=True,\n",
        "    fp16=False,  # Set to False if you get an error that your GPU can't run on FP16\n",
        "    bf16=True,  # Set to True if you have a GPU that supports BF16\n",
        "    batch_sampler=BatchSamplers.NO_DUPLICATES,  # MultipleNegativesRankingLoss benefits from no duplicate samples in a batch\n",
        "    # Optional tracking/debugging parameters:\n",
        "    eval_strategy=\"steps\",\n",
        "    eval_steps=100,\n",
        "    save_strategy=\"steps\",\n",
        "    save_steps=100,\n",
        "    save_total_limit=10,\n",
        "    logging_steps=1,\n",
        "    run_name=\"nomic_dateaware\",  # Will be used in W&B if `wandb` is installed\n",
        ")\n",
        "print(args.parallel_mode)\n",
        "print(\"Initializing trainer...\")"
      ],
      "metadata": {
        "colab": {
          "base_uri": "https://localhost:8080/"
        },
        "id": "LZMpDIZduR54",
        "outputId": "55d81044-a7a1-402a-c025-b027eca26a9f"
      },
      "id": "LZMpDIZduR54",
      "execution_count": null,
      "outputs": [
        {
          "output_type": "stream",
          "name": "stderr",
          "text": [
            "PyTorch: setting up devices\n",
            "The default value for the training argument `--report_to` will change in v5 (from all installed integrations to none). In v5, you will need to use `--report_to all` to get the same behavior as now. You should start updating your code and make this info disappear :-).\n",
            "Both warmup_ratio and warmup_steps given, warmup_steps will override any effect of warmup_ratio during training\n"
          ]
        },
        {
          "output_type": "stream",
          "name": "stdout",
          "text": [
            "0.31.0\n",
            "ParallelMode.NOT_PARALLEL\n",
            "Initializing trainer...\n"
          ]
        }
      ]
    },
    {
      "cell_type": "code",
      "source": [],
      "metadata": {
        "id": "GixqUaOord5m"
      },
      "id": "GixqUaOord5m",
      "execution_count": null,
      "outputs": []
    },
    {
      "cell_type": "code",
      "source": [
        "import transformers\n",
        "transformers.logging.set_verbosity_debug()\n",
        "transformers.utils.logging.enable_default_handler()\n",
        "def main():\n",
        "  # Set environment variables for debugging\n",
        "  os.environ['CUDA_LAUNCH_BLOCKING'] = \"1\"\n",
        "  os.environ['TORCH_USE_CUDA_DSA'] = \"1\"\n",
        "\n",
        "  # Print CUDA and PyTorch version info\n",
        "  # print(f\"PyTorch version: {torch.__version__}\")\n",
        "  # print(f\"CUDA version: {torch.version.cuda}\")\n",
        "  # print(f\"CUDA available: {torch.cuda.is_available()}\")\n",
        "\n",
        "  # # Check GPU memory status\n",
        "  # print(torch.cuda.memory_summary())\n",
        "\n",
        "  # # Print model, args, dataset, and loss for inspection\n",
        "  # print(\"Model:\", model)\n",
        "  # print(\"Args:\", args)\n",
        "  # print(\"Dataset:\", dataset)\n",
        "  # print(\"Loss:\", loss)\n",
        "\n",
        "  # Proceed with trainer initialization\n",
        "  try:\n",
        "        #Restart Session using the commented lines if this cell fails.\n",
        "      # import os\n",
        "      # os._exit(00)\n",
        "      trainer = SentenceTransformerTrainer(\n",
        "          model=model,\n",
        "          args=args,\n",
        "          train_dataset=dataset,\n",
        "          loss=loss,\n",
        "          eval_dataset=dataset,\n",
        "          evaluator=None,\n",
        "      )\n",
        "      trainer.add_callback(transformers.ProgressCallback)\n",
        "      print(\"Trainer initialized successfully.\")\n",
        "      # Proceed with training\n",
        "      trainer.train()\n",
        "      model.save_pretrained(\"models/nomic_dateaware/final\")\n",
        "      print(\"Model saved successfully.\")\n",
        "  except RuntimeError as e:\n",
        "      print(\"Caught RuntimeError:\", e)\n",
        "      print(\"Potential issue with CUDA kernel execution.\")\n",
        "if __name__ == \"__main__\":\n",
        "    main()"
      ],
      "metadata": {
        "colab": {
          "base_uri": "https://localhost:8080/",
          "height": 1000,
          "referenced_widgets": [
            "2e51aa29582a423cba50a0ff0885aaec",
            "0b19618ee6bb4450918da9a7763e62bc",
            "88aac46f430e4300bc32fc378671b0fa",
            "df1f76b4d4d94d7f856b7f5fefbedfb0",
            "6677e8d72d1847488e3bcb6e6f722d4b",
            "7434e8f452794488b1a11c906e479c30",
            "2d7f30f0e88b4475926d478a2b2a7d31",
            "2e64b7e4d1a44345bef97e40f2f6a3b3",
            "4ea294dcee0b4e9b9ddfec75750035e2",
            "1788fd9d31d2470ea088bed0c755f8e4",
            "44decb1f0e3643e993b5e889f539cc48",
            "fb5873eae99a40039abb2363b8e19e64",
            "abb8731e48634e59887af2e1e0ad04d1",
            "9b6f4d3a107640dcadae8316e970d26c",
            "cba8ef8fd86045e9852a46d533fe7d88",
            "42279c2ff0f1404390267088ae041af9",
            "3990bc5eba65452e9004f9b95b5f6409",
            "93f9837c79774d8cb903227ec1e582a9",
            "e93865ea3fa846f9b22128dfd3806c19",
            "6d3bcacf6846409ca91bd415ca3cce28",
            "5e424f9514a54c3c9c3f3da80480ea55",
            "d12c0dde2cea4b638e476ec06242492a",
            "daa99a2e82814eb3a983ed93c6331c8e",
            "180a1d19f6aa46babe733823d919fd0a",
            "21c0487146904aeaae8be473455f1f35",
            "2933e3ac1f1e4c42a6635706c13cd187",
            "372ef19820624e9286f4f172e0c83a05",
            "19f0151c2a324edca152204dc1a37362",
            "63e1dcc2ab5745f0a8559c5e61ef0a2e",
            "1e042dba455642248c1db80517d4d6c8",
            "06a0dcb6e21c445f83de34ad4e399b86",
            "c06f2181b2d14537b31f8733046f3c08",
            "1398bc2705344e4ea4fef88be66e602e",
            "5c3c46837af14e76896b8cdc776a0478",
            "6ac8119bf2144858801897ef690faf85",
            "b91fec877fe240c383375ef6531520ab",
            "816de17201ef47a8af503111195c3704",
            "102a7f4cf32144159989f80762fb5cf4",
            "bde00584fc8b48e1adeb469ccb570b80",
            "ff53aed39ad646f4aace07b4163a30cd",
            "70b9dadb89c14397b9ccb10a1d84d35e",
            "2b4a99c58f3849899bc05df4b53e0131",
            "acdf9c9892cb448fab07f29cbbb7a4b0",
            "579c6d36d7f74d42a470ba757cd77ad1"
          ]
        },
        "id": "h10nby_-BgJy",
        "outputId": "f4ad86a4-36eb-48a9-eec7-1a29a875e6f9"
      },
      "id": "h10nby_-BgJy",
      "execution_count": null,
      "outputs": [
        {
          "output_type": "stream",
          "name": "stderr",
          "text": [
            "PyTorch: setting up devices\n",
            "The default value for the training argument `--report_to` will change in v5 (from all installed integrations to none). In v5, you will need to use `--report_to all` to get the same behavior as now. You should start updating your code and make this info disappear :-).\n",
            "Using auto half precision backend\n",
            "Currently training with a batch size of: 8\n",
            "***** Running training *****\n",
            "  Num examples = 1,513\n",
            "  Num Epochs = 2\n",
            "  Instantaneous batch size per device = 8\n",
            "  Total train batch size (w. parallel, distributed & accumulation) = 8\n",
            "  Gradient Accumulation steps = 1\n",
            "  Total optimization steps = 380\n",
            "  Number of trainable parameters = 136,731,648\n"
          ]
        },
        {
          "output_type": "stream",
          "name": "stdout",
          "text": [
            "Trainer initialized successfully.\n"
          ]
        },
        {
          "output_type": "display_data",
          "data": {
            "text/plain": [
              "  0%|          | 0/380 [00:00<?, ?it/s]"
            ],
            "application/vnd.jupyter.widget-view+json": {
              "version_major": 2,
              "version_minor": 0,
              "model_id": "2e51aa29582a423cba50a0ff0885aaec"
            }
          },
          "metadata": {}
        },
        {
          "output_type": "display_data",
          "data": {
            "text/plain": [
              "<IPython.core.display.HTML object>"
            ],
            "text/html": [
              "\n",
              "    <div>\n",
              "      \n",
              "      <progress value='380' max='380' style='width:300px; height:20px; vertical-align: middle;'></progress>\n",
              "      [380/380 05:38, Epoch 2/2]\n",
              "    </div>\n",
              "    <table border=\"1\" class=\"dataframe\">\n",
              "  <thead>\n",
              " <tr style=\"text-align: left;\">\n",
              "      <th>Step</th>\n",
              "      <th>Training Loss</th>\n",
              "      <th>Validation Loss</th>\n",
              "    </tr>\n",
              "  </thead>\n",
              "  <tbody>\n",
              "    <tr>\n",
              "      <td>100</td>\n",
              "      <td>0.000300</td>\n",
              "      <td>0.200723</td>\n",
              "    </tr>\n",
              "    <tr>\n",
              "      <td>200</td>\n",
              "      <td>0.009400</td>\n",
              "      <td>0.076758</td>\n",
              "    </tr>\n",
              "    <tr>\n",
              "      <td>300</td>\n",
              "      <td>1.176400</td>\n",
              "      <td>0.067655</td>\n",
              "    </tr>\n",
              "  </tbody>\n",
              "</table><p>"
            ]
          },
          "metadata": {}
        },
        {
          "output_type": "stream",
          "name": "stdout",
          "text": [
            "{'loss': 0.0671, 'grad_norm': 20.38685417175293, 'learning_rate': 5.0000000000000004e-08, 'epoch': 0.01}\n",
            "{'loss': 0.0, 'grad_norm': 0.003753146156668663, 'learning_rate': 1.0000000000000001e-07, 'epoch': 0.01}\n",
            "{'loss': 0.0059, 'grad_norm': 1.0934797525405884, 'learning_rate': 1.5000000000000002e-07, 'epoch': 0.02}\n",
            "{'loss': 0.0, 'grad_norm': 0.004538164008408785, 'learning_rate': 2.0000000000000002e-07, 'epoch': 0.02}\n",
            "{'loss': 0.0051, 'grad_norm': 0.5697325468063354, 'learning_rate': 2.5000000000000004e-07, 'epoch': 0.03}\n",
            "{'loss': 0.0086, 'grad_norm': 1.1038992404937744, 'learning_rate': 3.0000000000000004e-07, 'epoch': 0.03}\n",
            "{'loss': 0.0005, 'grad_norm': 0.06338191032409668, 'learning_rate': 3.5000000000000004e-07, 'epoch': 0.04}\n",
            "{'loss': 0.0077, 'grad_norm': 1.253654956817627, 'learning_rate': 4.0000000000000003e-07, 'epoch': 0.04}\n",
            "{'loss': 0.0005, 'grad_norm': 0.0723206028342247, 'learning_rate': 4.5000000000000003e-07, 'epoch': 0.05}\n",
            "{'loss': 0.0288, 'grad_norm': 6.5558905601501465, 'learning_rate': 5.000000000000001e-07, 'epoch': 0.05}\n",
            "{'loss': 0.127, 'grad_norm': 17.167030334472656, 'learning_rate': 5.5e-07, 'epoch': 0.06}\n",
            "{'loss': 0.0015, 'grad_norm': 0.1991104632616043, 'learning_rate': 6.000000000000001e-07, 'epoch': 0.06}\n",
            "{'loss': 0.0079, 'grad_norm': 1.210039734840393, 'learning_rate': 6.5e-07, 'epoch': 0.07}\n",
            "{'loss': 0.004, 'grad_norm': 0.810361385345459, 'learning_rate': 7.000000000000001e-07, 'epoch': 0.07}\n",
            "{'loss': 0.0034, 'grad_norm': 0.5874384045600891, 'learning_rate': 7.5e-07, 'epoch': 0.08}\n",
            "{'loss': 0.0221, 'grad_norm': 3.573725461959839, 'learning_rate': 8.000000000000001e-07, 'epoch': 0.08}\n",
            "{'loss': 0.0218, 'grad_norm': 2.3932554721832275, 'learning_rate': 8.500000000000001e-07, 'epoch': 0.09}\n",
            "{'loss': 0.0031, 'grad_norm': 0.49851855635643005, 'learning_rate': 9.000000000000001e-07, 'epoch': 0.09}\n",
            "{'loss': 0.0012, 'grad_norm': 0.17566949129104614, 'learning_rate': 9.500000000000001e-07, 'epoch': 0.1}\n",
            "{'loss': 0.0138, 'grad_norm': 1.958439826965332, 'learning_rate': 1.0000000000000002e-06, 'epoch': 0.11}\n",
            "{'loss': 0.0014, 'grad_norm': 0.22863733768463135, 'learning_rate': 1.0500000000000001e-06, 'epoch': 0.11}\n",
            "{'loss': 0.032, 'grad_norm': 5.024355888366699, 'learning_rate': 1.1e-06, 'epoch': 0.12}\n",
            "{'loss': 0.0002, 'grad_norm': 0.02452404610812664, 'learning_rate': 1.1500000000000002e-06, 'epoch': 0.12}\n",
            "{'loss': 0.0439, 'grad_norm': 7.392784595489502, 'learning_rate': 1.2000000000000002e-06, 'epoch': 0.13}\n"
          ]
        },
        {
          "output_type": "stream",
          "name": "stderr",
          "text": [
            "Configuration saved in /content/models/nomic_dateaware/checkpoint-25/config.json\n"
          ]
        },
        {
          "output_type": "stream",
          "name": "stdout",
          "text": [
            "{'loss': 0.0, 'grad_norm': 0.007726402021944523, 'learning_rate': 1.25e-06, 'epoch': 0.13}\n"
          ]
        },
        {
          "output_type": "stream",
          "name": "stderr",
          "text": [
            "Model weights saved in /content/models/nomic_dateaware/checkpoint-25/model.safetensors\n",
            "tokenizer config file saved in /content/models/nomic_dateaware/checkpoint-25/tokenizer_config.json\n",
            "Special tokens file saved in /content/models/nomic_dateaware/checkpoint-25/special_tokens_map.json\n",
            "tokenizer config file saved in /content/models/nomic_dateaware/checkpoint-25/tokenizer_config.json\n",
            "Special tokens file saved in /content/models/nomic_dateaware/checkpoint-25/special_tokens_map.json\n"
          ]
        },
        {
          "output_type": "stream",
          "name": "stdout",
          "text": [
            "{'loss': 0.0009, 'grad_norm': 0.24475333094596863, 'learning_rate': 1.3e-06, 'epoch': 0.14}\n",
            "{'loss': 0.0002, 'grad_norm': 0.023838091641664505, 'learning_rate': 1.3500000000000002e-06, 'epoch': 0.14}\n",
            "{'loss': 0.0049, 'grad_norm': 0.6440148949623108, 'learning_rate': 1.4000000000000001e-06, 'epoch': 0.15}\n",
            "{'loss': 0.0017, 'grad_norm': 0.23676565289497375, 'learning_rate': 1.45e-06, 'epoch': 0.15}\n",
            "{'loss': 0.0023, 'grad_norm': 0.41396990418434143, 'learning_rate': 1.5e-06, 'epoch': 0.16}\n",
            "{'loss': 0.0483, 'grad_norm': 7.912506580352783, 'learning_rate': 1.5500000000000002e-06, 'epoch': 0.16}\n",
            "{'loss': 0.0003, 'grad_norm': 0.036714062094688416, 'learning_rate': 1.6000000000000001e-06, 'epoch': 0.17}\n",
            "{'loss': 0.0081, 'grad_norm': 1.208221197128296, 'learning_rate': 1.6500000000000003e-06, 'epoch': 0.17}\n",
            "{'loss': 0.0025, 'grad_norm': 0.5285211801528931, 'learning_rate': 1.7000000000000002e-06, 'epoch': 0.18}\n",
            "{'loss': 0.0081, 'grad_norm': 1.2426306009292603, 'learning_rate': 1.75e-06, 'epoch': 0.18}\n",
            "{'loss': 0.0004, 'grad_norm': 0.06118026003241539, 'learning_rate': 1.8000000000000001e-06, 'epoch': 0.19}\n",
            "{'loss': 0.0271, 'grad_norm': 4.41719913482666, 'learning_rate': 1.85e-06, 'epoch': 0.19}\n",
            "{'loss': 0.0001, 'grad_norm': 0.0170773696154356, 'learning_rate': 1.9000000000000002e-06, 'epoch': 0.2}\n",
            "{'loss': 0.0038, 'grad_norm': 0.5962953567504883, 'learning_rate': 1.9500000000000004e-06, 'epoch': 0.21}\n",
            "{'loss': 0.001, 'grad_norm': 0.1769493967294693, 'learning_rate': 2.0000000000000003e-06, 'epoch': 0.21}\n",
            "{'loss': 0.0032, 'grad_norm': 0.44184035062789917, 'learning_rate': 2.05e-06, 'epoch': 0.22}\n",
            "{'loss': 0.0011, 'grad_norm': 0.1551400125026703, 'learning_rate': 2.1000000000000002e-06, 'epoch': 0.22}\n",
            "{'loss': 0.0002, 'grad_norm': 0.02114330790936947, 'learning_rate': 2.15e-06, 'epoch': 0.23}\n",
            "{'loss': 0.0012, 'grad_norm': 0.2102593630552292, 'learning_rate': 2.2e-06, 'epoch': 0.23}\n",
            "{'loss': 0.0009, 'grad_norm': 0.1544068157672882, 'learning_rate': 2.25e-06, 'epoch': 0.24}\n",
            "{'loss': 0.0002, 'grad_norm': 0.020068371668457985, 'learning_rate': 2.3000000000000004e-06, 'epoch': 0.24}\n",
            "{'loss': 0.0003, 'grad_norm': 0.05038144066929817, 'learning_rate': 2.35e-06, 'epoch': 0.25}\n",
            "{'loss': 0.0012, 'grad_norm': 0.23356391489505768, 'learning_rate': 2.4000000000000003e-06, 'epoch': 0.25}\n",
            "{'loss': 0.0023, 'grad_norm': 0.2774963080883026, 'learning_rate': 2.4500000000000003e-06, 'epoch': 0.26}\n"
          ]
        },
        {
          "output_type": "stream",
          "name": "stderr",
          "text": [
            "Configuration saved in /content/models/nomic_dateaware/checkpoint-50/config.json\n"
          ]
        },
        {
          "output_type": "stream",
          "name": "stdout",
          "text": [
            "{'loss': 0.0001, 'grad_norm': 0.012976660393178463, 'learning_rate': 2.5e-06, 'epoch': 0.26}\n"
          ]
        },
        {
          "output_type": "stream",
          "name": "stderr",
          "text": [
            "Model weights saved in /content/models/nomic_dateaware/checkpoint-50/model.safetensors\n",
            "tokenizer config file saved in /content/models/nomic_dateaware/checkpoint-50/tokenizer_config.json\n",
            "Special tokens file saved in /content/models/nomic_dateaware/checkpoint-50/special_tokens_map.json\n",
            "tokenizer config file saved in /content/models/nomic_dateaware/checkpoint-50/tokenizer_config.json\n",
            "Special tokens file saved in /content/models/nomic_dateaware/checkpoint-50/special_tokens_map.json\n"
          ]
        },
        {
          "output_type": "stream",
          "name": "stdout",
          "text": [
            "{'loss': 0.0096, 'grad_norm': 1.9075831174850464, 'learning_rate': 2.55e-06, 'epoch': 0.27}\n",
            "{'loss': 0.0004, 'grad_norm': 0.07621628046035767, 'learning_rate': 2.6e-06, 'epoch': 0.27}\n",
            "{'loss': 0.0018, 'grad_norm': 0.25765034556388855, 'learning_rate': 2.6500000000000005e-06, 'epoch': 0.28}\n",
            "{'loss': 0.0, 'grad_norm': 0.00678629707545042, 'learning_rate': 2.7000000000000004e-06, 'epoch': 0.28}\n",
            "{'loss': 0.0003, 'grad_norm': 0.04027608036994934, 'learning_rate': 2.7500000000000004e-06, 'epoch': 0.29}\n",
            "{'loss': 0.0008, 'grad_norm': 0.15681026875972748, 'learning_rate': 2.8000000000000003e-06, 'epoch': 0.29}\n",
            "{'loss': 0.0005, 'grad_norm': 0.06518790125846863, 'learning_rate': 2.85e-06, 'epoch': 0.3}\n",
            "{'loss': 0.0003, 'grad_norm': 0.05535450950264931, 'learning_rate': 2.9e-06, 'epoch': 0.31}\n",
            "{'loss': 0.0069, 'grad_norm': 0.6693492531776428, 'learning_rate': 2.95e-06, 'epoch': 0.31}\n",
            "{'loss': 0.0693, 'grad_norm': 5.066636562347412, 'learning_rate': 3e-06, 'epoch': 0.32}\n",
            "{'loss': 0.0007, 'grad_norm': 0.10500454157590866, 'learning_rate': 3.05e-06, 'epoch': 0.32}\n",
            "{'loss': 0.0005, 'grad_norm': 0.0964987650513649, 'learning_rate': 3.1000000000000004e-06, 'epoch': 0.33}\n",
            "{'loss': 0.001, 'grad_norm': 0.12136194109916687, 'learning_rate': 3.1500000000000003e-06, 'epoch': 0.33}\n",
            "{'loss': 0.0007, 'grad_norm': 0.09597260504961014, 'learning_rate': 3.2000000000000003e-06, 'epoch': 0.34}\n",
            "{'loss': 0.0017, 'grad_norm': 0.1961052566766739, 'learning_rate': 3.2500000000000002e-06, 'epoch': 0.34}\n",
            "{'loss': 0.0012, 'grad_norm': 0.17416329681873322, 'learning_rate': 3.3000000000000006e-06, 'epoch': 0.35}\n",
            "{'loss': 0.0003, 'grad_norm': 0.037334948778152466, 'learning_rate': 3.3500000000000005e-06, 'epoch': 0.35}\n",
            "{'loss': 0.0201, 'grad_norm': 2.029398202896118, 'learning_rate': 3.4000000000000005e-06, 'epoch': 0.36}\n",
            "{'loss': 0.0116, 'grad_norm': 1.1174168586730957, 'learning_rate': 3.45e-06, 'epoch': 0.36}\n",
            "{'loss': 0.1312, 'grad_norm': 10.984077453613281, 'learning_rate': 3.5e-06, 'epoch': 0.37}\n",
            "{'loss': 0.0528, 'grad_norm': 3.752537727355957, 'learning_rate': 3.5500000000000003e-06, 'epoch': 0.37}\n",
            "{'loss': 0.0218, 'grad_norm': 2.5574755668640137, 'learning_rate': 3.6000000000000003e-06, 'epoch': 0.38}\n",
            "{'loss': 0.2866, 'grad_norm': 19.38503646850586, 'learning_rate': 3.65e-06, 'epoch': 0.38}\n",
            "{'loss': 1.0385, 'grad_norm': 23.941303253173828, 'learning_rate': 3.7e-06, 'epoch': 0.39}\n"
          ]
        },
        {
          "output_type": "stream",
          "name": "stderr",
          "text": [
            "Configuration saved in /content/models/nomic_dateaware/checkpoint-75/config.json\n"
          ]
        },
        {
          "output_type": "stream",
          "name": "stdout",
          "text": [
            "{'loss': 0.1915, 'grad_norm': 7.497949123382568, 'learning_rate': 3.7500000000000005e-06, 'epoch': 0.39}\n"
          ]
        },
        {
          "output_type": "stream",
          "name": "stderr",
          "text": [
            "Model weights saved in /content/models/nomic_dateaware/checkpoint-75/model.safetensors\n",
            "tokenizer config file saved in /content/models/nomic_dateaware/checkpoint-75/tokenizer_config.json\n",
            "Special tokens file saved in /content/models/nomic_dateaware/checkpoint-75/special_tokens_map.json\n",
            "tokenizer config file saved in /content/models/nomic_dateaware/checkpoint-75/tokenizer_config.json\n",
            "Special tokens file saved in /content/models/nomic_dateaware/checkpoint-75/special_tokens_map.json\n"
          ]
        },
        {
          "output_type": "stream",
          "name": "stdout",
          "text": [
            "{'loss': 0.0052, 'grad_norm': 0.551294207572937, 'learning_rate': 3.8000000000000005e-06, 'epoch': 0.4}\n",
            "{'loss': 0.0075, 'grad_norm': 0.7462907433509827, 'learning_rate': 3.85e-06, 'epoch': 0.41}\n",
            "{'loss': 0.0001, 'grad_norm': 0.017277512699365616, 'learning_rate': 3.900000000000001e-06, 'epoch': 0.41}\n",
            "{'loss': 0.0071, 'grad_norm': 0.7548530697822571, 'learning_rate': 3.95e-06, 'epoch': 0.42}\n",
            "{'loss': 0.0008, 'grad_norm': 0.10110214352607727, 'learning_rate': 4.000000000000001e-06, 'epoch': 0.42}\n",
            "{'loss': 0.013, 'grad_norm': 1.9289122819900513, 'learning_rate': 4.05e-06, 'epoch': 0.43}\n",
            "{'loss': 0.0052, 'grad_norm': 0.48117944598197937, 'learning_rate': 4.1e-06, 'epoch': 0.43}\n",
            "{'loss': 0.0014, 'grad_norm': 0.15041151642799377, 'learning_rate': 4.15e-06, 'epoch': 0.44}\n",
            "{'loss': 0.3246, 'grad_norm': 12.128046989440918, 'learning_rate': 4.2000000000000004e-06, 'epoch': 0.44}\n",
            "{'loss': 0.0582, 'grad_norm': 4.018848419189453, 'learning_rate': 4.25e-06, 'epoch': 0.45}\n",
            "{'loss': 0.0208, 'grad_norm': 2.4227793216705322, 'learning_rate': 4.3e-06, 'epoch': 0.45}\n",
            "{'loss': 0.0254, 'grad_norm': 2.4131393432617188, 'learning_rate': 4.350000000000001e-06, 'epoch': 0.46}\n",
            "{'loss': 0.0043, 'grad_norm': 0.602699339389801, 'learning_rate': 4.4e-06, 'epoch': 0.46}\n",
            "{'loss': 0.0597, 'grad_norm': 3.4593939781188965, 'learning_rate': 4.450000000000001e-06, 'epoch': 0.47}\n",
            "{'loss': 0.0019, 'grad_norm': 0.20625440776348114, 'learning_rate': 4.5e-06, 'epoch': 0.47}\n",
            "{'loss': 0.0031, 'grad_norm': 0.4721639156341553, 'learning_rate': 4.5500000000000005e-06, 'epoch': 0.48}\n",
            "{'loss': 0.0004, 'grad_norm': 0.05719788745045662, 'learning_rate': 4.600000000000001e-06, 'epoch': 0.48}\n",
            "{'loss': 0.0001, 'grad_norm': 0.018507398664951324, 'learning_rate': 4.65e-06, 'epoch': 0.49}\n",
            "{'loss': 0.0011, 'grad_norm': 0.15478499233722687, 'learning_rate': 4.7e-06, 'epoch': 0.49}\n",
            "{'loss': 0.0007, 'grad_norm': 0.11075383424758911, 'learning_rate': 4.75e-06, 'epoch': 0.5}\n",
            "{'loss': 0.1174, 'grad_norm': 3.882049560546875, 'learning_rate': 4.800000000000001e-06, 'epoch': 0.51}\n",
            "{'loss': 0.0007, 'grad_norm': 0.1112440750002861, 'learning_rate': 4.85e-06, 'epoch': 0.51}\n",
            "{'loss': 0.0001, 'grad_norm': 0.01809253729879856, 'learning_rate': 4.9000000000000005e-06, 'epoch': 0.52}\n",
            "{'loss': 0.1777, 'grad_norm': 5.691511631011963, 'learning_rate': 4.95e-06, 'epoch': 0.52}\n"
          ]
        },
        {
          "output_type": "stream",
          "name": "stderr",
          "text": [
            "***** Running Evaluation *****\n",
            "  Num examples = 1513\n",
            "  Batch size = 8\n"
          ]
        },
        {
          "output_type": "stream",
          "name": "stdout",
          "text": [
            "{'loss': 0.0003, 'grad_norm': 0.05675961822271347, 'learning_rate': 5e-06, 'epoch': 0.53}\n"
          ]
        },
        {
          "output_type": "display_data",
          "data": {
            "text/plain": [
              "  0%|          | 0/190 [00:00<?, ?it/s]"
            ],
            "application/vnd.jupyter.widget-view+json": {
              "version_major": 2,
              "version_minor": 0,
              "model_id": "fb5873eae99a40039abb2363b8e19e64"
            }
          },
          "metadata": {}
        },
        {
          "output_type": "stream",
          "name": "stdout",
          "text": [
            "{'eval_loss': 0.2007232904434204, 'eval_runtime': 16.4926, 'eval_samples_per_second': 91.738, 'eval_steps_per_second': 11.52, 'epoch': 0.53}\n"
          ]
        },
        {
          "output_type": "stream",
          "name": "stderr",
          "text": [
            "Configuration saved in /content/models/nomic_dateaware/checkpoint-100/config.json\n",
            "Model weights saved in /content/models/nomic_dateaware/checkpoint-100/model.safetensors\n",
            "tokenizer config file saved in /content/models/nomic_dateaware/checkpoint-100/tokenizer_config.json\n",
            "Special tokens file saved in /content/models/nomic_dateaware/checkpoint-100/special_tokens_map.json\n",
            "tokenizer config file saved in /content/models/nomic_dateaware/checkpoint-100/tokenizer_config.json\n",
            "Special tokens file saved in /content/models/nomic_dateaware/checkpoint-100/special_tokens_map.json\n"
          ]
        },
        {
          "output_type": "stream",
          "name": "stdout",
          "text": [
            "{'loss': 0.2279, 'grad_norm': 20.28759002685547, 'learning_rate': 5.050000000000001e-06, 'epoch': 0.53}\n",
            "{'loss': 0.0009, 'grad_norm': 0.15976648032665253, 'learning_rate': 5.1e-06, 'epoch': 0.54}\n",
            "{'loss': 0.0108, 'grad_norm': 2.9888131618499756, 'learning_rate': 5.150000000000001e-06, 'epoch': 0.54}\n",
            "{'loss': 0.0493, 'grad_norm': 7.612024307250977, 'learning_rate': 5.2e-06, 'epoch': 0.55}\n",
            "{'loss': 0.0003, 'grad_norm': 0.05718408152461052, 'learning_rate': 5.2500000000000006e-06, 'epoch': 0.55}\n",
            "{'loss': 0.0037, 'grad_norm': 0.8137774467468262, 'learning_rate': 5.300000000000001e-06, 'epoch': 0.56}\n",
            "{'loss': 0.0007, 'grad_norm': 0.13452257215976715, 'learning_rate': 5.3500000000000004e-06, 'epoch': 0.56}\n",
            "{'loss': 0.0731, 'grad_norm': 12.007525444030762, 'learning_rate': 5.400000000000001e-06, 'epoch': 0.57}\n",
            "{'loss': 0.9651, 'grad_norm': 21.2559871673584, 'learning_rate': 5.450000000000001e-06, 'epoch': 0.57}\n",
            "{'loss': 1.6982, 'grad_norm': 21.94029426574707, 'learning_rate': 5.500000000000001e-06, 'epoch': 0.58}\n",
            "{'loss': 1.0211, 'grad_norm': 35.17408752441406, 'learning_rate': 5.550000000000001e-06, 'epoch': 0.58}\n",
            "{'loss': 0.197, 'grad_norm': 17.119747161865234, 'learning_rate': 5.600000000000001e-06, 'epoch': 0.59}\n",
            "{'loss': 0.5277, 'grad_norm': 26.487810134887695, 'learning_rate': 5.65e-06, 'epoch': 0.59}\n",
            "{'loss': 1.4255, 'grad_norm': 38.54074478149414, 'learning_rate': 5.7e-06, 'epoch': 0.6}\n",
            "{'loss': 0.1117, 'grad_norm': 17.061885833740234, 'learning_rate': 5.75e-06, 'epoch': 0.61}\n",
            "{'loss': 0.4303, 'grad_norm': 27.468669891357422, 'learning_rate': 5.8e-06, 'epoch': 0.61}\n",
            "{'loss': 0.0742, 'grad_norm': 7.3720574378967285, 'learning_rate': 5.85e-06, 'epoch': 0.62}\n",
            "{'loss': 1.2494, 'grad_norm': 32.57680130004883, 'learning_rate': 5.9e-06, 'epoch': 0.62}\n",
            "{'loss': 0.9106, 'grad_norm': 29.900012969970703, 'learning_rate': 5.950000000000001e-06, 'epoch': 0.63}\n",
            "{'loss': 0.0965, 'grad_norm': 12.13762092590332, 'learning_rate': 6e-06, 'epoch': 0.63}\n",
            "{'loss': 0.4271, 'grad_norm': 27.18411636352539, 'learning_rate': 6.0500000000000005e-06, 'epoch': 0.64}\n",
            "{'loss': 0.0961, 'grad_norm': 8.16422176361084, 'learning_rate': 6.1e-06, 'epoch': 0.64}\n",
            "{'loss': 0.0015, 'grad_norm': 0.24331915378570557, 'learning_rate': 6.15e-06, 'epoch': 0.65}\n",
            "{'loss': 0.0389, 'grad_norm': 5.107003211975098, 'learning_rate': 6.200000000000001e-06, 'epoch': 0.65}\n"
          ]
        },
        {
          "output_type": "stream",
          "name": "stderr",
          "text": [
            "Configuration saved in /content/models/nomic_dateaware/checkpoint-125/config.json\n"
          ]
        },
        {
          "output_type": "stream",
          "name": "stdout",
          "text": [
            "{'loss': 0.2229, 'grad_norm': 24.065427780151367, 'learning_rate': 6.25e-06, 'epoch': 0.66}\n"
          ]
        },
        {
          "output_type": "stream",
          "name": "stderr",
          "text": [
            "Model weights saved in /content/models/nomic_dateaware/checkpoint-125/model.safetensors\n",
            "tokenizer config file saved in /content/models/nomic_dateaware/checkpoint-125/tokenizer_config.json\n",
            "Special tokens file saved in /content/models/nomic_dateaware/checkpoint-125/special_tokens_map.json\n",
            "tokenizer config file saved in /content/models/nomic_dateaware/checkpoint-125/tokenizer_config.json\n",
            "Special tokens file saved in /content/models/nomic_dateaware/checkpoint-125/special_tokens_map.json\n"
          ]
        },
        {
          "output_type": "stream",
          "name": "stdout",
          "text": [
            "{'loss': 0.363, 'grad_norm': 16.565391540527344, 'learning_rate': 6.300000000000001e-06, 'epoch': 0.66}\n",
            "{'loss': 0.6498, 'grad_norm': 17.352325439453125, 'learning_rate': 6.35e-06, 'epoch': 0.67}\n",
            "{'loss': 2.2983, 'grad_norm': 40.75995635986328, 'learning_rate': 6.4000000000000006e-06, 'epoch': 0.67}\n",
            "{'loss': 0.1116, 'grad_norm': 10.583468437194824, 'learning_rate': 6.450000000000001e-06, 'epoch': 0.68}\n",
            "{'loss': 1.4174, 'grad_norm': 31.492252349853516, 'learning_rate': 6.5000000000000004e-06, 'epoch': 0.68}\n",
            "{'loss': 0.5967, 'grad_norm': 25.845508575439453, 'learning_rate': 6.550000000000001e-06, 'epoch': 0.69}\n",
            "{'loss': 0.5779, 'grad_norm': 24.281875610351562, 'learning_rate': 6.600000000000001e-06, 'epoch': 0.69}\n",
            "{'loss': 0.6629, 'grad_norm': 37.20735168457031, 'learning_rate': 6.650000000000001e-06, 'epoch': 0.7}\n",
            "{'loss': 0.7106, 'grad_norm': 33.72895812988281, 'learning_rate': 6.700000000000001e-06, 'epoch': 0.71}\n",
            "{'loss': 1.2102, 'grad_norm': 37.36662292480469, 'learning_rate': 6.750000000000001e-06, 'epoch': 0.71}\n",
            "{'loss': 0.0203, 'grad_norm': 2.449624538421631, 'learning_rate': 6.800000000000001e-06, 'epoch': 0.72}\n",
            "{'loss': 0.2075, 'grad_norm': 22.58521842956543, 'learning_rate': 6.850000000000001e-06, 'epoch': 0.72}\n",
            "{'loss': 0.1727, 'grad_norm': 19.431255340576172, 'learning_rate': 6.9e-06, 'epoch': 0.73}\n",
            "{'loss': 0.0226, 'grad_norm': 3.274197816848755, 'learning_rate': 6.95e-06, 'epoch': 0.73}\n",
            "{'loss': 0.4037, 'grad_norm': 13.978466987609863, 'learning_rate': 7e-06, 'epoch': 0.74}\n",
            "{'loss': 0.3405, 'grad_norm': 25.509002685546875, 'learning_rate': 7.05e-06, 'epoch': 0.74}\n",
            "{'loss': 1.0094, 'grad_norm': 18.39424705505371, 'learning_rate': 7.100000000000001e-06, 'epoch': 0.75}\n",
            "{'loss': 0.0012, 'grad_norm': 0.2697910666465759, 'learning_rate': 7.15e-06, 'epoch': 0.75}\n",
            "{'loss': 0.1736, 'grad_norm': 3.0777950286865234, 'learning_rate': 7.2000000000000005e-06, 'epoch': 0.76}\n",
            "{'loss': 0.0383, 'grad_norm': 8.187427520751953, 'learning_rate': 7.25e-06, 'epoch': 0.76}\n",
            "{'loss': 0.5124, 'grad_norm': 27.248552322387695, 'learning_rate': 7.3e-06, 'epoch': 0.77}\n",
            "{'loss': 1.2536, 'grad_norm': 48.010860443115234, 'learning_rate': 7.350000000000001e-06, 'epoch': 0.77}\n",
            "{'loss': 0.0007, 'grad_norm': 0.11505511403083801, 'learning_rate': 7.4e-06, 'epoch': 0.78}\n",
            "{'loss': 0.2526, 'grad_norm': 19.690959930419922, 'learning_rate': 7.450000000000001e-06, 'epoch': 0.78}\n"
          ]
        },
        {
          "output_type": "stream",
          "name": "stderr",
          "text": [
            "Configuration saved in /content/models/nomic_dateaware/checkpoint-150/config.json\n"
          ]
        },
        {
          "output_type": "stream",
          "name": "stdout",
          "text": [
            "{'loss': 1.3183, 'grad_norm': 14.566604614257812, 'learning_rate': 7.500000000000001e-06, 'epoch': 0.79}\n"
          ]
        },
        {
          "output_type": "stream",
          "name": "stderr",
          "text": [
            "Model weights saved in /content/models/nomic_dateaware/checkpoint-150/model.safetensors\n",
            "tokenizer config file saved in /content/models/nomic_dateaware/checkpoint-150/tokenizer_config.json\n",
            "Special tokens file saved in /content/models/nomic_dateaware/checkpoint-150/special_tokens_map.json\n",
            "tokenizer config file saved in /content/models/nomic_dateaware/checkpoint-150/tokenizer_config.json\n",
            "Special tokens file saved in /content/models/nomic_dateaware/checkpoint-150/special_tokens_map.json\n"
          ]
        },
        {
          "output_type": "stream",
          "name": "stdout",
          "text": [
            "{'loss': 2.0504, 'grad_norm': 59.042564392089844, 'learning_rate': 7.5500000000000006e-06, 'epoch': 0.79}\n",
            "{'loss': 0.5296, 'grad_norm': 20.098590850830078, 'learning_rate': 7.600000000000001e-06, 'epoch': 0.8}\n",
            "{'loss': 0.9544, 'grad_norm': 33.18359375, 'learning_rate': 7.650000000000001e-06, 'epoch': 0.81}\n",
            "{'loss': 0.0523, 'grad_norm': 5.275776386260986, 'learning_rate': 7.7e-06, 'epoch': 0.81}\n",
            "{'loss': 0.0, 'grad_norm': 0.007201079279184341, 'learning_rate': 7.75e-06, 'epoch': 0.82}\n",
            "{'loss': 0.5608, 'grad_norm': 28.31131362915039, 'learning_rate': 7.800000000000002e-06, 'epoch': 0.82}\n",
            "{'loss': 0.2931, 'grad_norm': 23.210468292236328, 'learning_rate': 7.850000000000001e-06, 'epoch': 0.83}\n",
            "{'loss': 0.5147, 'grad_norm': 31.786720275878906, 'learning_rate': 7.9e-06, 'epoch': 0.83}\n",
            "{'loss': 0.0134, 'grad_norm': 1.883629560470581, 'learning_rate': 7.950000000000002e-06, 'epoch': 0.84}\n",
            "{'loss': 0.1506, 'grad_norm': 14.680670738220215, 'learning_rate': 8.000000000000001e-06, 'epoch': 0.84}\n",
            "{'loss': 0.0016, 'grad_norm': 0.25932273268699646, 'learning_rate': 8.050000000000001e-06, 'epoch': 0.85}\n",
            "{'loss': 0.0005, 'grad_norm': 0.05479199439287186, 'learning_rate': 8.1e-06, 'epoch': 0.85}\n",
            "{'loss': 0.0004, 'grad_norm': 0.07261156290769577, 'learning_rate': 8.15e-06, 'epoch': 0.86}\n",
            "{'loss': 0.2092, 'grad_norm': 20.87371253967285, 'learning_rate': 8.2e-06, 'epoch': 0.86}\n",
            "{'loss': 0.0003, 'grad_norm': 0.05554009974002838, 'learning_rate': 8.25e-06, 'epoch': 0.87}\n",
            "{'loss': 0.0012, 'grad_norm': 0.1905239373445511, 'learning_rate': 8.3e-06, 'epoch': 0.87}\n",
            "{'loss': 0.0006, 'grad_norm': 0.10486361384391785, 'learning_rate': 8.35e-06, 'epoch': 0.88}\n",
            "{'loss': 0.2095, 'grad_norm': 17.479658126831055, 'learning_rate': 8.400000000000001e-06, 'epoch': 0.88}\n",
            "{'loss': 0.0057, 'grad_norm': 0.6276088953018188, 'learning_rate': 8.45e-06, 'epoch': 0.89}\n",
            "{'loss': 0.0176, 'grad_norm': 3.22809100151062, 'learning_rate': 8.5e-06, 'epoch': 0.89}\n",
            "{'loss': 0.0958, 'grad_norm': 7.492966175079346, 'learning_rate': 8.550000000000001e-06, 'epoch': 0.9}\n",
            "{'loss': 0.7313, 'grad_norm': 37.74824142456055, 'learning_rate': 8.6e-06, 'epoch': 0.91}\n",
            "{'loss': 0.4594, 'grad_norm': 29.575284957885742, 'learning_rate': 8.65e-06, 'epoch': 0.91}\n",
            "{'loss': 0.7299, 'grad_norm': 39.607147216796875, 'learning_rate': 8.700000000000001e-06, 'epoch': 0.92}\n"
          ]
        },
        {
          "output_type": "stream",
          "name": "stderr",
          "text": [
            "Configuration saved in /content/models/nomic_dateaware/checkpoint-175/config.json\n"
          ]
        },
        {
          "output_type": "stream",
          "name": "stdout",
          "text": [
            "{'loss': 0.0094, 'grad_norm': 2.0660276412963867, 'learning_rate': 8.750000000000001e-06, 'epoch': 0.92}\n"
          ]
        },
        {
          "output_type": "stream",
          "name": "stderr",
          "text": [
            "Model weights saved in /content/models/nomic_dateaware/checkpoint-175/model.safetensors\n",
            "tokenizer config file saved in /content/models/nomic_dateaware/checkpoint-175/tokenizer_config.json\n",
            "Special tokens file saved in /content/models/nomic_dateaware/checkpoint-175/special_tokens_map.json\n",
            "tokenizer config file saved in /content/models/nomic_dateaware/checkpoint-175/tokenizer_config.json\n",
            "Special tokens file saved in /content/models/nomic_dateaware/checkpoint-175/special_tokens_map.json\n"
          ]
        },
        {
          "output_type": "stream",
          "name": "stdout",
          "text": [
            "{'loss': 0.7219, 'grad_norm': 27.38733673095703, 'learning_rate': 8.8e-06, 'epoch': 0.93}\n",
            "{'loss': 1.3873, 'grad_norm': 54.81306838989258, 'learning_rate': 8.85e-06, 'epoch': 0.93}\n",
            "{'loss': 0.7039, 'grad_norm': 28.788288116455078, 'learning_rate': 8.900000000000001e-06, 'epoch': 0.94}\n",
            "{'loss': 0.1357, 'grad_norm': 12.838201522827148, 'learning_rate': 8.95e-06, 'epoch': 0.94}\n",
            "{'loss': 0.0562, 'grad_norm': 12.070703506469727, 'learning_rate': 9e-06, 'epoch': 0.95}\n",
            "{'loss': 0.1737, 'grad_norm': 14.723932266235352, 'learning_rate': 9.050000000000001e-06, 'epoch': 0.95}\n",
            "{'loss': 0.2155, 'grad_norm': 20.721635818481445, 'learning_rate': 9.100000000000001e-06, 'epoch': 0.96}\n",
            "{'loss': 0.1258, 'grad_norm': 12.904742240905762, 'learning_rate': 9.15e-06, 'epoch': 0.96}\n",
            "{'loss': 0.3004, 'grad_norm': 28.150680541992188, 'learning_rate': 9.200000000000002e-06, 'epoch': 0.97}\n",
            "{'loss': 0.1438, 'grad_norm': 17.29524040222168, 'learning_rate': 9.250000000000001e-06, 'epoch': 0.97}\n",
            "{'loss': 0.0819, 'grad_norm': 11.773369789123535, 'learning_rate': 9.3e-06, 'epoch': 0.98}\n",
            "{'loss': 0.008, 'grad_norm': 1.390107274055481, 'learning_rate': 9.350000000000002e-06, 'epoch': 0.98}\n",
            "{'loss': 0.353, 'grad_norm': 26.560230255126953, 'learning_rate': 9.4e-06, 'epoch': 0.99}\n",
            "{'loss': 0.2419, 'grad_norm': 18.470518112182617, 'learning_rate': 9.450000000000001e-06, 'epoch': 0.99}\n",
            "{'loss': 0.0, 'grad_norm': 0.0, 'learning_rate': 9.5e-06, 'epoch': 1.0}\n",
            "{'loss': 0.0133, 'grad_norm': 4.421890735626221, 'learning_rate': 9.55e-06, 'epoch': 1.01}\n",
            "{'loss': 0.0, 'grad_norm': 0.002016159240156412, 'learning_rate': 9.600000000000001e-06, 'epoch': 1.01}\n",
            "{'loss': 0.0014, 'grad_norm': 0.254663348197937, 'learning_rate': 9.65e-06, 'epoch': 1.02}\n",
            "{'loss': 0.0, 'grad_norm': 0.003946969751268625, 'learning_rate': 9.7e-06, 'epoch': 1.02}\n",
            "{'loss': 0.003, 'grad_norm': 0.37064337730407715, 'learning_rate': 9.75e-06, 'epoch': 1.03}\n",
            "{'loss': 0.0043, 'grad_norm': 0.6560720801353455, 'learning_rate': 9.800000000000001e-06, 'epoch': 1.03}\n",
            "{'loss': 0.0004, 'grad_norm': 0.062157586216926575, 'learning_rate': 9.85e-06, 'epoch': 1.04}\n",
            "{'loss': 0.0015, 'grad_norm': 0.2580247223377228, 'learning_rate': 9.9e-06, 'epoch': 1.04}\n",
            "{'loss': 0.0003, 'grad_norm': 0.053408607840538025, 'learning_rate': 9.950000000000001e-06, 'epoch': 1.05}\n"
          ]
        },
        {
          "output_type": "stream",
          "name": "stderr",
          "text": [
            "***** Running Evaluation *****\n",
            "  Num examples = 1513\n",
            "  Batch size = 8\n"
          ]
        },
        {
          "output_type": "stream",
          "name": "stdout",
          "text": [
            "{'loss': 0.0094, 'grad_norm': 2.6123781204223633, 'learning_rate': 1e-05, 'epoch': 1.05}\n"
          ]
        },
        {
          "output_type": "display_data",
          "data": {
            "text/plain": [
              "  0%|          | 0/190 [00:00<?, ?it/s]"
            ],
            "application/vnd.jupyter.widget-view+json": {
              "version_major": 2,
              "version_minor": 0,
              "model_id": "daa99a2e82814eb3a983ed93c6331c8e"
            }
          },
          "metadata": {}
        },
        {
          "output_type": "stream",
          "name": "stdout",
          "text": [
            "{'eval_loss': 0.07675766199827194, 'eval_runtime': 17.9758, 'eval_samples_per_second': 84.169, 'eval_steps_per_second': 10.57, 'epoch': 1.05}\n"
          ]
        },
        {
          "output_type": "stream",
          "name": "stderr",
          "text": [
            "Configuration saved in /content/models/nomic_dateaware/checkpoint-200/config.json\n",
            "Model weights saved in /content/models/nomic_dateaware/checkpoint-200/model.safetensors\n",
            "tokenizer config file saved in /content/models/nomic_dateaware/checkpoint-200/tokenizer_config.json\n",
            "Special tokens file saved in /content/models/nomic_dateaware/checkpoint-200/special_tokens_map.json\n",
            "tokenizer config file saved in /content/models/nomic_dateaware/checkpoint-200/tokenizer_config.json\n",
            "Special tokens file saved in /content/models/nomic_dateaware/checkpoint-200/special_tokens_map.json\n"
          ]
        },
        {
          "output_type": "stream",
          "name": "stdout",
          "text": [
            "{'loss': 0.043, 'grad_norm': 8.537028312683105, 'learning_rate': 1.005e-05, 'epoch': 1.06}\n",
            "{'loss': 0.0012, 'grad_norm': 0.16979308426380157, 'learning_rate': 1.0100000000000002e-05, 'epoch': 1.06}\n",
            "{'loss': 0.0016, 'grad_norm': 0.1774625927209854, 'learning_rate': 1.015e-05, 'epoch': 1.07}\n",
            "{'loss': 0.0006, 'grad_norm': 0.11109494417905807, 'learning_rate': 1.02e-05, 'epoch': 1.07}\n",
            "{'loss': 0.0008, 'grad_norm': 0.17536868155002594, 'learning_rate': 1.025e-05, 'epoch': 1.08}\n",
            "{'loss': 0.0019, 'grad_norm': 0.4854886531829834, 'learning_rate': 1.0300000000000001e-05, 'epoch': 1.08}\n",
            "{'loss': 0.0053, 'grad_norm': 0.7665395140647888, 'learning_rate': 1.0350000000000001e-05, 'epoch': 1.09}\n",
            "{'loss': 0.0009, 'grad_norm': 0.14431403577327728, 'learning_rate': 1.04e-05, 'epoch': 1.09}\n",
            "{'loss': 0.0005, 'grad_norm': 0.0869794711470604, 'learning_rate': 1.045e-05, 'epoch': 1.1}\n",
            "{'loss': 0.0011, 'grad_norm': 0.16303174197673798, 'learning_rate': 1.0500000000000001e-05, 'epoch': 1.11}\n",
            "{'loss': 0.0007, 'grad_norm': 0.13217465579509735, 'learning_rate': 1.055e-05, 'epoch': 1.11}\n",
            "{'loss': 0.0054, 'grad_norm': 0.7842552065849304, 'learning_rate': 1.0600000000000002e-05, 'epoch': 1.12}\n",
            "{'loss': 0.0001, 'grad_norm': 0.014129306189715862, 'learning_rate': 1.065e-05, 'epoch': 1.12}\n",
            "{'loss': 0.0094, 'grad_norm': 1.9585775136947632, 'learning_rate': 1.0700000000000001e-05, 'epoch': 1.13}\n",
            "{'loss': 0.0, 'grad_norm': 0.0017203034367412329, 'learning_rate': 1.075e-05, 'epoch': 1.13}\n",
            "{'loss': 0.0002, 'grad_norm': 0.07122822850942612, 'learning_rate': 1.0800000000000002e-05, 'epoch': 1.14}\n",
            "{'loss': 0.0002, 'grad_norm': 0.03282037749886513, 'learning_rate': 1.0850000000000001e-05, 'epoch': 1.14}\n",
            "{'loss': 0.002, 'grad_norm': 0.341879665851593, 'learning_rate': 1.0900000000000002e-05, 'epoch': 1.15}\n",
            "{'loss': 0.0005, 'grad_norm': 0.07056362926959991, 'learning_rate': 1.095e-05, 'epoch': 1.15}\n",
            "{'loss': 0.0004, 'grad_norm': 0.05732673406600952, 'learning_rate': 1.1000000000000001e-05, 'epoch': 1.16}\n",
            "{'loss': 0.0089, 'grad_norm': 1.782895565032959, 'learning_rate': 1.1050000000000001e-05, 'epoch': 1.16}\n",
            "{'loss': 0.0003, 'grad_norm': 0.05464537441730499, 'learning_rate': 1.1100000000000002e-05, 'epoch': 1.17}\n",
            "{'loss': 0.0007, 'grad_norm': 0.12524352967739105, 'learning_rate': 1.1150000000000002e-05, 'epoch': 1.17}\n",
            "{'loss': 0.0014, 'grad_norm': 0.29072025418281555, 'learning_rate': 1.1200000000000001e-05, 'epoch': 1.18}\n"
          ]
        },
        {
          "output_type": "stream",
          "name": "stderr",
          "text": [
            "Configuration saved in /content/models/nomic_dateaware/checkpoint-225/config.json\n"
          ]
        },
        {
          "output_type": "stream",
          "name": "stdout",
          "text": [
            "{'loss': 0.001, 'grad_norm': 0.13672120869159698, 'learning_rate': 1.125e-05, 'epoch': 1.18}\n"
          ]
        },
        {
          "output_type": "stream",
          "name": "stderr",
          "text": [
            "Model weights saved in /content/models/nomic_dateaware/checkpoint-225/model.safetensors\n",
            "tokenizer config file saved in /content/models/nomic_dateaware/checkpoint-225/tokenizer_config.json\n",
            "Special tokens file saved in /content/models/nomic_dateaware/checkpoint-225/special_tokens_map.json\n",
            "tokenizer config file saved in /content/models/nomic_dateaware/checkpoint-225/tokenizer_config.json\n",
            "Special tokens file saved in /content/models/nomic_dateaware/checkpoint-225/special_tokens_map.json\n"
          ]
        },
        {
          "output_type": "stream",
          "name": "stdout",
          "text": [
            "{'loss': 0.0006, 'grad_norm': 0.1320342868566513, 'learning_rate': 1.13e-05, 'epoch': 1.19}\n",
            "{'loss': 0.0022, 'grad_norm': 0.3709184229373932, 'learning_rate': 1.1350000000000001e-05, 'epoch': 1.19}\n",
            "{'loss': 0.0001, 'grad_norm': 0.012744143605232239, 'learning_rate': 1.14e-05, 'epoch': 1.2}\n",
            "{'loss': 0.0004, 'grad_norm': 0.06853806227445602, 'learning_rate': 1.145e-05, 'epoch': 1.21}\n",
            "{'loss': 0.0003, 'grad_norm': 0.04457429051399231, 'learning_rate': 1.15e-05, 'epoch': 1.21}\n",
            "{'loss': 0.0008, 'grad_norm': 0.11266152560710907, 'learning_rate': 1.1550000000000001e-05, 'epoch': 1.22}\n",
            "{'loss': 0.0007, 'grad_norm': 0.1203664019703865, 'learning_rate': 1.16e-05, 'epoch': 1.22}\n",
            "{'loss': 0.0001, 'grad_norm': 0.014350058510899544, 'learning_rate': 1.1650000000000002e-05, 'epoch': 1.23}\n",
            "{'loss': 0.0004, 'grad_norm': 0.06231559067964554, 'learning_rate': 1.17e-05, 'epoch': 1.23}\n",
            "{'loss': 0.002, 'grad_norm': 0.4599471390247345, 'learning_rate': 1.1750000000000001e-05, 'epoch': 1.24}\n",
            "{'loss': 0.0001, 'grad_norm': 0.016052700579166412, 'learning_rate': 1.18e-05, 'epoch': 1.24}\n",
            "{'loss': 0.0001, 'grad_norm': 0.01307471003383398, 'learning_rate': 1.1850000000000002e-05, 'epoch': 1.25}\n",
            "{'loss': 0.0004, 'grad_norm': 0.07878106087446213, 'learning_rate': 1.1900000000000001e-05, 'epoch': 1.25}\n",
            "{'loss': 0.0012, 'grad_norm': 0.15563447773456573, 'learning_rate': 1.195e-05, 'epoch': 1.26}\n",
            "{'loss': 0.0, 'grad_norm': 0.0024232622236013412, 'learning_rate': 1.2e-05, 'epoch': 1.26}\n",
            "{'loss': 0.0011, 'grad_norm': 0.23708651959896088, 'learning_rate': 1.2050000000000002e-05, 'epoch': 1.27}\n",
            "{'loss': 0.0001, 'grad_norm': 0.00883176177740097, 'learning_rate': 1.2100000000000001e-05, 'epoch': 1.27}\n",
            "{'loss': 0.0005, 'grad_norm': 0.07469905912876129, 'learning_rate': 1.2150000000000002e-05, 'epoch': 1.28}\n",
            "{'loss': 0.0, 'grad_norm': 0.002885031746700406, 'learning_rate': 1.22e-05, 'epoch': 1.28}\n",
            "{'loss': 0.0002, 'grad_norm': 0.045382432639598846, 'learning_rate': 1.2250000000000001e-05, 'epoch': 1.29}\n",
            "{'loss': 0.0002, 'grad_norm': 0.05536125972867012, 'learning_rate': 1.23e-05, 'epoch': 1.29}\n",
            "{'loss': 0.0003, 'grad_norm': 0.044337768107652664, 'learning_rate': 1.2350000000000002e-05, 'epoch': 1.3}\n",
            "{'loss': 0.0004, 'grad_norm': 0.13185279071331024, 'learning_rate': 1.2400000000000002e-05, 'epoch': 1.31}\n",
            "{'loss': 0.0028, 'grad_norm': 0.3076481223106384, 'learning_rate': 1.2450000000000003e-05, 'epoch': 1.31}\n"
          ]
        },
        {
          "output_type": "stream",
          "name": "stderr",
          "text": [
            "Configuration saved in /content/models/nomic_dateaware/checkpoint-250/config.json\n"
          ]
        },
        {
          "output_type": "stream",
          "name": "stdout",
          "text": [
            "{'loss': 0.0129, 'grad_norm': 1.4235212802886963, 'learning_rate': 1.25e-05, 'epoch': 1.32}\n"
          ]
        },
        {
          "output_type": "stream",
          "name": "stderr",
          "text": [
            "Model weights saved in /content/models/nomic_dateaware/checkpoint-250/model.safetensors\n",
            "tokenizer config file saved in /content/models/nomic_dateaware/checkpoint-250/tokenizer_config.json\n",
            "Special tokens file saved in /content/models/nomic_dateaware/checkpoint-250/special_tokens_map.json\n",
            "tokenizer config file saved in /content/models/nomic_dateaware/checkpoint-250/tokenizer_config.json\n",
            "Special tokens file saved in /content/models/nomic_dateaware/checkpoint-250/special_tokens_map.json\n"
          ]
        },
        {
          "output_type": "stream",
          "name": "stdout",
          "text": [
            "{'loss': 0.0003, 'grad_norm': 0.04780258983373642, 'learning_rate': 1.255e-05, 'epoch': 1.32}\n",
            "{'loss': 0.0003, 'grad_norm': 0.06588473916053772, 'learning_rate': 1.2600000000000001e-05, 'epoch': 1.33}\n",
            "{'loss': 0.0007, 'grad_norm': 0.1083739772439003, 'learning_rate': 1.2650000000000001e-05, 'epoch': 1.33}\n",
            "{'loss': 0.0003, 'grad_norm': 0.04237369820475578, 'learning_rate': 1.27e-05, 'epoch': 1.34}\n",
            "{'loss': 0.0011, 'grad_norm': 0.14921218156814575, 'learning_rate': 1.275e-05, 'epoch': 1.34}\n",
            "{'loss': 0.0004, 'grad_norm': 0.07030048221349716, 'learning_rate': 1.2800000000000001e-05, 'epoch': 1.35}\n",
            "{'loss': 0.0002, 'grad_norm': 0.028413746505975723, 'learning_rate': 1.285e-05, 'epoch': 1.35}\n",
            "{'loss': 0.0013, 'grad_norm': 0.14059868454933167, 'learning_rate': 1.2900000000000002e-05, 'epoch': 1.36}\n",
            "{'loss': 0.002, 'grad_norm': 0.28376853466033936, 'learning_rate': 1.295e-05, 'epoch': 1.36}\n",
            "{'loss': 0.0194, 'grad_norm': 2.265366315841675, 'learning_rate': 1.3000000000000001e-05, 'epoch': 1.37}\n",
            "{'loss': 0.0117, 'grad_norm': 1.4788748025894165, 'learning_rate': 1.305e-05, 'epoch': 1.37}\n",
            "{'loss': 0.0044, 'grad_norm': 0.7806223034858704, 'learning_rate': 1.3100000000000002e-05, 'epoch': 1.38}\n",
            "{'loss': 0.0459, 'grad_norm': 5.109519958496094, 'learning_rate': 1.3150000000000001e-05, 'epoch': 1.38}\n",
            "{'loss': 0.6238, 'grad_norm': 22.073747634887695, 'learning_rate': 1.3200000000000002e-05, 'epoch': 1.39}\n",
            "{'loss': 0.071, 'grad_norm': 8.036747932434082, 'learning_rate': 1.325e-05, 'epoch': 1.39}\n",
            "{'loss': 0.0021, 'grad_norm': 0.3948052227497101, 'learning_rate': 1.3300000000000001e-05, 'epoch': 1.4}\n",
            "{'loss': 0.0009, 'grad_norm': 0.10279630124568939, 'learning_rate': 1.3350000000000001e-05, 'epoch': 1.41}\n",
            "{'loss': 0.0001, 'grad_norm': 0.008870230056345463, 'learning_rate': 1.3400000000000002e-05, 'epoch': 1.41}\n",
            "{'loss': 0.0012, 'grad_norm': 0.15289336442947388, 'learning_rate': 1.3450000000000002e-05, 'epoch': 1.42}\n",
            "{'loss': 0.0003, 'grad_norm': 0.045109108090400696, 'learning_rate': 1.3500000000000001e-05, 'epoch': 1.42}\n",
            "{'loss': 0.0025, 'grad_norm': 0.3284383714199066, 'learning_rate': 1.355e-05, 'epoch': 1.43}\n",
            "{'loss': 0.001, 'grad_norm': 0.1189032569527626, 'learning_rate': 1.3600000000000002e-05, 'epoch': 1.43}\n",
            "{'loss': 0.0019, 'grad_norm': 0.4489039480686188, 'learning_rate': 1.3650000000000001e-05, 'epoch': 1.44}\n",
            "{'loss': 0.0805, 'grad_norm': 6.193436622619629, 'learning_rate': 1.3700000000000003e-05, 'epoch': 1.44}\n"
          ]
        },
        {
          "output_type": "stream",
          "name": "stderr",
          "text": [
            "Configuration saved in /content/models/nomic_dateaware/checkpoint-275/config.json\n"
          ]
        },
        {
          "output_type": "stream",
          "name": "stdout",
          "text": [
            "{'loss': 0.0087, 'grad_norm': 0.9279884099960327, 'learning_rate': 1.375e-05, 'epoch': 1.45}\n"
          ]
        },
        {
          "output_type": "stream",
          "name": "stderr",
          "text": [
            "Model weights saved in /content/models/nomic_dateaware/checkpoint-275/model.safetensors\n",
            "tokenizer config file saved in /content/models/nomic_dateaware/checkpoint-275/tokenizer_config.json\n",
            "Special tokens file saved in /content/models/nomic_dateaware/checkpoint-275/special_tokens_map.json\n",
            "tokenizer config file saved in /content/models/nomic_dateaware/checkpoint-275/tokenizer_config.json\n",
            "Special tokens file saved in /content/models/nomic_dateaware/checkpoint-275/special_tokens_map.json\n",
            "Deleting older checkpoint [/content/models/nomic_dateaware/checkpoint-25] due to args.save_total_limit\n"
          ]
        },
        {
          "output_type": "stream",
          "name": "stdout",
          "text": [
            "{'loss': 0.0114, 'grad_norm': 2.5045673847198486, 'learning_rate': 1.38e-05, 'epoch': 1.45}\n",
            "{'loss': 0.0025, 'grad_norm': 0.36552032828330994, 'learning_rate': 1.3850000000000001e-05, 'epoch': 1.46}\n",
            "{'loss': 0.0032, 'grad_norm': 0.58599454164505, 'learning_rate': 1.39e-05, 'epoch': 1.46}\n",
            "{'loss': 0.0134, 'grad_norm': 1.3947787284851074, 'learning_rate': 1.3950000000000002e-05, 'epoch': 1.47}\n",
            "{'loss': 0.0009, 'grad_norm': 0.11135336011648178, 'learning_rate': 1.4e-05, 'epoch': 1.47}\n",
            "{'loss': 0.0006, 'grad_norm': 0.07390239834785461, 'learning_rate': 1.4050000000000001e-05, 'epoch': 1.48}\n",
            "{'loss': 0.0002, 'grad_norm': 0.031159788370132446, 'learning_rate': 1.41e-05, 'epoch': 1.48}\n",
            "{'loss': 0.0001, 'grad_norm': 0.014303925447165966, 'learning_rate': 1.4150000000000002e-05, 'epoch': 1.49}\n",
            "{'loss': 0.0005, 'grad_norm': 0.07706514000892639, 'learning_rate': 1.4200000000000001e-05, 'epoch': 1.49}\n",
            "{'loss': 0.0004, 'grad_norm': 0.06587652117013931, 'learning_rate': 1.425e-05, 'epoch': 1.5}\n",
            "{'loss': 0.0345, 'grad_norm': 2.1091601848602295, 'learning_rate': 1.43e-05, 'epoch': 1.51}\n",
            "{'loss': 0.0004, 'grad_norm': 0.07208715379238129, 'learning_rate': 1.4350000000000002e-05, 'epoch': 1.51}\n",
            "{'loss': 0.0001, 'grad_norm': 0.008520295843482018, 'learning_rate': 1.4400000000000001e-05, 'epoch': 1.52}\n",
            "{'loss': 0.2133, 'grad_norm': 13.840967178344727, 'learning_rate': 1.4450000000000002e-05, 'epoch': 1.52}\n",
            "{'loss': 0.0001, 'grad_norm': 0.018154077231884003, 'learning_rate': 1.45e-05, 'epoch': 1.53}\n",
            "{'loss': 0.0128, 'grad_norm': 3.1317965984344482, 'learning_rate': 1.4550000000000001e-05, 'epoch': 1.53}\n",
            "{'loss': 0.0004, 'grad_norm': 0.06464841216802597, 'learning_rate': 1.46e-05, 'epoch': 1.54}\n",
            "{'loss': 0.0002, 'grad_norm': 0.03632044419646263, 'learning_rate': 1.4650000000000002e-05, 'epoch': 1.54}\n",
            "{'loss': 0.0299, 'grad_norm': 7.632300853729248, 'learning_rate': 1.4700000000000002e-05, 'epoch': 1.55}\n",
            "{'loss': 0.0002, 'grad_norm': 0.02841934934258461, 'learning_rate': 1.4750000000000003e-05, 'epoch': 1.55}\n",
            "{'loss': 0.0003, 'grad_norm': 0.06844509392976761, 'learning_rate': 1.48e-05, 'epoch': 1.56}\n",
            "{'loss': 0.0006, 'grad_norm': 0.12668631970882416, 'learning_rate': 1.4850000000000002e-05, 'epoch': 1.56}\n",
            "{'loss': 0.0005, 'grad_norm': 0.07709158957004547, 'learning_rate': 1.4900000000000001e-05, 'epoch': 1.57}\n",
            "{'loss': 0.5385, 'grad_norm': 16.97574234008789, 'learning_rate': 1.4950000000000003e-05, 'epoch': 1.57}\n"
          ]
        },
        {
          "output_type": "stream",
          "name": "stderr",
          "text": [
            "***** Running Evaluation *****\n",
            "  Num examples = 1513\n",
            "  Batch size = 8\n"
          ]
        },
        {
          "output_type": "stream",
          "name": "stdout",
          "text": [
            "{'loss': 1.1764, 'grad_norm': 24.55743408203125, 'learning_rate': 1.5000000000000002e-05, 'epoch': 1.58}\n"
          ]
        },
        {
          "output_type": "display_data",
          "data": {
            "text/plain": [
              "  0%|          | 0/190 [00:00<?, ?it/s]"
            ],
            "application/vnd.jupyter.widget-view+json": {
              "version_major": 2,
              "version_minor": 0,
              "model_id": "5c3c46837af14e76896b8cdc776a0478"
            }
          },
          "metadata": {}
        },
        {
          "output_type": "stream",
          "name": "stdout",
          "text": [
            "{'eval_loss': 0.06765511631965637, 'eval_runtime': 18.0524, 'eval_samples_per_second': 83.812, 'eval_steps_per_second': 10.525, 'epoch': 1.58}\n"
          ]
        },
        {
          "output_type": "stream",
          "name": "stderr",
          "text": [
            "Configuration saved in /content/models/nomic_dateaware/checkpoint-300/config.json\n",
            "Model weights saved in /content/models/nomic_dateaware/checkpoint-300/model.safetensors\n",
            "tokenizer config file saved in /content/models/nomic_dateaware/checkpoint-300/tokenizer_config.json\n",
            "Special tokens file saved in /content/models/nomic_dateaware/checkpoint-300/special_tokens_map.json\n",
            "tokenizer config file saved in /content/models/nomic_dateaware/checkpoint-300/tokenizer_config.json\n",
            "Special tokens file saved in /content/models/nomic_dateaware/checkpoint-300/special_tokens_map.json\n",
            "Deleting older checkpoint [/content/models/nomic_dateaware/checkpoint-50] due to args.save_total_limit\n"
          ]
        },
        {
          "output_type": "stream",
          "name": "stdout",
          "text": [
            "{'loss': 0.0758, 'grad_norm': 13.065749168395996, 'learning_rate': 1.505e-05, 'epoch': 1.58}\n",
            "{'loss': 0.0633, 'grad_norm': 11.483824729919434, 'learning_rate': 1.5100000000000001e-05, 'epoch': 1.59}\n",
            "{'loss': 0.1819, 'grad_norm': 25.356000900268555, 'learning_rate': 1.515e-05, 'epoch': 1.59}\n",
            "{'loss': 0.5594, 'grad_norm': 26.06878089904785, 'learning_rate': 1.5200000000000002e-05, 'epoch': 1.6}\n",
            "{'loss': 0.0167, 'grad_norm': 2.803767681121826, 'learning_rate': 1.525e-05, 'epoch': 1.61}\n",
            "{'loss': 0.0382, 'grad_norm': 3.9040420055389404, 'learning_rate': 1.5300000000000003e-05, 'epoch': 1.61}\n",
            "{'loss': 0.0009, 'grad_norm': 0.1558803915977478, 'learning_rate': 1.535e-05, 'epoch': 1.62}\n",
            "{'loss': 0.4262, 'grad_norm': 19.234941482543945, 'learning_rate': 1.54e-05, 'epoch': 1.62}\n",
            "{'loss': 0.2515, 'grad_norm': 9.44295597076416, 'learning_rate': 1.545e-05, 'epoch': 1.63}\n",
            "{'loss': 0.0516, 'grad_norm': 9.277322769165039, 'learning_rate': 1.55e-05, 'epoch': 1.63}\n",
            "{'loss': 0.1217, 'grad_norm': 16.762760162353516, 'learning_rate': 1.5550000000000002e-05, 'epoch': 1.64}\n",
            "{'loss': 0.061, 'grad_norm': 9.946094512939453, 'learning_rate': 1.5600000000000003e-05, 'epoch': 1.64}\n",
            "{'loss': 0.0003, 'grad_norm': 0.053809698671102524, 'learning_rate': 1.565e-05, 'epoch': 1.65}\n",
            "{'loss': 0.0015, 'grad_norm': 0.23841185867786407, 'learning_rate': 1.5700000000000002e-05, 'epoch': 1.65}\n",
            "{'loss': 0.0095, 'grad_norm': 1.5526723861694336, 'learning_rate': 1.575e-05, 'epoch': 1.66}\n",
            "{'loss': 0.0768, 'grad_norm': 5.76975154876709, 'learning_rate': 1.58e-05, 'epoch': 1.66}\n",
            "{'loss': 0.2658, 'grad_norm': 8.270541191101074, 'learning_rate': 1.5850000000000002e-05, 'epoch': 1.67}\n",
            "{'loss': 1.2469, 'grad_norm': 41.91387939453125, 'learning_rate': 1.5900000000000004e-05, 'epoch': 1.67}\n",
            "{'loss': 0.0257, 'grad_norm': 2.870972156524658, 'learning_rate': 1.595e-05, 'epoch': 1.68}\n",
            "{'loss': 0.8809, 'grad_norm': 24.27878189086914, 'learning_rate': 1.6000000000000003e-05, 'epoch': 1.68}\n",
            "{'loss': 0.0239, 'grad_norm': 4.614211082458496, 'learning_rate': 1.605e-05, 'epoch': 1.69}\n",
            "{'loss': 0.2811, 'grad_norm': 21.26793098449707, 'learning_rate': 1.6100000000000002e-05, 'epoch': 1.69}\n",
            "{'loss': 0.1363, 'grad_norm': 14.210917472839355, 'learning_rate': 1.6150000000000003e-05, 'epoch': 1.7}\n",
            "{'loss': 0.0614, 'grad_norm': 8.551166534423828, 'learning_rate': 1.62e-05, 'epoch': 1.71}\n"
          ]
        },
        {
          "output_type": "stream",
          "name": "stderr",
          "text": [
            "Configuration saved in /content/models/nomic_dateaware/checkpoint-325/config.json\n"
          ]
        },
        {
          "output_type": "stream",
          "name": "stdout",
          "text": [
            "{'loss': 0.4853, 'grad_norm': 22.047258377075195, 'learning_rate': 1.6250000000000002e-05, 'epoch': 1.71}\n"
          ]
        },
        {
          "output_type": "stream",
          "name": "stderr",
          "text": [
            "Model weights saved in /content/models/nomic_dateaware/checkpoint-325/model.safetensors\n",
            "tokenizer config file saved in /content/models/nomic_dateaware/checkpoint-325/tokenizer_config.json\n",
            "Special tokens file saved in /content/models/nomic_dateaware/checkpoint-325/special_tokens_map.json\n",
            "tokenizer config file saved in /content/models/nomic_dateaware/checkpoint-325/tokenizer_config.json\n",
            "Special tokens file saved in /content/models/nomic_dateaware/checkpoint-325/special_tokens_map.json\n",
            "Deleting older checkpoint [/content/models/nomic_dateaware/checkpoint-75] due to args.save_total_limit\n"
          ]
        },
        {
          "output_type": "stream",
          "name": "stdout",
          "text": [
            "{'loss': 0.0021, 'grad_norm': 0.31460583209991455, 'learning_rate': 1.63e-05, 'epoch': 1.72}\n",
            "{'loss': 0.0093, 'grad_norm': 1.721247673034668, 'learning_rate': 1.635e-05, 'epoch': 1.72}\n",
            "{'loss': 0.0384, 'grad_norm': 5.958058834075928, 'learning_rate': 1.64e-05, 'epoch': 1.73}\n",
            "{'loss': 0.0013, 'grad_norm': 0.2045471966266632, 'learning_rate': 1.645e-05, 'epoch': 1.73}\n",
            "{'loss': 0.1306, 'grad_norm': 7.4578351974487305, 'learning_rate': 1.65e-05, 'epoch': 1.74}\n",
            "{'loss': 0.0416, 'grad_norm': 4.739534854888916, 'learning_rate': 1.6550000000000002e-05, 'epoch': 1.74}\n",
            "{'loss': 0.6395, 'grad_norm': 11.939114570617676, 'learning_rate': 1.66e-05, 'epoch': 1.75}\n",
            "{'loss': 0.0001, 'grad_norm': 0.021412571892142296, 'learning_rate': 1.665e-05, 'epoch': 1.75}\n",
            "{'loss': 0.1317, 'grad_norm': 7.255625247955322, 'learning_rate': 1.67e-05, 'epoch': 1.76}\n",
            "{'loss': 0.0004, 'grad_norm': 0.08292196691036224, 'learning_rate': 1.675e-05, 'epoch': 1.76}\n",
            "{'loss': 0.0758, 'grad_norm': 9.7545166015625, 'learning_rate': 1.6800000000000002e-05, 'epoch': 1.77}\n",
            "{'loss': 0.39, 'grad_norm': 35.98618698120117, 'learning_rate': 1.6850000000000003e-05, 'epoch': 1.77}\n",
            "{'loss': 0.0004, 'grad_norm': 0.1074792742729187, 'learning_rate': 1.69e-05, 'epoch': 1.78}\n",
            "{'loss': 0.0064, 'grad_norm': 1.0179494619369507, 'learning_rate': 1.6950000000000002e-05, 'epoch': 1.78}\n",
            "{'loss': 1.0973, 'grad_norm': 20.856708526611328, 'learning_rate': 1.7e-05, 'epoch': 1.79}\n",
            "{'loss': 1.0935, 'grad_norm': 36.55636978149414, 'learning_rate': 1.705e-05, 'epoch': 1.79}\n",
            "{'loss': 0.1474, 'grad_norm': 8.130840301513672, 'learning_rate': 1.7100000000000002e-05, 'epoch': 1.8}\n",
            "{'loss': 0.3092, 'grad_norm': 17.6026554107666, 'learning_rate': 1.7150000000000004e-05, 'epoch': 1.81}\n",
            "{'loss': 0.0036, 'grad_norm': 0.5261700749397278, 'learning_rate': 1.72e-05, 'epoch': 1.81}\n",
            "{'loss': 0.0002, 'grad_norm': 0.05221094191074371, 'learning_rate': 1.7250000000000003e-05, 'epoch': 1.82}\n",
            "{'loss': 0.1014, 'grad_norm': 11.995718002319336, 'learning_rate': 1.73e-05, 'epoch': 1.82}\n",
            "{'loss': 0.0095, 'grad_norm': 1.5206749439239502, 'learning_rate': 1.735e-05, 'epoch': 1.83}\n",
            "{'loss': 0.1129, 'grad_norm': 16.36376190185547, 'learning_rate': 1.7400000000000003e-05, 'epoch': 1.83}\n",
            "{'loss': 0.0006, 'grad_norm': 0.1267978847026825, 'learning_rate': 1.7450000000000004e-05, 'epoch': 1.84}\n"
          ]
        },
        {
          "output_type": "stream",
          "name": "stderr",
          "text": [
            "Configuration saved in /content/models/nomic_dateaware/checkpoint-350/config.json\n"
          ]
        },
        {
          "output_type": "stream",
          "name": "stdout",
          "text": [
            "{'loss': 0.0148, 'grad_norm': 4.351521015167236, 'learning_rate': 1.7500000000000002e-05, 'epoch': 1.84}\n"
          ]
        },
        {
          "output_type": "stream",
          "name": "stderr",
          "text": [
            "Model weights saved in /content/models/nomic_dateaware/checkpoint-350/model.safetensors\n",
            "tokenizer config file saved in /content/models/nomic_dateaware/checkpoint-350/tokenizer_config.json\n",
            "Special tokens file saved in /content/models/nomic_dateaware/checkpoint-350/special_tokens_map.json\n",
            "tokenizer config file saved in /content/models/nomic_dateaware/checkpoint-350/tokenizer_config.json\n",
            "Special tokens file saved in /content/models/nomic_dateaware/checkpoint-350/special_tokens_map.json\n",
            "Deleting older checkpoint [/content/models/nomic_dateaware/checkpoint-100] due to args.save_total_limit\n"
          ]
        },
        {
          "output_type": "stream",
          "name": "stdout",
          "text": [
            "{'loss': 0.0002, 'grad_norm': 0.041844502091407776, 'learning_rate': 1.755e-05, 'epoch': 1.85}\n",
            "{'loss': 0.0002, 'grad_norm': 0.024876534938812256, 'learning_rate': 1.76e-05, 'epoch': 1.85}\n",
            "{'loss': 0.0005, 'grad_norm': 0.1592688113451004, 'learning_rate': 1.7650000000000002e-05, 'epoch': 1.86}\n",
            "{'loss': 0.0005, 'grad_norm': 0.07829119265079498, 'learning_rate': 1.77e-05, 'epoch': 1.86}\n",
            "{'loss': 0.0003, 'grad_norm': 0.0670841783285141, 'learning_rate': 1.775e-05, 'epoch': 1.87}\n",
            "{'loss': 0.0008, 'grad_norm': 0.13412760198116302, 'learning_rate': 1.7800000000000002e-05, 'epoch': 1.87}\n",
            "{'loss': 0.0001, 'grad_norm': 0.012774411588907242, 'learning_rate': 1.785e-05, 'epoch': 1.88}\n",
            "{'loss': 0.01, 'grad_norm': 2.0730228424072266, 'learning_rate': 1.79e-05, 'epoch': 1.88}\n",
            "{'loss': 0.0021, 'grad_norm': 0.2688063085079193, 'learning_rate': 1.795e-05, 'epoch': 1.89}\n",
            "{'loss': 0.0001, 'grad_norm': 0.020482823252677917, 'learning_rate': 1.8e-05, 'epoch': 1.89}\n",
            "{'loss': 0.0021, 'grad_norm': 0.301929771900177, 'learning_rate': 1.805e-05, 'epoch': 1.9}\n",
            "{'loss': 0.2366, 'grad_norm': 17.372957229614258, 'learning_rate': 1.8100000000000003e-05, 'epoch': 1.91}\n",
            "{'loss': 0.0266, 'grad_norm': 3.1319053173065186, 'learning_rate': 1.815e-05, 'epoch': 1.91}\n",
            "{'loss': 0.142, 'grad_norm': 17.231504440307617, 'learning_rate': 1.8200000000000002e-05, 'epoch': 1.92}\n",
            "{'loss': 0.0005, 'grad_norm': 0.07825472950935364, 'learning_rate': 1.825e-05, 'epoch': 1.92}\n",
            "{'loss': 0.1817, 'grad_norm': 10.577740669250488, 'learning_rate': 1.83e-05, 'epoch': 1.93}\n",
            "{'loss': 0.3299, 'grad_norm': 27.80249786376953, 'learning_rate': 1.8350000000000002e-05, 'epoch': 1.93}\n",
            "{'loss': 0.1537, 'grad_norm': 12.040184020996094, 'learning_rate': 1.8400000000000003e-05, 'epoch': 1.94}\n",
            "{'loss': 0.0393, 'grad_norm': 7.926449775695801, 'learning_rate': 1.845e-05, 'epoch': 1.94}\n",
            "{'loss': 0.0004, 'grad_norm': 0.09950248152017593, 'learning_rate': 1.8500000000000002e-05, 'epoch': 1.95}\n",
            "{'loss': 0.0231, 'grad_norm': 3.283086061477661, 'learning_rate': 1.855e-05, 'epoch': 1.95}\n",
            "{'loss': 0.0008, 'grad_norm': 0.1423322707414627, 'learning_rate': 1.86e-05, 'epoch': 1.96}\n",
            "{'loss': 0.0018, 'grad_norm': 0.24731901288032532, 'learning_rate': 1.8650000000000003e-05, 'epoch': 1.96}\n",
            "{'loss': 0.0014, 'grad_norm': 0.16185933351516724, 'learning_rate': 1.8700000000000004e-05, 'epoch': 1.97}\n"
          ]
        },
        {
          "output_type": "stream",
          "name": "stderr",
          "text": [
            "Configuration saved in /content/models/nomic_dateaware/checkpoint-375/config.json\n"
          ]
        },
        {
          "output_type": "stream",
          "name": "stdout",
          "text": [
            "{'loss': 0.0185, 'grad_norm': 4.443674087524414, 'learning_rate': 1.8750000000000002e-05, 'epoch': 1.97}\n"
          ]
        },
        {
          "output_type": "stream",
          "name": "stderr",
          "text": [
            "Model weights saved in /content/models/nomic_dateaware/checkpoint-375/model.safetensors\n",
            "tokenizer config file saved in /content/models/nomic_dateaware/checkpoint-375/tokenizer_config.json\n",
            "Special tokens file saved in /content/models/nomic_dateaware/checkpoint-375/special_tokens_map.json\n",
            "tokenizer config file saved in /content/models/nomic_dateaware/checkpoint-375/tokenizer_config.json\n",
            "Special tokens file saved in /content/models/nomic_dateaware/checkpoint-375/special_tokens_map.json\n",
            "Deleting older checkpoint [/content/models/nomic_dateaware/checkpoint-125] due to args.save_total_limit\n"
          ]
        },
        {
          "output_type": "stream",
          "name": "stdout",
          "text": [
            "{'loss': 0.0109, 'grad_norm': 2.507520914077759, 'learning_rate': 1.88e-05, 'epoch': 1.98}\n",
            "{'loss': 0.0004, 'grad_norm': 0.0845104455947876, 'learning_rate': 1.885e-05, 'epoch': 1.98}\n",
            "{'loss': 0.3628, 'grad_norm': 31.981847763061523, 'learning_rate': 1.8900000000000002e-05, 'epoch': 1.99}\n",
            "{'loss': 0.0505, 'grad_norm': 8.036585807800293, 'learning_rate': 1.8950000000000003e-05, 'epoch': 1.99}\n"
          ]
        },
        {
          "output_type": "stream",
          "name": "stderr",
          "text": [
            "\n",
            "\n",
            "Training completed. Do not forget to share your model on huggingface.co/models =)\n",
            "\n",
            "\n"
          ]
        },
        {
          "output_type": "stream",
          "name": "stdout",
          "text": [
            "{'loss': 0.0, 'grad_norm': 0.0, 'learning_rate': 1.9e-05, 'epoch': 2.0}\n",
            "{'train_runtime': 338.5773, 'train_samples_per_second': 8.937, 'train_steps_per_second': 1.122, 'train_loss': 0.1421405672976801, 'epoch': 2.0}\n"
          ]
        },
        {
          "output_type": "stream",
          "name": "stderr",
          "text": [
            "Configuration saved in models/nomic_dateaware/final/config.json\n",
            "Model weights saved in models/nomic_dateaware/final/model.safetensors\n",
            "tokenizer config file saved in models/nomic_dateaware/final/tokenizer_config.json\n",
            "Special tokens file saved in models/nomic_dateaware/final/special_tokens_map.json\n"
          ]
        },
        {
          "output_type": "stream",
          "name": "stdout",
          "text": [
            "Model saved successfully.\n"
          ]
        }
      ]
    },
    {
      "cell_type": "code",
      "source": [
        "!zip -r /content/model.zip /content/models/nomic_dateaware/final"
      ],
      "metadata": {
        "colab": {
          "base_uri": "https://localhost:8080/"
        },
        "id": "FZRPBSY2rjTT",
        "outputId": "a0ee3a04-8d61-42e2-d16f-f726210a0129"
      },
      "id": "FZRPBSY2rjTT",
      "execution_count": null,
      "outputs": [
        {
          "output_type": "stream",
          "name": "stdout",
          "text": [
            "  adding: content/models/nomic_dateaware/final/ (stored 0%)\n",
            "  adding: content/models/nomic_dateaware/final/model.safetensors (deflated 8%)\n",
            "  adding: content/models/nomic_dateaware/final/modules.json (deflated 62%)\n",
            "  adding: content/models/nomic_dateaware/final/1_Pooling/ (stored 0%)\n",
            "  adding: content/models/nomic_dateaware/final/1_Pooling/config.json (deflated 57%)\n",
            "  adding: content/models/nomic_dateaware/final/config.json (deflated 60%)\n",
            "  adding: content/models/nomic_dateaware/final/special_tokens_map.json (deflated 80%)\n",
            "  adding: content/models/nomic_dateaware/final/tokenizer.json (deflated 71%)\n",
            "  adding: content/models/nomic_dateaware/final/tokenizer_config.json (deflated 76%)\n",
            "  adding: content/models/nomic_dateaware/final/vocab.txt (deflated 53%)\n",
            "  adding: content/models/nomic_dateaware/final/2_Normalize/ (stored 0%)\n",
            "  adding: content/models/nomic_dateaware/final/sentence_bert_config.json (deflated 4%)\n",
            "  adding: content/models/nomic_dateaware/final/config_sentence_transformers.json (deflated 35%)\n",
            "  adding: content/models/nomic_dateaware/final/README.md (deflated 76%)\n"
          ]
        }
      ]
    },
    {
      "cell_type": "code",
      "source": [
        "from google.colab import files\n",
        "files.download(\"/content/model.zip\")"
      ],
      "metadata": {
        "id": "T901iP-vsbWE"
      },
      "id": "T901iP-vsbWE",
      "execution_count": null,
      "outputs": []
    },
    {
      "cell_type": "code",
      "source": [],
      "metadata": {
        "id": "5TcuuOgV0t51"
      },
      "id": "5TcuuOgV0t51",
      "execution_count": null,
      "outputs": []
    }
  ],
  "metadata": {
    "kernelspec": {
      "display_name": "Python 3",
      "name": "python3"
    },
    "language_info": {
      "codemirror_mode": {
        "name": "ipython",
        "version": 3
      },
      "file_extension": ".py",
      "mimetype": "text/x-python",
      "name": "python",
      "nbconvert_exporter": "python",
      "pygments_lexer": "ipython3",
      "version": "3.10.10"
    },
    "colab": {
      "provenance": [],
      "gpuType": "T4"
    },
    "widgets": {
      "application/vnd.jupyter.widget-state+json": {
        "2e51aa29582a423cba50a0ff0885aaec": {
          "model_module": "@jupyter-widgets/controls",
          "model_name": "HBoxModel",
          "model_module_version": "1.5.0",
          "state": {
            "_dom_classes": [],
            "_model_module": "@jupyter-widgets/controls",
            "_model_module_version": "1.5.0",
            "_model_name": "HBoxModel",
            "_view_count": null,
            "_view_module": "@jupyter-widgets/controls",
            "_view_module_version": "1.5.0",
            "_view_name": "HBoxView",
            "box_style": "",
            "children": [
              "IPY_MODEL_0b19618ee6bb4450918da9a7763e62bc",
              "IPY_MODEL_88aac46f430e4300bc32fc378671b0fa",
              "IPY_MODEL_df1f76b4d4d94d7f856b7f5fefbedfb0"
            ],
            "layout": "IPY_MODEL_6677e8d72d1847488e3bcb6e6f722d4b"
          }
        },
        "0b19618ee6bb4450918da9a7763e62bc": {
          "model_module": "@jupyter-widgets/controls",
          "model_name": "HTMLModel",
          "model_module_version": "1.5.0",
          "state": {
            "_dom_classes": [],
            "_model_module": "@jupyter-widgets/controls",
            "_model_module_version": "1.5.0",
            "_model_name": "HTMLModel",
            "_view_count": null,
            "_view_module": "@jupyter-widgets/controls",
            "_view_module_version": "1.5.0",
            "_view_name": "HTMLView",
            "description": "",
            "description_tooltip": null,
            "layout": "IPY_MODEL_7434e8f452794488b1a11c906e479c30",
            "placeholder": "​",
            "style": "IPY_MODEL_2d7f30f0e88b4475926d478a2b2a7d31",
            "value": "100%"
          }
        },
        "88aac46f430e4300bc32fc378671b0fa": {
          "model_module": "@jupyter-widgets/controls",
          "model_name": "FloatProgressModel",
          "model_module_version": "1.5.0",
          "state": {
            "_dom_classes": [],
            "_model_module": "@jupyter-widgets/controls",
            "_model_module_version": "1.5.0",
            "_model_name": "FloatProgressModel",
            "_view_count": null,
            "_view_module": "@jupyter-widgets/controls",
            "_view_module_version": "1.5.0",
            "_view_name": "ProgressView",
            "bar_style": "success",
            "description": "",
            "description_tooltip": null,
            "layout": "IPY_MODEL_2e64b7e4d1a44345bef97e40f2f6a3b3",
            "max": 380,
            "min": 0,
            "orientation": "horizontal",
            "style": "IPY_MODEL_4ea294dcee0b4e9b9ddfec75750035e2",
            "value": 380
          }
        },
        "df1f76b4d4d94d7f856b7f5fefbedfb0": {
          "model_module": "@jupyter-widgets/controls",
          "model_name": "HTMLModel",
          "model_module_version": "1.5.0",
          "state": {
            "_dom_classes": [],
            "_model_module": "@jupyter-widgets/controls",
            "_model_module_version": "1.5.0",
            "_model_name": "HTMLModel",
            "_view_count": null,
            "_view_module": "@jupyter-widgets/controls",
            "_view_module_version": "1.5.0",
            "_view_name": "HTMLView",
            "description": "",
            "description_tooltip": null,
            "layout": "IPY_MODEL_1788fd9d31d2470ea088bed0c755f8e4",
            "placeholder": "​",
            "style": "IPY_MODEL_44decb1f0e3643e993b5e889f539cc48",
            "value": " 380/380 [05:38&lt;00:00,  1.25it/s]"
          }
        },
        "6677e8d72d1847488e3bcb6e6f722d4b": {
          "model_module": "@jupyter-widgets/base",
          "model_name": "LayoutModel",
          "model_module_version": "1.2.0",
          "state": {
            "_model_module": "@jupyter-widgets/base",
            "_model_module_version": "1.2.0",
            "_model_name": "LayoutModel",
            "_view_count": null,
            "_view_module": "@jupyter-widgets/base",
            "_view_module_version": "1.2.0",
            "_view_name": "LayoutView",
            "align_content": null,
            "align_items": null,
            "align_self": null,
            "border": null,
            "bottom": null,
            "display": "inline-flex",
            "flex": null,
            "flex_flow": "row wrap",
            "grid_area": null,
            "grid_auto_columns": null,
            "grid_auto_flow": null,
            "grid_auto_rows": null,
            "grid_column": null,
            "grid_gap": null,
            "grid_row": null,
            "grid_template_areas": null,
            "grid_template_columns": null,
            "grid_template_rows": null,
            "height": null,
            "justify_content": null,
            "justify_items": null,
            "left": null,
            "margin": null,
            "max_height": null,
            "max_width": null,
            "min_height": null,
            "min_width": null,
            "object_fit": null,
            "object_position": null,
            "order": null,
            "overflow": null,
            "overflow_x": null,
            "overflow_y": null,
            "padding": null,
            "right": null,
            "top": null,
            "visibility": null,
            "width": "100%"
          }
        },
        "7434e8f452794488b1a11c906e479c30": {
          "model_module": "@jupyter-widgets/base",
          "model_name": "LayoutModel",
          "model_module_version": "1.2.0",
          "state": {
            "_model_module": "@jupyter-widgets/base",
            "_model_module_version": "1.2.0",
            "_model_name": "LayoutModel",
            "_view_count": null,
            "_view_module": "@jupyter-widgets/base",
            "_view_module_version": "1.2.0",
            "_view_name": "LayoutView",
            "align_content": null,
            "align_items": null,
            "align_self": null,
            "border": null,
            "bottom": null,
            "display": null,
            "flex": null,
            "flex_flow": null,
            "grid_area": null,
            "grid_auto_columns": null,
            "grid_auto_flow": null,
            "grid_auto_rows": null,
            "grid_column": null,
            "grid_gap": null,
            "grid_row": null,
            "grid_template_areas": null,
            "grid_template_columns": null,
            "grid_template_rows": null,
            "height": null,
            "justify_content": null,
            "justify_items": null,
            "left": null,
            "margin": null,
            "max_height": null,
            "max_width": null,
            "min_height": null,
            "min_width": null,
            "object_fit": null,
            "object_position": null,
            "order": null,
            "overflow": null,
            "overflow_x": null,
            "overflow_y": null,
            "padding": null,
            "right": null,
            "top": null,
            "visibility": null,
            "width": null
          }
        },
        "2d7f30f0e88b4475926d478a2b2a7d31": {
          "model_module": "@jupyter-widgets/controls",
          "model_name": "DescriptionStyleModel",
          "model_module_version": "1.5.0",
          "state": {
            "_model_module": "@jupyter-widgets/controls",
            "_model_module_version": "1.5.0",
            "_model_name": "DescriptionStyleModel",
            "_view_count": null,
            "_view_module": "@jupyter-widgets/base",
            "_view_module_version": "1.2.0",
            "_view_name": "StyleView",
            "description_width": ""
          }
        },
        "2e64b7e4d1a44345bef97e40f2f6a3b3": {
          "model_module": "@jupyter-widgets/base",
          "model_name": "LayoutModel",
          "model_module_version": "1.2.0",
          "state": {
            "_model_module": "@jupyter-widgets/base",
            "_model_module_version": "1.2.0",
            "_model_name": "LayoutModel",
            "_view_count": null,
            "_view_module": "@jupyter-widgets/base",
            "_view_module_version": "1.2.0",
            "_view_name": "LayoutView",
            "align_content": null,
            "align_items": null,
            "align_self": null,
            "border": null,
            "bottom": null,
            "display": null,
            "flex": "2",
            "flex_flow": null,
            "grid_area": null,
            "grid_auto_columns": null,
            "grid_auto_flow": null,
            "grid_auto_rows": null,
            "grid_column": null,
            "grid_gap": null,
            "grid_row": null,
            "grid_template_areas": null,
            "grid_template_columns": null,
            "grid_template_rows": null,
            "height": null,
            "justify_content": null,
            "justify_items": null,
            "left": null,
            "margin": null,
            "max_height": null,
            "max_width": null,
            "min_height": null,
            "min_width": null,
            "object_fit": null,
            "object_position": null,
            "order": null,
            "overflow": null,
            "overflow_x": null,
            "overflow_y": null,
            "padding": null,
            "right": null,
            "top": null,
            "visibility": null,
            "width": null
          }
        },
        "4ea294dcee0b4e9b9ddfec75750035e2": {
          "model_module": "@jupyter-widgets/controls",
          "model_name": "ProgressStyleModel",
          "model_module_version": "1.5.0",
          "state": {
            "_model_module": "@jupyter-widgets/controls",
            "_model_module_version": "1.5.0",
            "_model_name": "ProgressStyleModel",
            "_view_count": null,
            "_view_module": "@jupyter-widgets/base",
            "_view_module_version": "1.2.0",
            "_view_name": "StyleView",
            "bar_color": null,
            "description_width": ""
          }
        },
        "1788fd9d31d2470ea088bed0c755f8e4": {
          "model_module": "@jupyter-widgets/base",
          "model_name": "LayoutModel",
          "model_module_version": "1.2.0",
          "state": {
            "_model_module": "@jupyter-widgets/base",
            "_model_module_version": "1.2.0",
            "_model_name": "LayoutModel",
            "_view_count": null,
            "_view_module": "@jupyter-widgets/base",
            "_view_module_version": "1.2.0",
            "_view_name": "LayoutView",
            "align_content": null,
            "align_items": null,
            "align_self": null,
            "border": null,
            "bottom": null,
            "display": null,
            "flex": null,
            "flex_flow": null,
            "grid_area": null,
            "grid_auto_columns": null,
            "grid_auto_flow": null,
            "grid_auto_rows": null,
            "grid_column": null,
            "grid_gap": null,
            "grid_row": null,
            "grid_template_areas": null,
            "grid_template_columns": null,
            "grid_template_rows": null,
            "height": null,
            "justify_content": null,
            "justify_items": null,
            "left": null,
            "margin": null,
            "max_height": null,
            "max_width": null,
            "min_height": null,
            "min_width": null,
            "object_fit": null,
            "object_position": null,
            "order": null,
            "overflow": null,
            "overflow_x": null,
            "overflow_y": null,
            "padding": null,
            "right": null,
            "top": null,
            "visibility": null,
            "width": null
          }
        },
        "44decb1f0e3643e993b5e889f539cc48": {
          "model_module": "@jupyter-widgets/controls",
          "model_name": "DescriptionStyleModel",
          "model_module_version": "1.5.0",
          "state": {
            "_model_module": "@jupyter-widgets/controls",
            "_model_module_version": "1.5.0",
            "_model_name": "DescriptionStyleModel",
            "_view_count": null,
            "_view_module": "@jupyter-widgets/base",
            "_view_module_version": "1.2.0",
            "_view_name": "StyleView",
            "description_width": ""
          }
        },
        "fb5873eae99a40039abb2363b8e19e64": {
          "model_module": "@jupyter-widgets/controls",
          "model_name": "HBoxModel",
          "model_module_version": "1.5.0",
          "state": {
            "_dom_classes": [],
            "_model_module": "@jupyter-widgets/controls",
            "_model_module_version": "1.5.0",
            "_model_name": "HBoxModel",
            "_view_count": null,
            "_view_module": "@jupyter-widgets/controls",
            "_view_module_version": "1.5.0",
            "_view_name": "HBoxView",
            "box_style": "",
            "children": [
              "IPY_MODEL_abb8731e48634e59887af2e1e0ad04d1",
              "IPY_MODEL_9b6f4d3a107640dcadae8316e970d26c",
              "IPY_MODEL_cba8ef8fd86045e9852a46d533fe7d88"
            ],
            "layout": "IPY_MODEL_42279c2ff0f1404390267088ae041af9"
          }
        },
        "abb8731e48634e59887af2e1e0ad04d1": {
          "model_module": "@jupyter-widgets/controls",
          "model_name": "HTMLModel",
          "model_module_version": "1.5.0",
          "state": {
            "_dom_classes": [],
            "_model_module": "@jupyter-widgets/controls",
            "_model_module_version": "1.5.0",
            "_model_name": "HTMLModel",
            "_view_count": null,
            "_view_module": "@jupyter-widgets/controls",
            "_view_module_version": "1.5.0",
            "_view_name": "HTMLView",
            "description": "",
            "description_tooltip": null,
            "layout": "IPY_MODEL_3990bc5eba65452e9004f9b95b5f6409",
            "placeholder": "​",
            "style": "IPY_MODEL_93f9837c79774d8cb903227ec1e582a9",
            "value": "100%"
          }
        },
        "9b6f4d3a107640dcadae8316e970d26c": {
          "model_module": "@jupyter-widgets/controls",
          "model_name": "FloatProgressModel",
          "model_module_version": "1.5.0",
          "state": {
            "_dom_classes": [],
            "_model_module": "@jupyter-widgets/controls",
            "_model_module_version": "1.5.0",
            "_model_name": "FloatProgressModel",
            "_view_count": null,
            "_view_module": "@jupyter-widgets/controls",
            "_view_module_version": "1.5.0",
            "_view_name": "ProgressView",
            "bar_style": "",
            "description": "",
            "description_tooltip": null,
            "layout": "IPY_MODEL_e93865ea3fa846f9b22128dfd3806c19",
            "max": 190,
            "min": 0,
            "orientation": "horizontal",
            "style": "IPY_MODEL_6d3bcacf6846409ca91bd415ca3cce28",
            "value": 190
          }
        },
        "cba8ef8fd86045e9852a46d533fe7d88": {
          "model_module": "@jupyter-widgets/controls",
          "model_name": "HTMLModel",
          "model_module_version": "1.5.0",
          "state": {
            "_dom_classes": [],
            "_model_module": "@jupyter-widgets/controls",
            "_model_module_version": "1.5.0",
            "_model_name": "HTMLModel",
            "_view_count": null,
            "_view_module": "@jupyter-widgets/controls",
            "_view_module_version": "1.5.0",
            "_view_name": "HTMLView",
            "description": "",
            "description_tooltip": null,
            "layout": "IPY_MODEL_5e424f9514a54c3c9c3f3da80480ea55",
            "placeholder": "​",
            "style": "IPY_MODEL_d12c0dde2cea4b638e476ec06242492a",
            "value": " 190/190 [00:16&lt;00:00,  9.71it/s]"
          }
        },
        "42279c2ff0f1404390267088ae041af9": {
          "model_module": "@jupyter-widgets/base",
          "model_name": "LayoutModel",
          "model_module_version": "1.2.0",
          "state": {
            "_model_module": "@jupyter-widgets/base",
            "_model_module_version": "1.2.0",
            "_model_name": "LayoutModel",
            "_view_count": null,
            "_view_module": "@jupyter-widgets/base",
            "_view_module_version": "1.2.0",
            "_view_name": "LayoutView",
            "align_content": null,
            "align_items": null,
            "align_self": null,
            "border": null,
            "bottom": null,
            "display": "inline-flex",
            "flex": null,
            "flex_flow": "row wrap",
            "grid_area": null,
            "grid_auto_columns": null,
            "grid_auto_flow": null,
            "grid_auto_rows": null,
            "grid_column": null,
            "grid_gap": null,
            "grid_row": null,
            "grid_template_areas": null,
            "grid_template_columns": null,
            "grid_template_rows": null,
            "height": null,
            "justify_content": null,
            "justify_items": null,
            "left": null,
            "margin": null,
            "max_height": null,
            "max_width": null,
            "min_height": null,
            "min_width": null,
            "object_fit": null,
            "object_position": null,
            "order": null,
            "overflow": null,
            "overflow_x": null,
            "overflow_y": null,
            "padding": null,
            "right": null,
            "top": null,
            "visibility": "hidden",
            "width": "100%"
          }
        },
        "3990bc5eba65452e9004f9b95b5f6409": {
          "model_module": "@jupyter-widgets/base",
          "model_name": "LayoutModel",
          "model_module_version": "1.2.0",
          "state": {
            "_model_module": "@jupyter-widgets/base",
            "_model_module_version": "1.2.0",
            "_model_name": "LayoutModel",
            "_view_count": null,
            "_view_module": "@jupyter-widgets/base",
            "_view_module_version": "1.2.0",
            "_view_name": "LayoutView",
            "align_content": null,
            "align_items": null,
            "align_self": null,
            "border": null,
            "bottom": null,
            "display": null,
            "flex": null,
            "flex_flow": null,
            "grid_area": null,
            "grid_auto_columns": null,
            "grid_auto_flow": null,
            "grid_auto_rows": null,
            "grid_column": null,
            "grid_gap": null,
            "grid_row": null,
            "grid_template_areas": null,
            "grid_template_columns": null,
            "grid_template_rows": null,
            "height": null,
            "justify_content": null,
            "justify_items": null,
            "left": null,
            "margin": null,
            "max_height": null,
            "max_width": null,
            "min_height": null,
            "min_width": null,
            "object_fit": null,
            "object_position": null,
            "order": null,
            "overflow": null,
            "overflow_x": null,
            "overflow_y": null,
            "padding": null,
            "right": null,
            "top": null,
            "visibility": null,
            "width": null
          }
        },
        "93f9837c79774d8cb903227ec1e582a9": {
          "model_module": "@jupyter-widgets/controls",
          "model_name": "DescriptionStyleModel",
          "model_module_version": "1.5.0",
          "state": {
            "_model_module": "@jupyter-widgets/controls",
            "_model_module_version": "1.5.0",
            "_model_name": "DescriptionStyleModel",
            "_view_count": null,
            "_view_module": "@jupyter-widgets/base",
            "_view_module_version": "1.2.0",
            "_view_name": "StyleView",
            "description_width": ""
          }
        },
        "e93865ea3fa846f9b22128dfd3806c19": {
          "model_module": "@jupyter-widgets/base",
          "model_name": "LayoutModel",
          "model_module_version": "1.2.0",
          "state": {
            "_model_module": "@jupyter-widgets/base",
            "_model_module_version": "1.2.0",
            "_model_name": "LayoutModel",
            "_view_count": null,
            "_view_module": "@jupyter-widgets/base",
            "_view_module_version": "1.2.0",
            "_view_name": "LayoutView",
            "align_content": null,
            "align_items": null,
            "align_self": null,
            "border": null,
            "bottom": null,
            "display": null,
            "flex": "2",
            "flex_flow": null,
            "grid_area": null,
            "grid_auto_columns": null,
            "grid_auto_flow": null,
            "grid_auto_rows": null,
            "grid_column": null,
            "grid_gap": null,
            "grid_row": null,
            "grid_template_areas": null,
            "grid_template_columns": null,
            "grid_template_rows": null,
            "height": null,
            "justify_content": null,
            "justify_items": null,
            "left": null,
            "margin": null,
            "max_height": null,
            "max_width": null,
            "min_height": null,
            "min_width": null,
            "object_fit": null,
            "object_position": null,
            "order": null,
            "overflow": null,
            "overflow_x": null,
            "overflow_y": null,
            "padding": null,
            "right": null,
            "top": null,
            "visibility": null,
            "width": null
          }
        },
        "6d3bcacf6846409ca91bd415ca3cce28": {
          "model_module": "@jupyter-widgets/controls",
          "model_name": "ProgressStyleModel",
          "model_module_version": "1.5.0",
          "state": {
            "_model_module": "@jupyter-widgets/controls",
            "_model_module_version": "1.5.0",
            "_model_name": "ProgressStyleModel",
            "_view_count": null,
            "_view_module": "@jupyter-widgets/base",
            "_view_module_version": "1.2.0",
            "_view_name": "StyleView",
            "bar_color": null,
            "description_width": ""
          }
        },
        "5e424f9514a54c3c9c3f3da80480ea55": {
          "model_module": "@jupyter-widgets/base",
          "model_name": "LayoutModel",
          "model_module_version": "1.2.0",
          "state": {
            "_model_module": "@jupyter-widgets/base",
            "_model_module_version": "1.2.0",
            "_model_name": "LayoutModel",
            "_view_count": null,
            "_view_module": "@jupyter-widgets/base",
            "_view_module_version": "1.2.0",
            "_view_name": "LayoutView",
            "align_content": null,
            "align_items": null,
            "align_self": null,
            "border": null,
            "bottom": null,
            "display": null,
            "flex": null,
            "flex_flow": null,
            "grid_area": null,
            "grid_auto_columns": null,
            "grid_auto_flow": null,
            "grid_auto_rows": null,
            "grid_column": null,
            "grid_gap": null,
            "grid_row": null,
            "grid_template_areas": null,
            "grid_template_columns": null,
            "grid_template_rows": null,
            "height": null,
            "justify_content": null,
            "justify_items": null,
            "left": null,
            "margin": null,
            "max_height": null,
            "max_width": null,
            "min_height": null,
            "min_width": null,
            "object_fit": null,
            "object_position": null,
            "order": null,
            "overflow": null,
            "overflow_x": null,
            "overflow_y": null,
            "padding": null,
            "right": null,
            "top": null,
            "visibility": null,
            "width": null
          }
        },
        "d12c0dde2cea4b638e476ec06242492a": {
          "model_module": "@jupyter-widgets/controls",
          "model_name": "DescriptionStyleModel",
          "model_module_version": "1.5.0",
          "state": {
            "_model_module": "@jupyter-widgets/controls",
            "_model_module_version": "1.5.0",
            "_model_name": "DescriptionStyleModel",
            "_view_count": null,
            "_view_module": "@jupyter-widgets/base",
            "_view_module_version": "1.2.0",
            "_view_name": "StyleView",
            "description_width": ""
          }
        },
        "daa99a2e82814eb3a983ed93c6331c8e": {
          "model_module": "@jupyter-widgets/controls",
          "model_name": "HBoxModel",
          "model_module_version": "1.5.0",
          "state": {
            "_dom_classes": [],
            "_model_module": "@jupyter-widgets/controls",
            "_model_module_version": "1.5.0",
            "_model_name": "HBoxModel",
            "_view_count": null,
            "_view_module": "@jupyter-widgets/controls",
            "_view_module_version": "1.5.0",
            "_view_name": "HBoxView",
            "box_style": "",
            "children": [
              "IPY_MODEL_180a1d19f6aa46babe733823d919fd0a",
              "IPY_MODEL_21c0487146904aeaae8be473455f1f35",
              "IPY_MODEL_2933e3ac1f1e4c42a6635706c13cd187"
            ],
            "layout": "IPY_MODEL_372ef19820624e9286f4f172e0c83a05"
          }
        },
        "180a1d19f6aa46babe733823d919fd0a": {
          "model_module": "@jupyter-widgets/controls",
          "model_name": "HTMLModel",
          "model_module_version": "1.5.0",
          "state": {
            "_dom_classes": [],
            "_model_module": "@jupyter-widgets/controls",
            "_model_module_version": "1.5.0",
            "_model_name": "HTMLModel",
            "_view_count": null,
            "_view_module": "@jupyter-widgets/controls",
            "_view_module_version": "1.5.0",
            "_view_name": "HTMLView",
            "description": "",
            "description_tooltip": null,
            "layout": "IPY_MODEL_19f0151c2a324edca152204dc1a37362",
            "placeholder": "​",
            "style": "IPY_MODEL_63e1dcc2ab5745f0a8559c5e61ef0a2e",
            "value": "100%"
          }
        },
        "21c0487146904aeaae8be473455f1f35": {
          "model_module": "@jupyter-widgets/controls",
          "model_name": "FloatProgressModel",
          "model_module_version": "1.5.0",
          "state": {
            "_dom_classes": [],
            "_model_module": "@jupyter-widgets/controls",
            "_model_module_version": "1.5.0",
            "_model_name": "FloatProgressModel",
            "_view_count": null,
            "_view_module": "@jupyter-widgets/controls",
            "_view_module_version": "1.5.0",
            "_view_name": "ProgressView",
            "bar_style": "",
            "description": "",
            "description_tooltip": null,
            "layout": "IPY_MODEL_1e042dba455642248c1db80517d4d6c8",
            "max": 190,
            "min": 0,
            "orientation": "horizontal",
            "style": "IPY_MODEL_06a0dcb6e21c445f83de34ad4e399b86",
            "value": 190
          }
        },
        "2933e3ac1f1e4c42a6635706c13cd187": {
          "model_module": "@jupyter-widgets/controls",
          "model_name": "HTMLModel",
          "model_module_version": "1.5.0",
          "state": {
            "_dom_classes": [],
            "_model_module": "@jupyter-widgets/controls",
            "_model_module_version": "1.5.0",
            "_model_name": "HTMLModel",
            "_view_count": null,
            "_view_module": "@jupyter-widgets/controls",
            "_view_module_version": "1.5.0",
            "_view_name": "HTMLView",
            "description": "",
            "description_tooltip": null,
            "layout": "IPY_MODEL_c06f2181b2d14537b31f8733046f3c08",
            "placeholder": "​",
            "style": "IPY_MODEL_1398bc2705344e4ea4fef88be66e602e",
            "value": " 190/190 [00:17&lt;00:00, 12.16it/s]"
          }
        },
        "372ef19820624e9286f4f172e0c83a05": {
          "model_module": "@jupyter-widgets/base",
          "model_name": "LayoutModel",
          "model_module_version": "1.2.0",
          "state": {
            "_model_module": "@jupyter-widgets/base",
            "_model_module_version": "1.2.0",
            "_model_name": "LayoutModel",
            "_view_count": null,
            "_view_module": "@jupyter-widgets/base",
            "_view_module_version": "1.2.0",
            "_view_name": "LayoutView",
            "align_content": null,
            "align_items": null,
            "align_self": null,
            "border": null,
            "bottom": null,
            "display": "inline-flex",
            "flex": null,
            "flex_flow": "row wrap",
            "grid_area": null,
            "grid_auto_columns": null,
            "grid_auto_flow": null,
            "grid_auto_rows": null,
            "grid_column": null,
            "grid_gap": null,
            "grid_row": null,
            "grid_template_areas": null,
            "grid_template_columns": null,
            "grid_template_rows": null,
            "height": null,
            "justify_content": null,
            "justify_items": null,
            "left": null,
            "margin": null,
            "max_height": null,
            "max_width": null,
            "min_height": null,
            "min_width": null,
            "object_fit": null,
            "object_position": null,
            "order": null,
            "overflow": null,
            "overflow_x": null,
            "overflow_y": null,
            "padding": null,
            "right": null,
            "top": null,
            "visibility": "hidden",
            "width": "100%"
          }
        },
        "19f0151c2a324edca152204dc1a37362": {
          "model_module": "@jupyter-widgets/base",
          "model_name": "LayoutModel",
          "model_module_version": "1.2.0",
          "state": {
            "_model_module": "@jupyter-widgets/base",
            "_model_module_version": "1.2.0",
            "_model_name": "LayoutModel",
            "_view_count": null,
            "_view_module": "@jupyter-widgets/base",
            "_view_module_version": "1.2.0",
            "_view_name": "LayoutView",
            "align_content": null,
            "align_items": null,
            "align_self": null,
            "border": null,
            "bottom": null,
            "display": null,
            "flex": null,
            "flex_flow": null,
            "grid_area": null,
            "grid_auto_columns": null,
            "grid_auto_flow": null,
            "grid_auto_rows": null,
            "grid_column": null,
            "grid_gap": null,
            "grid_row": null,
            "grid_template_areas": null,
            "grid_template_columns": null,
            "grid_template_rows": null,
            "height": null,
            "justify_content": null,
            "justify_items": null,
            "left": null,
            "margin": null,
            "max_height": null,
            "max_width": null,
            "min_height": null,
            "min_width": null,
            "object_fit": null,
            "object_position": null,
            "order": null,
            "overflow": null,
            "overflow_x": null,
            "overflow_y": null,
            "padding": null,
            "right": null,
            "top": null,
            "visibility": null,
            "width": null
          }
        },
        "63e1dcc2ab5745f0a8559c5e61ef0a2e": {
          "model_module": "@jupyter-widgets/controls",
          "model_name": "DescriptionStyleModel",
          "model_module_version": "1.5.0",
          "state": {
            "_model_module": "@jupyter-widgets/controls",
            "_model_module_version": "1.5.0",
            "_model_name": "DescriptionStyleModel",
            "_view_count": null,
            "_view_module": "@jupyter-widgets/base",
            "_view_module_version": "1.2.0",
            "_view_name": "StyleView",
            "description_width": ""
          }
        },
        "1e042dba455642248c1db80517d4d6c8": {
          "model_module": "@jupyter-widgets/base",
          "model_name": "LayoutModel",
          "model_module_version": "1.2.0",
          "state": {
            "_model_module": "@jupyter-widgets/base",
            "_model_module_version": "1.2.0",
            "_model_name": "LayoutModel",
            "_view_count": null,
            "_view_module": "@jupyter-widgets/base",
            "_view_module_version": "1.2.0",
            "_view_name": "LayoutView",
            "align_content": null,
            "align_items": null,
            "align_self": null,
            "border": null,
            "bottom": null,
            "display": null,
            "flex": "2",
            "flex_flow": null,
            "grid_area": null,
            "grid_auto_columns": null,
            "grid_auto_flow": null,
            "grid_auto_rows": null,
            "grid_column": null,
            "grid_gap": null,
            "grid_row": null,
            "grid_template_areas": null,
            "grid_template_columns": null,
            "grid_template_rows": null,
            "height": null,
            "justify_content": null,
            "justify_items": null,
            "left": null,
            "margin": null,
            "max_height": null,
            "max_width": null,
            "min_height": null,
            "min_width": null,
            "object_fit": null,
            "object_position": null,
            "order": null,
            "overflow": null,
            "overflow_x": null,
            "overflow_y": null,
            "padding": null,
            "right": null,
            "top": null,
            "visibility": null,
            "width": null
          }
        },
        "06a0dcb6e21c445f83de34ad4e399b86": {
          "model_module": "@jupyter-widgets/controls",
          "model_name": "ProgressStyleModel",
          "model_module_version": "1.5.0",
          "state": {
            "_model_module": "@jupyter-widgets/controls",
            "_model_module_version": "1.5.0",
            "_model_name": "ProgressStyleModel",
            "_view_count": null,
            "_view_module": "@jupyter-widgets/base",
            "_view_module_version": "1.2.0",
            "_view_name": "StyleView",
            "bar_color": null,
            "description_width": ""
          }
        },
        "c06f2181b2d14537b31f8733046f3c08": {
          "model_module": "@jupyter-widgets/base",
          "model_name": "LayoutModel",
          "model_module_version": "1.2.0",
          "state": {
            "_model_module": "@jupyter-widgets/base",
            "_model_module_version": "1.2.0",
            "_model_name": "LayoutModel",
            "_view_count": null,
            "_view_module": "@jupyter-widgets/base",
            "_view_module_version": "1.2.0",
            "_view_name": "LayoutView",
            "align_content": null,
            "align_items": null,
            "align_self": null,
            "border": null,
            "bottom": null,
            "display": null,
            "flex": null,
            "flex_flow": null,
            "grid_area": null,
            "grid_auto_columns": null,
            "grid_auto_flow": null,
            "grid_auto_rows": null,
            "grid_column": null,
            "grid_gap": null,
            "grid_row": null,
            "grid_template_areas": null,
            "grid_template_columns": null,
            "grid_template_rows": null,
            "height": null,
            "justify_content": null,
            "justify_items": null,
            "left": null,
            "margin": null,
            "max_height": null,
            "max_width": null,
            "min_height": null,
            "min_width": null,
            "object_fit": null,
            "object_position": null,
            "order": null,
            "overflow": null,
            "overflow_x": null,
            "overflow_y": null,
            "padding": null,
            "right": null,
            "top": null,
            "visibility": null,
            "width": null
          }
        },
        "1398bc2705344e4ea4fef88be66e602e": {
          "model_module": "@jupyter-widgets/controls",
          "model_name": "DescriptionStyleModel",
          "model_module_version": "1.5.0",
          "state": {
            "_model_module": "@jupyter-widgets/controls",
            "_model_module_version": "1.5.0",
            "_model_name": "DescriptionStyleModel",
            "_view_count": null,
            "_view_module": "@jupyter-widgets/base",
            "_view_module_version": "1.2.0",
            "_view_name": "StyleView",
            "description_width": ""
          }
        },
        "5c3c46837af14e76896b8cdc776a0478": {
          "model_module": "@jupyter-widgets/controls",
          "model_name": "HBoxModel",
          "model_module_version": "1.5.0",
          "state": {
            "_dom_classes": [],
            "_model_module": "@jupyter-widgets/controls",
            "_model_module_version": "1.5.0",
            "_model_name": "HBoxModel",
            "_view_count": null,
            "_view_module": "@jupyter-widgets/controls",
            "_view_module_version": "1.5.0",
            "_view_name": "HBoxView",
            "box_style": "",
            "children": [
              "IPY_MODEL_6ac8119bf2144858801897ef690faf85",
              "IPY_MODEL_b91fec877fe240c383375ef6531520ab",
              "IPY_MODEL_816de17201ef47a8af503111195c3704"
            ],
            "layout": "IPY_MODEL_102a7f4cf32144159989f80762fb5cf4"
          }
        },
        "6ac8119bf2144858801897ef690faf85": {
          "model_module": "@jupyter-widgets/controls",
          "model_name": "HTMLModel",
          "model_module_version": "1.5.0",
          "state": {
            "_dom_classes": [],
            "_model_module": "@jupyter-widgets/controls",
            "_model_module_version": "1.5.0",
            "_model_name": "HTMLModel",
            "_view_count": null,
            "_view_module": "@jupyter-widgets/controls",
            "_view_module_version": "1.5.0",
            "_view_name": "HTMLView",
            "description": "",
            "description_tooltip": null,
            "layout": "IPY_MODEL_bde00584fc8b48e1adeb469ccb570b80",
            "placeholder": "​",
            "style": "IPY_MODEL_ff53aed39ad646f4aace07b4163a30cd",
            "value": "100%"
          }
        },
        "b91fec877fe240c383375ef6531520ab": {
          "model_module": "@jupyter-widgets/controls",
          "model_name": "FloatProgressModel",
          "model_module_version": "1.5.0",
          "state": {
            "_dom_classes": [],
            "_model_module": "@jupyter-widgets/controls",
            "_model_module_version": "1.5.0",
            "_model_name": "FloatProgressModel",
            "_view_count": null,
            "_view_module": "@jupyter-widgets/controls",
            "_view_module_version": "1.5.0",
            "_view_name": "ProgressView",
            "bar_style": "",
            "description": "",
            "description_tooltip": null,
            "layout": "IPY_MODEL_70b9dadb89c14397b9ccb10a1d84d35e",
            "max": 190,
            "min": 0,
            "orientation": "horizontal",
            "style": "IPY_MODEL_2b4a99c58f3849899bc05df4b53e0131",
            "value": 190
          }
        },
        "816de17201ef47a8af503111195c3704": {
          "model_module": "@jupyter-widgets/controls",
          "model_name": "HTMLModel",
          "model_module_version": "1.5.0",
          "state": {
            "_dom_classes": [],
            "_model_module": "@jupyter-widgets/controls",
            "_model_module_version": "1.5.0",
            "_model_name": "HTMLModel",
            "_view_count": null,
            "_view_module": "@jupyter-widgets/controls",
            "_view_module_version": "1.5.0",
            "_view_name": "HTMLView",
            "description": "",
            "description_tooltip": null,
            "layout": "IPY_MODEL_acdf9c9892cb448fab07f29cbbb7a4b0",
            "placeholder": "​",
            "style": "IPY_MODEL_579c6d36d7f74d42a470ba757cd77ad1",
            "value": " 190/190 [00:17&lt;00:00, 11.87it/s]"
          }
        },
        "102a7f4cf32144159989f80762fb5cf4": {
          "model_module": "@jupyter-widgets/base",
          "model_name": "LayoutModel",
          "model_module_version": "1.2.0",
          "state": {
            "_model_module": "@jupyter-widgets/base",
            "_model_module_version": "1.2.0",
            "_model_name": "LayoutModel",
            "_view_count": null,
            "_view_module": "@jupyter-widgets/base",
            "_view_module_version": "1.2.0",
            "_view_name": "LayoutView",
            "align_content": null,
            "align_items": null,
            "align_self": null,
            "border": null,
            "bottom": null,
            "display": "inline-flex",
            "flex": null,
            "flex_flow": "row wrap",
            "grid_area": null,
            "grid_auto_columns": null,
            "grid_auto_flow": null,
            "grid_auto_rows": null,
            "grid_column": null,
            "grid_gap": null,
            "grid_row": null,
            "grid_template_areas": null,
            "grid_template_columns": null,
            "grid_template_rows": null,
            "height": null,
            "justify_content": null,
            "justify_items": null,
            "left": null,
            "margin": null,
            "max_height": null,
            "max_width": null,
            "min_height": null,
            "min_width": null,
            "object_fit": null,
            "object_position": null,
            "order": null,
            "overflow": null,
            "overflow_x": null,
            "overflow_y": null,
            "padding": null,
            "right": null,
            "top": null,
            "visibility": "hidden",
            "width": "100%"
          }
        },
        "bde00584fc8b48e1adeb469ccb570b80": {
          "model_module": "@jupyter-widgets/base",
          "model_name": "LayoutModel",
          "model_module_version": "1.2.0",
          "state": {
            "_model_module": "@jupyter-widgets/base",
            "_model_module_version": "1.2.0",
            "_model_name": "LayoutModel",
            "_view_count": null,
            "_view_module": "@jupyter-widgets/base",
            "_view_module_version": "1.2.0",
            "_view_name": "LayoutView",
            "align_content": null,
            "align_items": null,
            "align_self": null,
            "border": null,
            "bottom": null,
            "display": null,
            "flex": null,
            "flex_flow": null,
            "grid_area": null,
            "grid_auto_columns": null,
            "grid_auto_flow": null,
            "grid_auto_rows": null,
            "grid_column": null,
            "grid_gap": null,
            "grid_row": null,
            "grid_template_areas": null,
            "grid_template_columns": null,
            "grid_template_rows": null,
            "height": null,
            "justify_content": null,
            "justify_items": null,
            "left": null,
            "margin": null,
            "max_height": null,
            "max_width": null,
            "min_height": null,
            "min_width": null,
            "object_fit": null,
            "object_position": null,
            "order": null,
            "overflow": null,
            "overflow_x": null,
            "overflow_y": null,
            "padding": null,
            "right": null,
            "top": null,
            "visibility": null,
            "width": null
          }
        },
        "ff53aed39ad646f4aace07b4163a30cd": {
          "model_module": "@jupyter-widgets/controls",
          "model_name": "DescriptionStyleModel",
          "model_module_version": "1.5.0",
          "state": {
            "_model_module": "@jupyter-widgets/controls",
            "_model_module_version": "1.5.0",
            "_model_name": "DescriptionStyleModel",
            "_view_count": null,
            "_view_module": "@jupyter-widgets/base",
            "_view_module_version": "1.2.0",
            "_view_name": "StyleView",
            "description_width": ""
          }
        },
        "70b9dadb89c14397b9ccb10a1d84d35e": {
          "model_module": "@jupyter-widgets/base",
          "model_name": "LayoutModel",
          "model_module_version": "1.2.0",
          "state": {
            "_model_module": "@jupyter-widgets/base",
            "_model_module_version": "1.2.0",
            "_model_name": "LayoutModel",
            "_view_count": null,
            "_view_module": "@jupyter-widgets/base",
            "_view_module_version": "1.2.0",
            "_view_name": "LayoutView",
            "align_content": null,
            "align_items": null,
            "align_self": null,
            "border": null,
            "bottom": null,
            "display": null,
            "flex": "2",
            "flex_flow": null,
            "grid_area": null,
            "grid_auto_columns": null,
            "grid_auto_flow": null,
            "grid_auto_rows": null,
            "grid_column": null,
            "grid_gap": null,
            "grid_row": null,
            "grid_template_areas": null,
            "grid_template_columns": null,
            "grid_template_rows": null,
            "height": null,
            "justify_content": null,
            "justify_items": null,
            "left": null,
            "margin": null,
            "max_height": null,
            "max_width": null,
            "min_height": null,
            "min_width": null,
            "object_fit": null,
            "object_position": null,
            "order": null,
            "overflow": null,
            "overflow_x": null,
            "overflow_y": null,
            "padding": null,
            "right": null,
            "top": null,
            "visibility": null,
            "width": null
          }
        },
        "2b4a99c58f3849899bc05df4b53e0131": {
          "model_module": "@jupyter-widgets/controls",
          "model_name": "ProgressStyleModel",
          "model_module_version": "1.5.0",
          "state": {
            "_model_module": "@jupyter-widgets/controls",
            "_model_module_version": "1.5.0",
            "_model_name": "ProgressStyleModel",
            "_view_count": null,
            "_view_module": "@jupyter-widgets/base",
            "_view_module_version": "1.2.0",
            "_view_name": "StyleView",
            "bar_color": null,
            "description_width": ""
          }
        },
        "acdf9c9892cb448fab07f29cbbb7a4b0": {
          "model_module": "@jupyter-widgets/base",
          "model_name": "LayoutModel",
          "model_module_version": "1.2.0",
          "state": {
            "_model_module": "@jupyter-widgets/base",
            "_model_module_version": "1.2.0",
            "_model_name": "LayoutModel",
            "_view_count": null,
            "_view_module": "@jupyter-widgets/base",
            "_view_module_version": "1.2.0",
            "_view_name": "LayoutView",
            "align_content": null,
            "align_items": null,
            "align_self": null,
            "border": null,
            "bottom": null,
            "display": null,
            "flex": null,
            "flex_flow": null,
            "grid_area": null,
            "grid_auto_columns": null,
            "grid_auto_flow": null,
            "grid_auto_rows": null,
            "grid_column": null,
            "grid_gap": null,
            "grid_row": null,
            "grid_template_areas": null,
            "grid_template_columns": null,
            "grid_template_rows": null,
            "height": null,
            "justify_content": null,
            "justify_items": null,
            "left": null,
            "margin": null,
            "max_height": null,
            "max_width": null,
            "min_height": null,
            "min_width": null,
            "object_fit": null,
            "object_position": null,
            "order": null,
            "overflow": null,
            "overflow_x": null,
            "overflow_y": null,
            "padding": null,
            "right": null,
            "top": null,
            "visibility": null,
            "width": null
          }
        },
        "579c6d36d7f74d42a470ba757cd77ad1": {
          "model_module": "@jupyter-widgets/controls",
          "model_name": "DescriptionStyleModel",
          "model_module_version": "1.5.0",
          "state": {
            "_model_module": "@jupyter-widgets/controls",
            "_model_module_version": "1.5.0",
            "_model_name": "DescriptionStyleModel",
            "_view_count": null,
            "_view_module": "@jupyter-widgets/base",
            "_view_module_version": "1.2.0",
            "_view_name": "StyleView",
            "description_width": ""
          }
        }
      }
    },
    "accelerator": "GPU"
  },
  "nbformat": 4,
  "nbformat_minor": 5
}