{
  "nbformat": 4,
  "nbformat_minor": 0,
  "metadata": {
    "colab": {
      "provenance": [],
      "gpuType": "T4"
    },
    "kernelspec": {
      "name": "python3",
      "display_name": "Python 3"
    },
    "language_info": {
      "name": "python"
    },
    "accelerator": "GPU"
  },
  "cells": [
    {
      "cell_type": "code",
      "source": [
        "from google.colab import drive\n",
        "drive.mount('/content/drive')"
      ],
      "metadata": {
        "colab": {
          "base_uri": "https://localhost:8080/"
        },
        "id": "FQOGJfMwBHlb",
        "outputId": "96fa8358-1075-4942-e625-77df9f140cf2"
      },
      "execution_count": null,
      "outputs": [
        {
          "output_type": "stream",
          "name": "stdout",
          "text": [
            "Mounted at /content/drive\n"
          ]
        }
      ]
    },
    {
      "cell_type": "code",
      "source": [
        "!pip install sentence_transformers\n",
        "!pip install einops\n",
        "!pip install mteb\n",
        "!pip install transformers"
      ],
      "metadata": {
        "id": "DQVrN3U3jRT-",
        "colab": {
          "base_uri": "https://localhost:8080/"
        },
        "outputId": "a9ee2602-1227-486b-a609-27ca9df30cad"
      },
      "execution_count": null,
      "outputs": [
        {
          "output_type": "stream",
          "name": "stdout",
          "text": [
            "Collecting sentence_transformers\n",
            "  Downloading sentence_transformers-3.0.1-py3-none-any.whl (227 kB)\n",
            "\u001b[?25l     \u001b[90m━━━━━━━━━━━━━━━━━━━━━━━━━━━━━━━━━━━━━━━━\u001b[0m \u001b[32m0.0/227.1 kB\u001b[0m \u001b[31m?\u001b[0m eta \u001b[36m-:--:--\u001b[0m\r\u001b[2K     \u001b[91m━━━━━━━━━━━━━━━━━━━━━━━━━━━━━━━━━━━━━━━\u001b[0m\u001b[91m╸\u001b[0m \u001b[32m225.3/227.1 kB\u001b[0m \u001b[31m8.3 MB/s\u001b[0m eta \u001b[36m0:00:01\u001b[0m\r\u001b[2K     \u001b[90m━━━━━━━━━━━━━━━━━━━━━━━━━━━━━━━━━━━━━━━━\u001b[0m \u001b[32m227.1/227.1 kB\u001b[0m \u001b[31m6.0 MB/s\u001b[0m eta \u001b[36m0:00:00\u001b[0m\n",
            "\u001b[?25hRequirement already satisfied: transformers<5.0.0,>=4.34.0 in /usr/local/lib/python3.10/dist-packages (from sentence_transformers) (4.41.2)\n",
            "Requirement already satisfied: tqdm in /usr/local/lib/python3.10/dist-packages (from sentence_transformers) (4.66.4)\n",
            "Requirement already satisfied: torch>=1.11.0 in /usr/local/lib/python3.10/dist-packages (from sentence_transformers) (2.3.0+cu121)\n",
            "Requirement already satisfied: numpy in /usr/local/lib/python3.10/dist-packages (from sentence_transformers) (1.25.2)\n",
            "Requirement already satisfied: scikit-learn in /usr/local/lib/python3.10/dist-packages (from sentence_transformers) (1.2.2)\n",
            "Requirement already satisfied: scipy in /usr/local/lib/python3.10/dist-packages (from sentence_transformers) (1.11.4)\n",
            "Requirement already satisfied: huggingface-hub>=0.15.1 in /usr/local/lib/python3.10/dist-packages (from sentence_transformers) (0.23.4)\n",
            "Requirement already satisfied: Pillow in /usr/local/lib/python3.10/dist-packages (from sentence_transformers) (9.4.0)\n",
            "Requirement already satisfied: filelock in /usr/local/lib/python3.10/dist-packages (from huggingface-hub>=0.15.1->sentence_transformers) (3.15.4)\n",
            "Requirement already satisfied: fsspec>=2023.5.0 in /usr/local/lib/python3.10/dist-packages (from huggingface-hub>=0.15.1->sentence_transformers) (2023.6.0)\n",
            "Requirement already satisfied: packaging>=20.9 in /usr/local/lib/python3.10/dist-packages (from huggingface-hub>=0.15.1->sentence_transformers) (24.1)\n",
            "Requirement already satisfied: pyyaml>=5.1 in /usr/local/lib/python3.10/dist-packages (from huggingface-hub>=0.15.1->sentence_transformers) (6.0.1)\n",
            "Requirement already satisfied: requests in /usr/local/lib/python3.10/dist-packages (from huggingface-hub>=0.15.1->sentence_transformers) (2.31.0)\n",
            "Requirement already satisfied: typing-extensions>=3.7.4.3 in /usr/local/lib/python3.10/dist-packages (from huggingface-hub>=0.15.1->sentence_transformers) (4.12.2)\n",
            "Requirement already satisfied: sympy in /usr/local/lib/python3.10/dist-packages (from torch>=1.11.0->sentence_transformers) (1.12.1)\n",
            "Requirement already satisfied: networkx in /usr/local/lib/python3.10/dist-packages (from torch>=1.11.0->sentence_transformers) (3.3)\n",
            "Requirement already satisfied: jinja2 in /usr/local/lib/python3.10/dist-packages (from torch>=1.11.0->sentence_transformers) (3.1.4)\n",
            "Collecting nvidia-cuda-nvrtc-cu12==12.1.105 (from torch>=1.11.0->sentence_transformers)\n",
            "  Using cached nvidia_cuda_nvrtc_cu12-12.1.105-py3-none-manylinux1_x86_64.whl (23.7 MB)\n",
            "Collecting nvidia-cuda-runtime-cu12==12.1.105 (from torch>=1.11.0->sentence_transformers)\n",
            "  Using cached nvidia_cuda_runtime_cu12-12.1.105-py3-none-manylinux1_x86_64.whl (823 kB)\n",
            "Collecting nvidia-cuda-cupti-cu12==12.1.105 (from torch>=1.11.0->sentence_transformers)\n",
            "  Using cached nvidia_cuda_cupti_cu12-12.1.105-py3-none-manylinux1_x86_64.whl (14.1 MB)\n",
            "Collecting nvidia-cudnn-cu12==8.9.2.26 (from torch>=1.11.0->sentence_transformers)\n",
            "  Using cached nvidia_cudnn_cu12-8.9.2.26-py3-none-manylinux1_x86_64.whl (731.7 MB)\n",
            "Collecting nvidia-cublas-cu12==12.1.3.1 (from torch>=1.11.0->sentence_transformers)\n",
            "  Using cached nvidia_cublas_cu12-12.1.3.1-py3-none-manylinux1_x86_64.whl (410.6 MB)\n",
            "Collecting nvidia-cufft-cu12==11.0.2.54 (from torch>=1.11.0->sentence_transformers)\n",
            "  Using cached nvidia_cufft_cu12-11.0.2.54-py3-none-manylinux1_x86_64.whl (121.6 MB)\n",
            "Collecting nvidia-curand-cu12==10.3.2.106 (from torch>=1.11.0->sentence_transformers)\n",
            "  Using cached nvidia_curand_cu12-10.3.2.106-py3-none-manylinux1_x86_64.whl (56.5 MB)\n",
            "Collecting nvidia-cusolver-cu12==11.4.5.107 (from torch>=1.11.0->sentence_transformers)\n",
            "  Using cached nvidia_cusolver_cu12-11.4.5.107-py3-none-manylinux1_x86_64.whl (124.2 MB)\n",
            "Collecting nvidia-cusparse-cu12==12.1.0.106 (from torch>=1.11.0->sentence_transformers)\n",
            "  Using cached nvidia_cusparse_cu12-12.1.0.106-py3-none-manylinux1_x86_64.whl (196.0 MB)\n",
            "Collecting nvidia-nccl-cu12==2.20.5 (from torch>=1.11.0->sentence_transformers)\n",
            "  Using cached nvidia_nccl_cu12-2.20.5-py3-none-manylinux2014_x86_64.whl (176.2 MB)\n",
            "Collecting nvidia-nvtx-cu12==12.1.105 (from torch>=1.11.0->sentence_transformers)\n",
            "  Using cached nvidia_nvtx_cu12-12.1.105-py3-none-manylinux1_x86_64.whl (99 kB)\n",
            "Requirement already satisfied: triton==2.3.0 in /usr/local/lib/python3.10/dist-packages (from torch>=1.11.0->sentence_transformers) (2.3.0)\n",
            "Collecting nvidia-nvjitlink-cu12 (from nvidia-cusolver-cu12==11.4.5.107->torch>=1.11.0->sentence_transformers)\n",
            "  Downloading nvidia_nvjitlink_cu12-12.5.82-py3-none-manylinux2014_x86_64.whl (21.3 MB)\n",
            "\u001b[2K     \u001b[90m━━━━━━━━━━━━━━━━━━━━━━━━━━━━━━━━━━━━━━━━\u001b[0m \u001b[32m21.3/21.3 MB\u001b[0m \u001b[31m60.2 MB/s\u001b[0m eta \u001b[36m0:00:00\u001b[0m\n",
            "\u001b[?25hRequirement already satisfied: regex!=2019.12.17 in /usr/local/lib/python3.10/dist-packages (from transformers<5.0.0,>=4.34.0->sentence_transformers) (2024.5.15)\n",
            "Requirement already satisfied: tokenizers<0.20,>=0.19 in /usr/local/lib/python3.10/dist-packages (from transformers<5.0.0,>=4.34.0->sentence_transformers) (0.19.1)\n",
            "Requirement already satisfied: safetensors>=0.4.1 in /usr/local/lib/python3.10/dist-packages (from transformers<5.0.0,>=4.34.0->sentence_transformers) (0.4.3)\n",
            "Requirement already satisfied: joblib>=1.1.1 in /usr/local/lib/python3.10/dist-packages (from scikit-learn->sentence_transformers) (1.4.2)\n",
            "Requirement already satisfied: threadpoolctl>=2.0.0 in /usr/local/lib/python3.10/dist-packages (from scikit-learn->sentence_transformers) (3.5.0)\n",
            "Requirement already satisfied: MarkupSafe>=2.0 in /usr/local/lib/python3.10/dist-packages (from jinja2->torch>=1.11.0->sentence_transformers) (2.1.5)\n",
            "Requirement already satisfied: charset-normalizer<4,>=2 in /usr/local/lib/python3.10/dist-packages (from requests->huggingface-hub>=0.15.1->sentence_transformers) (3.3.2)\n",
            "Requirement already satisfied: idna<4,>=2.5 in /usr/local/lib/python3.10/dist-packages (from requests->huggingface-hub>=0.15.1->sentence_transformers) (3.7)\n",
            "Requirement already satisfied: urllib3<3,>=1.21.1 in /usr/local/lib/python3.10/dist-packages (from requests->huggingface-hub>=0.15.1->sentence_transformers) (2.0.7)\n",
            "Requirement already satisfied: certifi>=2017.4.17 in /usr/local/lib/python3.10/dist-packages (from requests->huggingface-hub>=0.15.1->sentence_transformers) (2024.6.2)\n",
            "Requirement already satisfied: mpmath<1.4.0,>=1.1.0 in /usr/local/lib/python3.10/dist-packages (from sympy->torch>=1.11.0->sentence_transformers) (1.3.0)\n",
            "Installing collected packages: nvidia-nvtx-cu12, nvidia-nvjitlink-cu12, nvidia-nccl-cu12, nvidia-curand-cu12, nvidia-cufft-cu12, nvidia-cuda-runtime-cu12, nvidia-cuda-nvrtc-cu12, nvidia-cuda-cupti-cu12, nvidia-cublas-cu12, nvidia-cusparse-cu12, nvidia-cudnn-cu12, nvidia-cusolver-cu12, sentence_transformers\n",
            "Successfully installed nvidia-cublas-cu12-12.1.3.1 nvidia-cuda-cupti-cu12-12.1.105 nvidia-cuda-nvrtc-cu12-12.1.105 nvidia-cuda-runtime-cu12-12.1.105 nvidia-cudnn-cu12-8.9.2.26 nvidia-cufft-cu12-11.0.2.54 nvidia-curand-cu12-10.3.2.106 nvidia-cusolver-cu12-11.4.5.107 nvidia-cusparse-cu12-12.1.0.106 nvidia-nccl-cu12-2.20.5 nvidia-nvjitlink-cu12-12.5.82 nvidia-nvtx-cu12-12.1.105 sentence_transformers-3.0.1\n",
            "Collecting einops\n",
            "  Downloading einops-0.8.0-py3-none-any.whl (43 kB)\n",
            "\u001b[2K     \u001b[90m━━━━━━━━━━━━━━━━━━━━━━━━━━━━━━━━━━━━━━━━\u001b[0m \u001b[32m43.2/43.2 kB\u001b[0m \u001b[31m2.3 MB/s\u001b[0m eta \u001b[36m0:00:00\u001b[0m\n",
            "\u001b[?25hInstalling collected packages: einops\n",
            "Successfully installed einops-0.8.0\n",
            "Collecting mteb\n",
            "  Downloading mteb-1.12.75-py3-none-any.whl (3.9 MB)\n",
            "\u001b[2K     \u001b[90m━━━━━━━━━━━━━━━━━━━━━━━━━━━━━━━━━━━━━━━━\u001b[0m \u001b[32m3.9/3.9 MB\u001b[0m \u001b[31m15.4 MB/s\u001b[0m eta \u001b[36m0:00:00\u001b[0m\n",
            "\u001b[?25hCollecting datasets>=2.19.0 (from mteb)\n",
            "  Downloading datasets-2.20.0-py3-none-any.whl (547 kB)\n",
            "\u001b[2K     \u001b[90m━━━━━━━━━━━━━━━━━━━━━━━━━━━━━━━━━━━━━━━━\u001b[0m \u001b[32m547.8/547.8 kB\u001b[0m \u001b[31m23.4 MB/s\u001b[0m eta \u001b[36m0:00:00\u001b[0m\n",
            "\u001b[?25hRequirement already satisfied: numpy<2.0.0,>=1.0.0 in /usr/local/lib/python3.10/dist-packages (from mteb) (1.25.2)\n",
            "Requirement already satisfied: requests>=2.26.0 in /usr/local/lib/python3.10/dist-packages (from mteb) (2.31.0)\n",
            "Requirement already satisfied: scikit-learn>=1.0.2 in /usr/local/lib/python3.10/dist-packages (from mteb) (1.2.2)\n",
            "Requirement already satisfied: scipy>=0.0.0 in /usr/local/lib/python3.10/dist-packages (from mteb) (1.11.4)\n",
            "Requirement already satisfied: sentence-transformers>=3.0.0 in /usr/local/lib/python3.10/dist-packages (from mteb) (3.0.1)\n",
            "Requirement already satisfied: torch>1.0.0 in /usr/local/lib/python3.10/dist-packages (from mteb) (2.3.0+cu121)\n",
            "Requirement already satisfied: tqdm>1.0.0 in /usr/local/lib/python3.10/dist-packages (from mteb) (4.66.4)\n",
            "Requirement already satisfied: rich>=0.0.0 in /usr/local/lib/python3.10/dist-packages (from mteb) (13.7.1)\n",
            "Collecting pytrec-eval-terrier>=0.5.6 (from mteb)\n",
            "  Downloading pytrec_eval_terrier-0.5.6-cp310-cp310-manylinux_2_17_x86_64.manylinux2014_x86_64.whl (287 kB)\n",
            "\u001b[2K     \u001b[90m━━━━━━━━━━━━━━━━━━━━━━━━━━━━━━━━━━━━━━━━\u001b[0m \u001b[32m287.4/287.4 kB\u001b[0m \u001b[31m20.3 MB/s\u001b[0m eta \u001b[36m0:00:00\u001b[0m\n",
            "\u001b[?25hRequirement already satisfied: pydantic>=2.0.0 in /usr/local/lib/python3.10/dist-packages (from mteb) (2.8.0)\n",
            "Requirement already satisfied: typing-extensions>=0.0.0 in /usr/local/lib/python3.10/dist-packages (from mteb) (4.12.2)\n",
            "Collecting eval-type-backport>=0.0.0 (from mteb)\n",
            "  Downloading eval_type_backport-0.2.0-py3-none-any.whl (5.9 kB)\n",
            "Collecting polars>=0.20.22 (from mteb)\n",
            "  Downloading polars-1.1.0-cp38-abi3-manylinux_2_17_x86_64.manylinux2014_x86_64.whl (30.7 MB)\n",
            "\u001b[2K     \u001b[90m━━━━━━━━━━━━━━━━━━━━━━━━━━━━━━━━━━━━━━━━\u001b[0m \u001b[32m30.7/30.7 MB\u001b[0m \u001b[31m15.1 MB/s\u001b[0m eta \u001b[36m0:00:00\u001b[0m\n",
            "\u001b[?25hRequirement already satisfied: filelock in /usr/local/lib/python3.10/dist-packages (from datasets>=2.19.0->mteb) (3.15.4)\n",
            "Collecting pyarrow>=15.0.0 (from datasets>=2.19.0->mteb)\n",
            "  Downloading pyarrow-16.1.0-cp310-cp310-manylinux_2_28_x86_64.whl (40.8 MB)\n",
            "\u001b[2K     \u001b[90m━━━━━━━━━━━━━━━━━━━━━━━━━━━━━━━━━━━━━━━━\u001b[0m \u001b[32m40.8/40.8 MB\u001b[0m \u001b[31m14.5 MB/s\u001b[0m eta \u001b[36m0:00:00\u001b[0m\n",
            "\u001b[?25hRequirement already satisfied: pyarrow-hotfix in /usr/local/lib/python3.10/dist-packages (from datasets>=2.19.0->mteb) (0.6)\n",
            "Collecting dill<0.3.9,>=0.3.0 (from datasets>=2.19.0->mteb)\n",
            "  Downloading dill-0.3.8-py3-none-any.whl (116 kB)\n",
            "\u001b[2K     \u001b[90m━━━━━━━━━━━━━━━━━━━━━━━━━━━━━━━━━━━━━━━━\u001b[0m \u001b[32m116.3/116.3 kB\u001b[0m \u001b[31m12.9 MB/s\u001b[0m eta \u001b[36m0:00:00\u001b[0m\n",
            "\u001b[?25hRequirement already satisfied: pandas in /usr/local/lib/python3.10/dist-packages (from datasets>=2.19.0->mteb) (2.0.3)\n",
            "Collecting requests>=2.26.0 (from mteb)\n",
            "  Downloading requests-2.32.3-py3-none-any.whl (64 kB)\n",
            "\u001b[2K     \u001b[90m━━━━━━━━━━━━━━━━━━━━━━━━━━━━━━━━━━━━━━━━\u001b[0m \u001b[32m64.9/64.9 kB\u001b[0m \u001b[31m8.5 MB/s\u001b[0m eta \u001b[36m0:00:00\u001b[0m\n",
            "\u001b[?25hCollecting xxhash (from datasets>=2.19.0->mteb)\n",
            "  Downloading xxhash-3.4.1-cp310-cp310-manylinux_2_17_x86_64.manylinux2014_x86_64.whl (194 kB)\n",
            "\u001b[2K     \u001b[90m━━━━━━━━━━━━━━━━━━━━━━━━━━━━━━━━━━━━━━━━\u001b[0m \u001b[32m194.1/194.1 kB\u001b[0m \u001b[31m25.2 MB/s\u001b[0m eta \u001b[36m0:00:00\u001b[0m\n",
            "\u001b[?25hCollecting multiprocess (from datasets>=2.19.0->mteb)\n",
            "  Downloading multiprocess-0.70.16-py310-none-any.whl (134 kB)\n",
            "\u001b[2K     \u001b[90m━━━━━━━━━━━━━━━━━━━━━━━━━━━━━━━━━━━━━━━━\u001b[0m \u001b[32m134.8/134.8 kB\u001b[0m \u001b[31m17.5 MB/s\u001b[0m eta \u001b[36m0:00:00\u001b[0m\n",
            "\u001b[?25hRequirement already satisfied: fsspec[http]<=2024.5.0,>=2023.1.0 in /usr/local/lib/python3.10/dist-packages (from datasets>=2.19.0->mteb) (2023.6.0)\n",
            "Requirement already satisfied: aiohttp in /usr/local/lib/python3.10/dist-packages (from datasets>=2.19.0->mteb) (3.9.5)\n",
            "Requirement already satisfied: huggingface-hub>=0.21.2 in /usr/local/lib/python3.10/dist-packages (from datasets>=2.19.0->mteb) (0.23.4)\n",
            "Requirement already satisfied: packaging in /usr/local/lib/python3.10/dist-packages (from datasets>=2.19.0->mteb) (24.1)\n",
            "Requirement already satisfied: pyyaml>=5.1 in /usr/local/lib/python3.10/dist-packages (from datasets>=2.19.0->mteb) (6.0.1)\n",
            "Requirement already satisfied: annotated-types>=0.4.0 in /usr/local/lib/python3.10/dist-packages (from pydantic>=2.0.0->mteb) (0.7.0)\n",
            "Requirement already satisfied: pydantic-core==2.20.0 in /usr/local/lib/python3.10/dist-packages (from pydantic>=2.0.0->mteb) (2.20.0)\n",
            "Requirement already satisfied: charset-normalizer<4,>=2 in /usr/local/lib/python3.10/dist-packages (from requests>=2.26.0->mteb) (3.3.2)\n",
            "Requirement already satisfied: idna<4,>=2.5 in /usr/local/lib/python3.10/dist-packages (from requests>=2.26.0->mteb) (3.7)\n",
            "Requirement already satisfied: urllib3<3,>=1.21.1 in /usr/local/lib/python3.10/dist-packages (from requests>=2.26.0->mteb) (2.0.7)\n",
            "Requirement already satisfied: certifi>=2017.4.17 in /usr/local/lib/python3.10/dist-packages (from requests>=2.26.0->mteb) (2024.6.2)\n",
            "Requirement already satisfied: markdown-it-py>=2.2.0 in /usr/local/lib/python3.10/dist-packages (from rich>=0.0.0->mteb) (3.0.0)\n",
            "Requirement already satisfied: pygments<3.0.0,>=2.13.0 in /usr/local/lib/python3.10/dist-packages (from rich>=0.0.0->mteb) (2.16.1)\n",
            "Requirement already satisfied: joblib>=1.1.1 in /usr/local/lib/python3.10/dist-packages (from scikit-learn>=1.0.2->mteb) (1.4.2)\n",
            "Requirement already satisfied: threadpoolctl>=2.0.0 in /usr/local/lib/python3.10/dist-packages (from scikit-learn>=1.0.2->mteb) (3.5.0)\n",
            "Requirement already satisfied: transformers<5.0.0,>=4.34.0 in /usr/local/lib/python3.10/dist-packages (from sentence-transformers>=3.0.0->mteb) (4.41.2)\n",
            "Requirement already satisfied: Pillow in /usr/local/lib/python3.10/dist-packages (from sentence-transformers>=3.0.0->mteb) (9.4.0)\n",
            "Requirement already satisfied: sympy in /usr/local/lib/python3.10/dist-packages (from torch>1.0.0->mteb) (1.12.1)\n",
            "Requirement already satisfied: networkx in /usr/local/lib/python3.10/dist-packages (from torch>1.0.0->mteb) (3.3)\n",
            "Requirement already satisfied: jinja2 in /usr/local/lib/python3.10/dist-packages (from torch>1.0.0->mteb) (3.1.4)\n",
            "Requirement already satisfied: nvidia-cuda-nvrtc-cu12==12.1.105 in /usr/local/lib/python3.10/dist-packages (from torch>1.0.0->mteb) (12.1.105)\n",
            "Requirement already satisfied: nvidia-cuda-runtime-cu12==12.1.105 in /usr/local/lib/python3.10/dist-packages (from torch>1.0.0->mteb) (12.1.105)\n",
            "Requirement already satisfied: nvidia-cuda-cupti-cu12==12.1.105 in /usr/local/lib/python3.10/dist-packages (from torch>1.0.0->mteb) (12.1.105)\n",
            "Requirement already satisfied: nvidia-cudnn-cu12==8.9.2.26 in /usr/local/lib/python3.10/dist-packages (from torch>1.0.0->mteb) (8.9.2.26)\n",
            "Requirement already satisfied: nvidia-cublas-cu12==12.1.3.1 in /usr/local/lib/python3.10/dist-packages (from torch>1.0.0->mteb) (12.1.3.1)\n",
            "Requirement already satisfied: nvidia-cufft-cu12==11.0.2.54 in /usr/local/lib/python3.10/dist-packages (from torch>1.0.0->mteb) (11.0.2.54)\n",
            "Requirement already satisfied: nvidia-curand-cu12==10.3.2.106 in /usr/local/lib/python3.10/dist-packages (from torch>1.0.0->mteb) (10.3.2.106)\n",
            "Requirement already satisfied: nvidia-cusolver-cu12==11.4.5.107 in /usr/local/lib/python3.10/dist-packages (from torch>1.0.0->mteb) (11.4.5.107)\n",
            "Requirement already satisfied: nvidia-cusparse-cu12==12.1.0.106 in /usr/local/lib/python3.10/dist-packages (from torch>1.0.0->mteb) (12.1.0.106)\n",
            "Requirement already satisfied: nvidia-nccl-cu12==2.20.5 in /usr/local/lib/python3.10/dist-packages (from torch>1.0.0->mteb) (2.20.5)\n",
            "Requirement already satisfied: nvidia-nvtx-cu12==12.1.105 in /usr/local/lib/python3.10/dist-packages (from torch>1.0.0->mteb) (12.1.105)\n",
            "Requirement already satisfied: triton==2.3.0 in /usr/local/lib/python3.10/dist-packages (from torch>1.0.0->mteb) (2.3.0)\n",
            "Requirement already satisfied: nvidia-nvjitlink-cu12 in /usr/local/lib/python3.10/dist-packages (from nvidia-cusolver-cu12==11.4.5.107->torch>1.0.0->mteb) (12.5.82)\n",
            "Requirement already satisfied: aiosignal>=1.1.2 in /usr/local/lib/python3.10/dist-packages (from aiohttp->datasets>=2.19.0->mteb) (1.3.1)\n",
            "Requirement already satisfied: attrs>=17.3.0 in /usr/local/lib/python3.10/dist-packages (from aiohttp->datasets>=2.19.0->mteb) (23.2.0)\n",
            "Requirement already satisfied: frozenlist>=1.1.1 in /usr/local/lib/python3.10/dist-packages (from aiohttp->datasets>=2.19.0->mteb) (1.4.1)\n",
            "Requirement already satisfied: multidict<7.0,>=4.5 in /usr/local/lib/python3.10/dist-packages (from aiohttp->datasets>=2.19.0->mteb) (6.0.5)\n",
            "Requirement already satisfied: yarl<2.0,>=1.0 in /usr/local/lib/python3.10/dist-packages (from aiohttp->datasets>=2.19.0->mteb) (1.9.4)\n",
            "Requirement already satisfied: async-timeout<5.0,>=4.0 in /usr/local/lib/python3.10/dist-packages (from aiohttp->datasets>=2.19.0->mteb) (4.0.3)\n",
            "Requirement already satisfied: mdurl~=0.1 in /usr/local/lib/python3.10/dist-packages (from markdown-it-py>=2.2.0->rich>=0.0.0->mteb) (0.1.2)\n",
            "Requirement already satisfied: regex!=2019.12.17 in /usr/local/lib/python3.10/dist-packages (from transformers<5.0.0,>=4.34.0->sentence-transformers>=3.0.0->mteb) (2024.5.15)\n",
            "Requirement already satisfied: tokenizers<0.20,>=0.19 in /usr/local/lib/python3.10/dist-packages (from transformers<5.0.0,>=4.34.0->sentence-transformers>=3.0.0->mteb) (0.19.1)\n",
            "Requirement already satisfied: safetensors>=0.4.1 in /usr/local/lib/python3.10/dist-packages (from transformers<5.0.0,>=4.34.0->sentence-transformers>=3.0.0->mteb) (0.4.3)\n",
            "Requirement already satisfied: MarkupSafe>=2.0 in /usr/local/lib/python3.10/dist-packages (from jinja2->torch>1.0.0->mteb) (2.1.5)\n",
            "Requirement already satisfied: python-dateutil>=2.8.2 in /usr/local/lib/python3.10/dist-packages (from pandas->datasets>=2.19.0->mteb) (2.8.2)\n",
            "Requirement already satisfied: pytz>=2020.1 in /usr/local/lib/python3.10/dist-packages (from pandas->datasets>=2.19.0->mteb) (2023.4)\n",
            "Requirement already satisfied: tzdata>=2022.1 in /usr/local/lib/python3.10/dist-packages (from pandas->datasets>=2.19.0->mteb) (2024.1)\n",
            "Requirement already satisfied: mpmath<1.4.0,>=1.1.0 in /usr/local/lib/python3.10/dist-packages (from sympy->torch>1.0.0->mteb) (1.3.0)\n",
            "Requirement already satisfied: six>=1.5 in /usr/local/lib/python3.10/dist-packages (from python-dateutil>=2.8.2->pandas->datasets>=2.19.0->mteb) (1.16.0)\n",
            "Installing collected packages: xxhash, requests, pytrec-eval-terrier, pyarrow, polars, eval-type-backport, dill, multiprocess, datasets, mteb\n",
            "  Attempting uninstall: requests\n",
            "    Found existing installation: requests 2.31.0\n",
            "    Uninstalling requests-2.31.0:\n",
            "      Successfully uninstalled requests-2.31.0\n",
            "  Attempting uninstall: pyarrow\n",
            "    Found existing installation: pyarrow 14.0.2\n",
            "    Uninstalling pyarrow-14.0.2:\n",
            "      Successfully uninstalled pyarrow-14.0.2\n",
            "  Attempting uninstall: polars\n",
            "    Found existing installation: polars 0.20.2\n",
            "    Uninstalling polars-0.20.2:\n",
            "      Successfully uninstalled polars-0.20.2\n",
            "\u001b[31mERROR: pip's dependency resolver does not currently take into account all the packages that are installed. This behaviour is the source of the following dependency conflicts.\n",
            "cudf-cu12 24.4.1 requires pyarrow<15.0.0a0,>=14.0.1, but you have pyarrow 16.1.0 which is incompatible.\n",
            "google-colab 1.0.0 requires requests==2.31.0, but you have requests 2.32.3 which is incompatible.\n",
            "ibis-framework 8.0.0 requires pyarrow<16,>=2, but you have pyarrow 16.1.0 which is incompatible.\u001b[0m\u001b[31m\n",
            "\u001b[0mSuccessfully installed datasets-2.20.0 dill-0.3.8 eval-type-backport-0.2.0 mteb-1.12.75 multiprocess-0.70.16 polars-1.1.0 pyarrow-16.1.0 pytrec-eval-terrier-0.5.6 requests-2.32.3 xxhash-3.4.1\n",
            "Requirement already satisfied: transformers in /usr/local/lib/python3.10/dist-packages (4.41.2)\n",
            "Requirement already satisfied: filelock in /usr/local/lib/python3.10/dist-packages (from transformers) (3.15.4)\n",
            "Requirement already satisfied: huggingface-hub<1.0,>=0.23.0 in /usr/local/lib/python3.10/dist-packages (from transformers) (0.23.4)\n",
            "Requirement already satisfied: numpy>=1.17 in /usr/local/lib/python3.10/dist-packages (from transformers) (1.25.2)\n",
            "Requirement already satisfied: packaging>=20.0 in /usr/local/lib/python3.10/dist-packages (from transformers) (24.1)\n",
            "Requirement already satisfied: pyyaml>=5.1 in /usr/local/lib/python3.10/dist-packages (from transformers) (6.0.1)\n",
            "Requirement already satisfied: regex!=2019.12.17 in /usr/local/lib/python3.10/dist-packages (from transformers) (2024.5.15)\n",
            "Requirement already satisfied: requests in /usr/local/lib/python3.10/dist-packages (from transformers) (2.32.3)\n",
            "Requirement already satisfied: tokenizers<0.20,>=0.19 in /usr/local/lib/python3.10/dist-packages (from transformers) (0.19.1)\n",
            "Requirement already satisfied: safetensors>=0.4.1 in /usr/local/lib/python3.10/dist-packages (from transformers) (0.4.3)\n",
            "Requirement already satisfied: tqdm>=4.27 in /usr/local/lib/python3.10/dist-packages (from transformers) (4.66.4)\n",
            "Requirement already satisfied: fsspec>=2023.5.0 in /usr/local/lib/python3.10/dist-packages (from huggingface-hub<1.0,>=0.23.0->transformers) (2023.6.0)\n",
            "Requirement already satisfied: typing-extensions>=3.7.4.3 in /usr/local/lib/python3.10/dist-packages (from huggingface-hub<1.0,>=0.23.0->transformers) (4.12.2)\n",
            "Requirement already satisfied: charset-normalizer<4,>=2 in /usr/local/lib/python3.10/dist-packages (from requests->transformers) (3.3.2)\n",
            "Requirement already satisfied: idna<4,>=2.5 in /usr/local/lib/python3.10/dist-packages (from requests->transformers) (3.7)\n",
            "Requirement already satisfied: urllib3<3,>=1.21.1 in /usr/local/lib/python3.10/dist-packages (from requests->transformers) (2.0.7)\n",
            "Requirement already satisfied: certifi>=2017.4.17 in /usr/local/lib/python3.10/dist-packages (from requests->transformers) (2024.6.2)\n"
          ]
        }
      ]
    },
    {
      "cell_type": "code",
      "execution_count": null,
      "metadata": {
        "colab": {
          "base_uri": "https://localhost:8080/"
        },
        "id": "HExuFAu03CSq",
        "outputId": "325d2617-cecc-484d-df8b-1909302eca1b"
      },
      "outputs": [
        {
          "output_type": "stream",
          "name": "stderr",
          "text": [
            "WARNING:transformers_modules.nomic-ai.nomic-bert-2048.e55a7d4324f65581af5f483e830b80f34680e8ff.modeling_hf_nomic_bert:<All keys matched successfully>\n",
            "WARNING:transformers_modules.nomic-ai.nomic-bert-2048.e55a7d4324f65581af5f483e830b80f34680e8ff.modeling_hf_nomic_bert:<All keys matched successfully>\n",
            "WARNING:transformers_modules.nomic-ai.nomic-bert-2048.e55a7d4324f65581af5f483e830b80f34680e8ff.modeling_hf_nomic_bert:<All keys matched successfully>\n",
            "WARNING:transformers_modules.nomic-ai.nomic-bert-2048.e55a7d4324f65581af5f483e830b80f34680e8ff.modeling_hf_nomic_bert:<All keys matched successfully>\n",
            "WARNING:transformers_modules.nomicdateaware_v55.modeling_hf_nomic_bert:<All keys matched successfully>\n",
            "WARNING:transformers_modules.nomic-ai.nomic-bert-2048.e55a7d4324f65581af5f483e830b80f34680e8ff.modeling_hf_nomic_bert:<All keys matched successfully>\n",
            "WARNING:transformers_modules.nomic-ai.nomic-bert-2048.e55a7d4324f65581af5f483e830b80f34680e8ff.modeling_hf_nomic_bert:<All keys matched successfully>\n",
            "WARNING:transformers_modules.nomic-ai.nomic-bert-2048.e55a7d4324f65581af5f483e830b80f34680e8ff.modeling_hf_nomic_bert:<All keys matched successfully>\n"
          ]
        }
      ],
      "source": [
        "\n",
        "#load embeddings model from google drive using folder: /content/drive/MyDrive/Date Aware Embeddings Model/nomicdateaware_v1/final\n",
        "from sentence_transformers import SentenceTransformer\n",
        "\n",
        "# amv1 = SentenceTransformer(\"/content/drive/MyDrive/Date Aware Embeddings Model/timely-snowflake-arctic-embed-m_v2\", trust_remote_code=True)\n",
        "# #asv2_8k = SentenceTransformer(\"/content/drive/MyDrive/Date Aware Embeddings Model/timely-snowflake-arctic-embed-s_v2-8000\", trust_remote_code=True)\n",
        "# #asv2_12k = SentenceTransformer(\"/content/drive/MyDrive/Date Aware Embeddings Model/timely-snowflake-arctic-embed-s_v2-12000\", trust_remote_code=True)\n",
        "# asv2 = SentenceTransformer(\"/content/drive/MyDrive/Date Aware Embeddings Model/timely-snowflake-arctic-embed-s_v2\", trust_remote_code=True)\n",
        "# asv1 = SentenceTransforme r(\"/content/drive/MyDrive/Date Aware Embeddings Model/timely-snowflake-arctic-embed-s_v1\", trust_remote_code=True)\n",
        "# original_arctic_model = SentenceTransformer(\"snowflake/arctic-embed-s\", trust_remote_code=True)\n",
        "#v11 = SentenceTransformer(\"/content/drive/MyDrive/Date Aware Embeddings Model/nomicdateaware_v11\", trust_remote_code=True)\n",
        "nomic_v1 = SentenceTransformer(\"/content/drive/MyDrive/Date Aware Embeddings Model/nomicdateaware_v1/final\", trust_remote_code=True)\n",
        "nomic_v2 = SentenceTransformer(\"/content/drive/MyDrive/Date Aware Embeddings Model/nomicdateaware_v2/final\", trust_remote_code=True)\n",
        "nomic_v3 = SentenceTransformer(\"/content/drive/MyDrive/Date Aware Embeddings Model/nomicdateawarev3_5\", trust_remote_code=True)\n",
        "nomic_v4 = SentenceTransformer(\"/content/drive/MyDrive/Date Aware Embeddings Model/nomicdateaware_v45\", trust_remote_code=True)\n",
        "nomic_v5 = SentenceTransformer(\"/content/drive/MyDrive/Date Aware Embeddings Model/nomicdateaware_v55\", trust_remote_code=True)\n",
        "nomic_v6 = SentenceTransformer(\"/content/drive/MyDrive/Date Aware Embeddings Model/nomicdateaware_v67\", trust_remote_code=True)\n",
        "nomic_v7 = SentenceTransformer(\"/content/drive/MyDrive/Date Aware Embeddings Model/nomicdateaware_v7\", trust_remote_code=True)\n",
        "nomic_v8 = SentenceTransformer(\"/content/drive/MyDrive/Date Aware Embeddings Model/nomicdateaware_v8\", trust_remote_code=True)\n",
        "#nomic_v9 = SentenceTransformer(\"/content/drive/MyDrive/Date Aware Embeddings Model/nomicdateaware_v9\", trust_remote_code=True)\n",
        "# arctic_lv9 = SentenceTransformer(\"/content/drive/MyDrive/Date Aware Embeddings Model/timely-snowflake-arctic-embed-l-v9\", trust_remote_code=True)\n",
        "# arctic_mv9 = SentenceTransformer(\"/content/drive/MyDrive/Date Aware Embeddings Model/timely-snowflake-arctic-embed-m-v9\", trust_remote_code=True)\n",
        "# arctic_sv9 = SentenceTransformer(\"/content/drive/MyDrive/Date Aware Embeddings Model/timely-snowflake-arctic-embed-s-v9\", trust_remote_code=True)\n",
        "#BASE MODELS\n",
        "# nomic_base = SentenceTransformer(\"nomic-ai/nomic-embed-text-v1\", trust_remote_code=True)\n",
        "# arctic_s = SentenceTransformer(\"Snowflake/snowflake-arctic-embed-s\", trust_remote_code=True)\n",
        "# arctic_m = SentenceTransformer(\"Snowflake/snowflake-arctic-embed-m\", trust_remote_code=True)\n",
        "# arctic_l = SentenceTransformer(\"Snowflake/snowflake-arctic-embed-l\", trust_remote_code=True)\n",
        "#v8 = SentenceTransformer(\"/content/drive/MyDrive/Date Aware Embeddings Model/nomicdateaware_v8\", trust_remote_code=True)\n",
        "# v7 = SentenceTransformer(\"/content/drive/MyDrive/Date Aware Embeddings Model/nomicdateaware_v7\", trust_remote_code=True)\n",
        "# v5 = SentenceTransformer(\"/content/drive/MyDrive/Date Aware Embeddings Model/nomicdateaware_v55\", trust_remote_code=True)\n",
        "#v2 = SentenceTransformer(\"/content/drive/MyDrive/Date Aware Embeddings Model/nomicdateaware_v2/final\", trust_remote_code=True)\n",
        "#original_model = SentenceTransformer(\"nomic-ai/nomic-embed-text-v1\", trust_remote_code=True)\n",
        "\n",
        "models = [\n",
        "#     (amv2, \"Finetuned snowflake/arctic-embed-m-v2\"),\n",
        "# #    (asv2_8k, \"Finetuned snowflake/arctic-embed-s-v2-8k\"),\n",
        "# #    (asv2_12k, \"Finetuned snowflake/arctic-embed-s-v2-12k\"),\n",
        "#     (asv2, \"Finetuned snowflake/arctic-embed-s-v2\"),\n",
        "#     (asv1, \"Finetuned snowflake/arctic-embed-s-v1\"),\n",
        "    #(v11, \"Fine Tuned nomic-embed-v11\")\n",
        "    (nomic_v1, \"Fine Tuned nomic-embed-v1\"),\n",
        "    (nomic_v2, \"Fine Tuned nomic-embed-v2\"),\n",
        "    (nomic_v3, \"Fine Tuned nomic-embed-v3\"),\n",
        "    (nomic_v4, \"Fine Tuned nomic-embed-v4\"),\n",
        "    (nomic_v5, \"Fine Tuned nomic-embed-v5\"),\n",
        "    (nomic_v6, \"Fine Tuned nomic-embed-v6\"),\n",
        "    (nomic_v7, \"Fine Tuned nomic-embed-v7\"),\n",
        "    (nomic_v8, \"Fine Tuned nomic-embed-v8\"),\n",
        "    # (arctic_sv9, \"Fine Tuned arctic-embed-s-v9\"),\n",
        "    # (arctic_s, \"arctic-embed-s\"),\n",
        "    # (nomic_v9, \"Fine Tuned nomic-embed-v9\"),\n",
        "    # (nomic_base, \"nomic-embed-v1\"),\n",
        "    # (arctic_lv9, \"Fine Tuned arctic-embed-l-v9\"),\n",
        "    # (arctic_mv9, \"Fine Tuned arctic-embed-m-v9\"),\n",
        "    # (arctic_m, \"arctic-embed-m\"),\n",
        "    # (arctic_l, \"arctic-embed-l\")\n",
        "\n",
        "           #(v8, \"Fine Tuned nomic-embed-v8\"),\n",
        "    # (v7, \"Fine Tuned nomic-embed-v7\"),\n",
        "    # (v5, \"Fine Tuned nomic-embed-v5\"),\n",
        "    #(v2, \"Fine Tuned nomic-embed-v2\"),\n",
        "    # (original_arctic_model, \"Original Arctic\"),\n",
        "    #(original_model, \"Original Nomic\")\n",
        "]"
      ]
    },
    {
      "cell_type": "code",
      "source": [
        "#@title Query, Document Similarity Test\n",
        "query = \"What was I doing last year? current date:12/01/23\" # @param {type:\"string\"}\n",
        "first_doc = \"Paris is an interesting city with the eiffel tower. It also has good bread. The birds are pretty cool. Posted 12/01/03\" #@param {type:\"string\"}\n",
        "second_doc = \"Paris is an interesting city with the eiffel tower. It also has good bread. The birds are pretty cool. Posted 12/01/22\" #@param {type:\"string\"}\n",
        "\n",
        "import numpy as np\n",
        "paris_chunk = \"Paris[a] is the capital and largest city of France. With an official estimated population of 2,102,650 residents as of 1 January 2023[2] in an area of more than 105 km2 (41 sq mi),[5] Paris is the fourth-largest city in the European Union and the 30th most densely populated city in the world in 2022.[6] Since the 17th century, Paris has been one of the world's major centres of finance, diplomacy, commerce, culture, fashion, and gastronomy. For its leading role in the arts and sciences, as well as its early and extensive system of street lighting, in the 19th century, it became known as the City of Light.[7] The City of Paris is the centre of the Île-de-France region, or Paris Region, with an official estimated population of 12,271,794 inhabitants on 1 January 2023, or about 19% of the population of France.[2] The Paris Region had a GDP of €765 billion (US$1.064 trillion, PPP)[8] in 2021, the highest in the European Union.[9] According to the Economist Intelligence Unit Worldwide Cost of Living Survey, in 2022, Paris was the city with the ninth-highest cost of living in the world\"\n",
        "sentences = [f\"search_query: {query}\",\n",
        "             f\"search_document: {first_doc}\",\n",
        "             f\"search_document: {second_doc}\"]\n",
        "\n",
        "def run_vibe(model, sentences, title=\"Fine Tuned\"):\n",
        "  embeddings = model.encode(sentences)\n",
        "  sentence1_embedding = embeddings[0]\n",
        "  sentence2_embedding = embeddings[1]\n",
        "  sentence3_embedding = embeddings[2]\n",
        "  cosine_similarity = np.dot(sentence1_embedding, sentence2_embedding) / (np.linalg.norm(sentence1_embedding) * np.linalg.norm(sentence2_embedding))\n",
        "  print(f\"{title}: \", cosine_similarity)\n",
        "  cosine_similarity = np.dot(sentence1_embedding, sentence3_embedding) / (np.linalg.norm(sentence1_embedding) * np.linalg.norm(sentence3_embedding))\n",
        "  print(f\"{title}: \", cosine_similarity)\n",
        "  print(\"-------------\")\n",
        "\n",
        "for model, title in models:\n",
        "  run_vibe(model, sentences, title)"
      ],
      "metadata": {
        "colab": {
          "base_uri": "https://localhost:8080/"
        },
        "id": "zRHW19KY4gMa",
        "outputId": "5f2011f4-dc09-44a7-ae51-abe16ff56062"
      },
      "execution_count": null,
      "outputs": [
        {
          "output_type": "stream",
          "name": "stdout",
          "text": [
            "Fine Tuned nomic-embed-v8:  -0.020986598\n",
            "Fine Tuned nomic-embed-v8:  0.31811506\n",
            "-------------\n",
            "Fine Tuned nomic-embed-v7:  0.046657965\n",
            "Fine Tuned nomic-embed-v7:  0.29622474\n",
            "-------------\n",
            "Fine Tuned nomic-embed-v5:  -0.0744012\n",
            "Fine Tuned nomic-embed-v5:  0.21829869\n",
            "-------------\n",
            "Fine Tuned nomic-embed-v2:  0.10677797\n",
            "Fine Tuned nomic-embed-v2:  0.1272008\n",
            "-------------\n",
            "Original Nomic:  0.28241998\n",
            "Original Nomic:  0.28390595\n",
            "-------------\n"
          ]
        }
      ]
    },
    {
      "cell_type": "code",
      "source": [
        "from mteb import MTEB\n",
        "evaluation = MTEB(tasks=['Banking77Classification'])\n",
        "\n",
        "results = evaluation.run(arctic_v9, output_folder=f\"results/t9\")\n",
        "print(results)\n",
        "# results = evaluation.run(v9, output_folder=f\"results/t9\")\n",
        "# print(results)\n",
        "# results = evaluation.run(v6, output_folder=f\"results/t6\")\n",
        "# print(results)\n",
        "# results = evaluation.run(v5, output_folder=f\"results/t5\")\n",
        "# print(results)\n",
        "# results = evaluation.run(v4, output_folder=f\"results/t4\")\n",
        "# print(results)\n",
        "# results = evaluation.run(tuned_model2, output_folder=f\"results/t2\")\n",
        "# print(results)\n",
        "# results = evaluation.run(tuned_model, output_folder=f\"results/t1\")\n",
        "# print(results)\n",
        "# results = evaluation.run(original_model, output_folder=f\"results/o\")\n",
        "# print(results)"
      ],
      "metadata": {
        "colab": {
          "base_uri": "https://localhost:8080/",
          "height": 174
        },
        "id": "hHr0YYuz3XzA",
        "outputId": "50dab1ae-5c8b-45d9-e852-e10cdfd443c5"
      },
      "execution_count": null,
      "outputs": [
        {
          "output_type": "stream",
          "name": "stderr",
          "text": [
            "WARNING:mteb.evaluation.MTEB:Passing task names as strings is deprecated and will be removed in the next release. Please use `tasks = mteb.get_tasks(tasks=[...])` method to get tasks instead.\n"
          ]
        },
        {
          "output_type": "display_data",
          "data": {
            "text/plain": [
              "\u001b[38;5;235m───────────────────────────────────────────────── \u001b[0m\u001b[1mSelected tasks \u001b[0m\u001b[38;5;235m ─────────────────────────────────────────────────\u001b[0m\n"
            ],
            "text/html": [
              "<pre style=\"white-space:pre;overflow-x:auto;line-height:normal;font-family:Menlo,'DejaVu Sans Mono',consolas,'Courier New',monospace\"><span style=\"color: #262626; text-decoration-color: #262626\">───────────────────────────────────────────────── </span><span style=\"font-weight: bold\">Selected tasks </span><span style=\"color: #262626; text-decoration-color: #262626\"> ─────────────────────────────────────────────────</span>\n",
              "</pre>\n"
            ]
          },
          "metadata": {}
        },
        {
          "output_type": "display_data",
          "data": {
            "text/plain": [
              "\u001b[1mClassification\u001b[0m\n"
            ],
            "text/html": [
              "<pre style=\"white-space:pre;overflow-x:auto;line-height:normal;font-family:Menlo,'DejaVu Sans Mono',consolas,'Courier New',monospace\"><span style=\"font-weight: bold\">Classification</span>\n",
              "</pre>\n"
            ]
          },
          "metadata": {}
        },
        {
          "output_type": "display_data",
          "data": {
            "text/plain": [
              "    - Banking77Classification, \u001b[3;38;5;241ms2s\u001b[0m\n"
            ],
            "text/html": [
              "<pre style=\"white-space:pre;overflow-x:auto;line-height:normal;font-family:Menlo,'DejaVu Sans Mono',consolas,'Courier New',monospace\">    - Banking77Classification, <span style=\"color: #626262; text-decoration-color: #626262; font-style: italic\">s2s</span>\n",
              "</pre>\n"
            ]
          },
          "metadata": {}
        },
        {
          "output_type": "display_data",
          "data": {
            "text/plain": [
              "\n",
              "\n"
            ],
            "text/html": [
              "<pre style=\"white-space:pre;overflow-x:auto;line-height:normal;font-family:Menlo,'DejaVu Sans Mono',consolas,'Courier New',monospace\">\n",
              "\n",
              "</pre>\n"
            ]
          },
          "metadata": {}
        },
        {
          "output_type": "stream",
          "name": "stderr",
          "text": [
            "/usr/local/lib/python3.10/dist-packages/joblib/externals/loky/backend/fork_exec.py:38: RuntimeWarning: os.fork() was called. os.fork() is incompatible with multithreaded code, and JAX is multithreaded, so this will likely lead to a deadlock.\n",
            "  pid = os.fork()\n"
          ]
        },
        {
          "output_type": "stream",
          "name": "stdout",
          "text": [
            "[MTEBResults(task_name=Banking77Classification, scores=...)]\n"
          ]
        }
      ]
    },
    {
      "cell_type": "code",
      "source": [
        "#CUSTOM BENCHMARKING\n",
        "#open /content/benchmark.txt file\n",
        "import numpy as np\n",
        "with open(\"/content/drive/MyDrive/Date Aware Embeddings Model/bench_diverse_stable.txt\", \"r\") as f:\n",
        "  lines_retro = f.readlines()\n",
        "\n",
        "with open(\"/content/drive/MyDrive/Date Aware Embeddings Model/bench_diverse_stable_v9.txt\", \"r\") as f:\n",
        "  lines_modern = f.readlines()\n",
        "\n",
        "#for each line there is a query, doc1, and doc2, and correct answer (1 if doc1 is closer to query)\n",
        "def run_benchmark(model, lines, is_arctic=True):\n",
        "    total = float(len(lines))\n",
        "    correct = 0.0\n",
        "    for line in lines:\n",
        "      if line.count(\"|\") != 3:\n",
        "        #print(\"pass\")\n",
        "        pass\n",
        "      try:\n",
        "        query, doc1, doc2, score = line.split(\"|\")\n",
        "      except:\n",
        "        print()\n",
        "      #query, doc1, doc2, score = line.split(\"|\")\n",
        "      score = int(score)\n",
        "      # query, doc1, doc2, score = line.split(\"|\")\n",
        "      if not is_arctic:\n",
        "        query = \"search_query: \" + query\n",
        "        doc1 = \"search_document: \" + doc1\n",
        "        doc2 = \"search_document: \" + doc2\n",
        "      else:\n",
        "        query = \"query: \" + query\n",
        "        doc1 = \"passage: \" + doc1\n",
        "        doc2 = \"passage: \" + doc2\n",
        "      embeddings = model.encode([query, doc1, doc2])\n",
        "      query_embedding = embeddings[0]\n",
        "      doc1_embedding = embeddings[1]\n",
        "      doc2_embedding = embeddings[2]\n",
        "      #print(query_embedding, doc1_embedding, doc2_embedding)\n",
        "      similarity_doc1 = np.dot(query_embedding, doc1_embedding) / (np.linalg.norm(query_embedding) * np.linalg.norm(doc1_embedding))\n",
        "      similarity_doc2 = np.dot(query_embedding, doc2_embedding) / (np.linalg.norm(query_embedding) * np.linalg.norm(doc2_embedding))\n",
        "      if similarity_doc1 > similarity_doc2 and score == 1:\n",
        "        correct += 1.0\n",
        "      elif similarity_doc1 < similarity_doc2 and score == 0:\n",
        "        correct += 1.0\n",
        "\n",
        "    return float(correct / total)\n",
        "\n",
        "#run the benchmark on all models\n",
        "for model, title in models:\n",
        "  # if \"v9\" in title:\n",
        "  lines = lines_retro\n",
        "  # else:\n",
        "  #   lines = lines_retro\n",
        "  if \"arctic\" in title:\n",
        "    is_arctic = True\n",
        "  else:\n",
        "    is_arctic = False\n",
        "  score = run_benchmark(model, lines, is_arctic)\n",
        "  print(f\"{title}: \", score)"
      ],
      "metadata": {
        "colab": {
          "base_uri": "https://localhost:8080/"
        },
        "id": "1NuY23V4psO9",
        "outputId": "874ad620-c044-4d51-e362-a968788e5113"
      },
      "execution_count": null,
      "outputs": [
        {
          "output_type": "stream",
          "name": "stdout",
          "text": [
            "Fine Tuned nomic-embed-v1:  0.8425\n",
            "Fine Tuned nomic-embed-v2:  0.8254\n",
            "Fine Tuned nomic-embed-v3:  0.8081\n",
            "Fine Tuned nomic-embed-v4:  0.827\n",
            "Fine Tuned nomic-embed-v5:  0.9206\n",
            "Fine Tuned nomic-embed-v6:  0.9071\n",
            "Fine Tuned nomic-embed-v7:  0.9634\n",
            "Fine Tuned nomic-embed-v8:  0.9624\n"
          ]
        }
      ]
    },
    {
      "cell_type": "code",
      "source": [],
      "metadata": {
        "id": "E9N69vjyZ7AB"
      },
      "execution_count": null,
      "outputs": []
    }
  ]
}